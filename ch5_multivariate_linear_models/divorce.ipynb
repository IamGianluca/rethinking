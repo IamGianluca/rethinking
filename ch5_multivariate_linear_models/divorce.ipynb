{
 "cells": [
  {
   "cell_type": "code",
   "execution_count": 18,
   "metadata": {},
   "outputs": [
    {
     "data": {
      "text/html": [
       "\n",
       "    <div class=\"bk-root\">\n",
       "        <a href=\"https://bokeh.pydata.org\" target=\"_blank\" class=\"bk-logo bk-logo-small bk-logo-notebook\"></a>\n",
       "        <span id=\"2a74590c-87d8-4c88-93bd-13f7d3fa14d5\">Loading BokehJS ...</span>\n",
       "    </div>"
      ]
     },
     "metadata": {},
     "output_type": "display_data"
    },
    {
     "data": {
      "application/javascript": [
       "\n",
       "(function(root) {\n",
       "  function now() {\n",
       "    return new Date();\n",
       "  }\n",
       "\n",
       "  var force = true;\n",
       "\n",
       "  if (typeof (root._bokeh_onload_callbacks) === \"undefined\" || force === true) {\n",
       "    root._bokeh_onload_callbacks = [];\n",
       "    root._bokeh_is_loading = undefined;\n",
       "  }\n",
       "\n",
       "  var JS_MIME_TYPE = 'application/javascript';\n",
       "  var HTML_MIME_TYPE = 'text/html';\n",
       "  var EXEC_MIME_TYPE = 'application/vnd.bokehjs_exec.v0+json';\n",
       "  var CLASS_NAME = 'output_bokeh rendered_html';\n",
       "\n",
       "  /**\n",
       "   * Render data to the DOM node\n",
       "   */\n",
       "  function render(props, node) {\n",
       "    var script = document.createElement(\"script\");\n",
       "    node.appendChild(script);\n",
       "  }\n",
       "\n",
       "  /**\n",
       "   * Handle when an output is cleared or removed\n",
       "   */\n",
       "  function handleClearOutput(event, handle) {\n",
       "    var cell = handle.cell;\n",
       "\n",
       "    var id = cell.output_area._bokeh_element_id;\n",
       "    var server_id = cell.output_area._bokeh_server_id;\n",
       "    // Clean up Bokeh references\n",
       "    if (id !== undefined) {\n",
       "      Bokeh.index[id].model.document.clear();\n",
       "      delete Bokeh.index[id];\n",
       "    }\n",
       "\n",
       "    if (server_id !== undefined) {\n",
       "      // Clean up Bokeh references\n",
       "      var cmd = \"from bokeh.io.state import curstate; print(curstate().uuid_to_server['\" + server_id + \"'].get_sessions()[0].document.roots[0]._id)\";\n",
       "      cell.notebook.kernel.execute(cmd, {\n",
       "        iopub: {\n",
       "          output: function(msg) {\n",
       "            var element_id = msg.content.text.trim();\n",
       "            Bokeh.index[element_id].model.document.clear();\n",
       "            delete Bokeh.index[element_id];\n",
       "          }\n",
       "        }\n",
       "      });\n",
       "      // Destroy server and session\n",
       "      var cmd = \"import bokeh.io.notebook as ion; ion.destroy_server('\" + server_id + \"')\";\n",
       "      cell.notebook.kernel.execute(cmd);\n",
       "    }\n",
       "  }\n",
       "\n",
       "  /**\n",
       "   * Handle when a new output is added\n",
       "   */\n",
       "  function handleAddOutput(event, handle) {\n",
       "    var output_area = handle.output_area;\n",
       "    var output = handle.output;\n",
       "\n",
       "    // limit handleAddOutput to display_data with EXEC_MIME_TYPE content only\n",
       "    if ((output.output_type != \"display_data\") || (!output.data.hasOwnProperty(EXEC_MIME_TYPE))) {\n",
       "      return\n",
       "    }\n",
       "\n",
       "    var toinsert = output_area.element.find(\".\" + CLASS_NAME.split(' ')[0]);\n",
       "\n",
       "    if (output.metadata[EXEC_MIME_TYPE][\"id\"] !== undefined) {\n",
       "      toinsert[0].firstChild.textContent = output.data[JS_MIME_TYPE];\n",
       "      // store reference to embed id on output_area\n",
       "      output_area._bokeh_element_id = output.metadata[EXEC_MIME_TYPE][\"id\"];\n",
       "    }\n",
       "    if (output.metadata[EXEC_MIME_TYPE][\"server_id\"] !== undefined) {\n",
       "      var bk_div = document.createElement(\"div\");\n",
       "      bk_div.innerHTML = output.data[HTML_MIME_TYPE];\n",
       "      var script_attrs = bk_div.children[0].attributes;\n",
       "      for (var i = 0; i < script_attrs.length; i++) {\n",
       "        toinsert[0].firstChild.setAttribute(script_attrs[i].name, script_attrs[i].value);\n",
       "      }\n",
       "      // store reference to server id on output_area\n",
       "      output_area._bokeh_server_id = output.metadata[EXEC_MIME_TYPE][\"server_id\"];\n",
       "    }\n",
       "  }\n",
       "\n",
       "  function register_renderer(events, OutputArea) {\n",
       "\n",
       "    function append_mime(data, metadata, element) {\n",
       "      // create a DOM node to render to\n",
       "      var toinsert = this.create_output_subarea(\n",
       "        metadata,\n",
       "        CLASS_NAME,\n",
       "        EXEC_MIME_TYPE\n",
       "      );\n",
       "      this.keyboard_manager.register_events(toinsert);\n",
       "      // Render to node\n",
       "      var props = {data: data, metadata: metadata[EXEC_MIME_TYPE]};\n",
       "      render(props, toinsert[0]);\n",
       "      element.append(toinsert);\n",
       "      return toinsert\n",
       "    }\n",
       "\n",
       "    /* Handle when an output is cleared or removed */\n",
       "    events.on('clear_output.CodeCell', handleClearOutput);\n",
       "    events.on('delete.Cell', handleClearOutput);\n",
       "\n",
       "    /* Handle when a new output is added */\n",
       "    events.on('output_added.OutputArea', handleAddOutput);\n",
       "\n",
       "    /**\n",
       "     * Register the mime type and append_mime function with output_area\n",
       "     */\n",
       "    OutputArea.prototype.register_mime_type(EXEC_MIME_TYPE, append_mime, {\n",
       "      /* Is output safe? */\n",
       "      safe: true,\n",
       "      /* Index of renderer in `output_area.display_order` */\n",
       "      index: 0\n",
       "    });\n",
       "  }\n",
       "\n",
       "  // register the mime type if in Jupyter Notebook environment and previously unregistered\n",
       "  if (root.Jupyter !== undefined) {\n",
       "    var events = require('base/js/events');\n",
       "    var OutputArea = require('notebook/js/outputarea').OutputArea;\n",
       "\n",
       "    if (OutputArea.prototype.mime_types().indexOf(EXEC_MIME_TYPE) == -1) {\n",
       "      register_renderer(events, OutputArea);\n",
       "    }\n",
       "  }\n",
       "\n",
       "  \n",
       "  if (typeof (root._bokeh_timeout) === \"undefined\" || force === true) {\n",
       "    root._bokeh_timeout = Date.now() + 5000;\n",
       "    root._bokeh_failed_load = false;\n",
       "  }\n",
       "\n",
       "  var NB_LOAD_WARNING = {'data': {'text/html':\n",
       "     \"<div style='background-color: #fdd'>\\n\"+\n",
       "     \"<p>\\n\"+\n",
       "     \"BokehJS does not appear to have successfully loaded. If loading BokehJS from CDN, this \\n\"+\n",
       "     \"may be due to a slow or bad network connection. Possible fixes:\\n\"+\n",
       "     \"</p>\\n\"+\n",
       "     \"<ul>\\n\"+\n",
       "     \"<li>re-rerun `output_notebook()` to attempt to load from CDN again, or</li>\\n\"+\n",
       "     \"<li>use INLINE resources instead, as so:</li>\\n\"+\n",
       "     \"</ul>\\n\"+\n",
       "     \"<code>\\n\"+\n",
       "     \"from bokeh.resources import INLINE\\n\"+\n",
       "     \"output_notebook(resources=INLINE)\\n\"+\n",
       "     \"</code>\\n\"+\n",
       "     \"</div>\"}};\n",
       "\n",
       "  function display_loaded() {\n",
       "    var el = document.getElementById(\"2a74590c-87d8-4c88-93bd-13f7d3fa14d5\");\n",
       "    if (el != null) {\n",
       "      el.textContent = \"BokehJS is loading...\";\n",
       "    }\n",
       "    if (root.Bokeh !== undefined) {\n",
       "      if (el != null) {\n",
       "        el.textContent = \"BokehJS \" + root.Bokeh.version + \" successfully loaded.\";\n",
       "      }\n",
       "    } else if (Date.now() < root._bokeh_timeout) {\n",
       "      setTimeout(display_loaded, 100)\n",
       "    }\n",
       "  }\n",
       "\n",
       "\n",
       "  function run_callbacks() {\n",
       "    try {\n",
       "      root._bokeh_onload_callbacks.forEach(function(callback) { callback() });\n",
       "    }\n",
       "    finally {\n",
       "      delete root._bokeh_onload_callbacks\n",
       "    }\n",
       "    console.info(\"Bokeh: all callbacks have finished\");\n",
       "  }\n",
       "\n",
       "  function load_libs(js_urls, callback) {\n",
       "    root._bokeh_onload_callbacks.push(callback);\n",
       "    if (root._bokeh_is_loading > 0) {\n",
       "      console.log(\"Bokeh: BokehJS is being loaded, scheduling callback at\", now());\n",
       "      return null;\n",
       "    }\n",
       "    if (js_urls == null || js_urls.length === 0) {\n",
       "      run_callbacks();\n",
       "      return null;\n",
       "    }\n",
       "    console.log(\"Bokeh: BokehJS not loaded, scheduling load and callback at\", now());\n",
       "    root._bokeh_is_loading = js_urls.length;\n",
       "    for (var i = 0; i < js_urls.length; i++) {\n",
       "      var url = js_urls[i];\n",
       "      var s = document.createElement('script');\n",
       "      s.src = url;\n",
       "      s.async = false;\n",
       "      s.onreadystatechange = s.onload = function() {\n",
       "        root._bokeh_is_loading--;\n",
       "        if (root._bokeh_is_loading === 0) {\n",
       "          console.log(\"Bokeh: all BokehJS libraries loaded\");\n",
       "          run_callbacks()\n",
       "        }\n",
       "      };\n",
       "      s.onerror = function() {\n",
       "        console.warn(\"failed to load library \" + url);\n",
       "      };\n",
       "      console.log(\"Bokeh: injecting script tag for BokehJS library: \", url);\n",
       "      document.getElementsByTagName(\"head\")[0].appendChild(s);\n",
       "    }\n",
       "  };var element = document.getElementById(\"2a74590c-87d8-4c88-93bd-13f7d3fa14d5\");\n",
       "  if (element == null) {\n",
       "    console.log(\"Bokeh: ERROR: autoload.js configured with elementid '2a74590c-87d8-4c88-93bd-13f7d3fa14d5' but no matching script tag was found. \")\n",
       "    return false;\n",
       "  }\n",
       "\n",
       "  var js_urls = [\"https://cdn.pydata.org/bokeh/release/bokeh-0.12.14.min.js\", \"https://cdn.pydata.org/bokeh/release/bokeh-widgets-0.12.14.min.js\", \"https://cdn.pydata.org/bokeh/release/bokeh-tables-0.12.14.min.js\", \"https://cdn.pydata.org/bokeh/release/bokeh-gl-0.12.14.min.js\"];\n",
       "\n",
       "  var inline_js = [\n",
       "    function(Bokeh) {\n",
       "      Bokeh.set_log_level(\"info\");\n",
       "    },\n",
       "    \n",
       "    function(Bokeh) {\n",
       "      \n",
       "    },\n",
       "    function(Bokeh) {\n",
       "      console.log(\"Bokeh: injecting CSS: https://cdn.pydata.org/bokeh/release/bokeh-0.12.14.min.css\");\n",
       "      Bokeh.embed.inject_css(\"https://cdn.pydata.org/bokeh/release/bokeh-0.12.14.min.css\");\n",
       "      console.log(\"Bokeh: injecting CSS: https://cdn.pydata.org/bokeh/release/bokeh-widgets-0.12.14.min.css\");\n",
       "      Bokeh.embed.inject_css(\"https://cdn.pydata.org/bokeh/release/bokeh-widgets-0.12.14.min.css\");\n",
       "      console.log(\"Bokeh: injecting CSS: https://cdn.pydata.org/bokeh/release/bokeh-tables-0.12.14.min.css\");\n",
       "      Bokeh.embed.inject_css(\"https://cdn.pydata.org/bokeh/release/bokeh-tables-0.12.14.min.css\");\n",
       "    }\n",
       "  ];\n",
       "\n",
       "  function run_inline_js() {\n",
       "    \n",
       "    if ((root.Bokeh !== undefined) || (force === true)) {\n",
       "      for (var i = 0; i < inline_js.length; i++) {\n",
       "        inline_js[i].call(root, root.Bokeh);\n",
       "      }if (force === true) {\n",
       "        display_loaded();\n",
       "      }} else if (Date.now() < root._bokeh_timeout) {\n",
       "      setTimeout(run_inline_js, 100);\n",
       "    } else if (!root._bokeh_failed_load) {\n",
       "      console.log(\"Bokeh: BokehJS failed to load within specified timeout.\");\n",
       "      root._bokeh_failed_load = true;\n",
       "    } else if (force !== true) {\n",
       "      var cell = $(document.getElementById(\"2a74590c-87d8-4c88-93bd-13f7d3fa14d5\")).parents('.cell').data().cell;\n",
       "      cell.output_area.append_execute_result(NB_LOAD_WARNING)\n",
       "    }\n",
       "\n",
       "  }\n",
       "\n",
       "  if (root._bokeh_is_loading === 0) {\n",
       "    console.log(\"Bokeh: BokehJS loaded, going straight to plotting\");\n",
       "    run_inline_js();\n",
       "  } else {\n",
       "    load_libs(js_urls, function() {\n",
       "      console.log(\"Bokeh: BokehJS plotting callback run at\", now());\n",
       "      run_inline_js();\n",
       "    });\n",
       "  }\n",
       "}(window));"
      ],
      "application/vnd.bokehjs_load.v0+json": "\n(function(root) {\n  function now() {\n    return new Date();\n  }\n\n  var force = true;\n\n  if (typeof (root._bokeh_onload_callbacks) === \"undefined\" || force === true) {\n    root._bokeh_onload_callbacks = [];\n    root._bokeh_is_loading = undefined;\n  }\n\n  \n\n  \n  if (typeof (root._bokeh_timeout) === \"undefined\" || force === true) {\n    root._bokeh_timeout = Date.now() + 5000;\n    root._bokeh_failed_load = false;\n  }\n\n  var NB_LOAD_WARNING = {'data': {'text/html':\n     \"<div style='background-color: #fdd'>\\n\"+\n     \"<p>\\n\"+\n     \"BokehJS does not appear to have successfully loaded. If loading BokehJS from CDN, this \\n\"+\n     \"may be due to a slow or bad network connection. Possible fixes:\\n\"+\n     \"</p>\\n\"+\n     \"<ul>\\n\"+\n     \"<li>re-rerun `output_notebook()` to attempt to load from CDN again, or</li>\\n\"+\n     \"<li>use INLINE resources instead, as so:</li>\\n\"+\n     \"</ul>\\n\"+\n     \"<code>\\n\"+\n     \"from bokeh.resources import INLINE\\n\"+\n     \"output_notebook(resources=INLINE)\\n\"+\n     \"</code>\\n\"+\n     \"</div>\"}};\n\n  function display_loaded() {\n    var el = document.getElementById(\"2a74590c-87d8-4c88-93bd-13f7d3fa14d5\");\n    if (el != null) {\n      el.textContent = \"BokehJS is loading...\";\n    }\n    if (root.Bokeh !== undefined) {\n      if (el != null) {\n        el.textContent = \"BokehJS \" + root.Bokeh.version + \" successfully loaded.\";\n      }\n    } else if (Date.now() < root._bokeh_timeout) {\n      setTimeout(display_loaded, 100)\n    }\n  }\n\n\n  function run_callbacks() {\n    try {\n      root._bokeh_onload_callbacks.forEach(function(callback) { callback() });\n    }\n    finally {\n      delete root._bokeh_onload_callbacks\n    }\n    console.info(\"Bokeh: all callbacks have finished\");\n  }\n\n  function load_libs(js_urls, callback) {\n    root._bokeh_onload_callbacks.push(callback);\n    if (root._bokeh_is_loading > 0) {\n      console.log(\"Bokeh: BokehJS is being loaded, scheduling callback at\", now());\n      return null;\n    }\n    if (js_urls == null || js_urls.length === 0) {\n      run_callbacks();\n      return null;\n    }\n    console.log(\"Bokeh: BokehJS not loaded, scheduling load and callback at\", now());\n    root._bokeh_is_loading = js_urls.length;\n    for (var i = 0; i < js_urls.length; i++) {\n      var url = js_urls[i];\n      var s = document.createElement('script');\n      s.src = url;\n      s.async = false;\n      s.onreadystatechange = s.onload = function() {\n        root._bokeh_is_loading--;\n        if (root._bokeh_is_loading === 0) {\n          console.log(\"Bokeh: all BokehJS libraries loaded\");\n          run_callbacks()\n        }\n      };\n      s.onerror = function() {\n        console.warn(\"failed to load library \" + url);\n      };\n      console.log(\"Bokeh: injecting script tag for BokehJS library: \", url);\n      document.getElementsByTagName(\"head\")[0].appendChild(s);\n    }\n  };var element = document.getElementById(\"2a74590c-87d8-4c88-93bd-13f7d3fa14d5\");\n  if (element == null) {\n    console.log(\"Bokeh: ERROR: autoload.js configured with elementid '2a74590c-87d8-4c88-93bd-13f7d3fa14d5' but no matching script tag was found. \")\n    return false;\n  }\n\n  var js_urls = [\"https://cdn.pydata.org/bokeh/release/bokeh-0.12.14.min.js\", \"https://cdn.pydata.org/bokeh/release/bokeh-widgets-0.12.14.min.js\", \"https://cdn.pydata.org/bokeh/release/bokeh-tables-0.12.14.min.js\", \"https://cdn.pydata.org/bokeh/release/bokeh-gl-0.12.14.min.js\"];\n\n  var inline_js = [\n    function(Bokeh) {\n      Bokeh.set_log_level(\"info\");\n    },\n    \n    function(Bokeh) {\n      \n    },\n    function(Bokeh) {\n      console.log(\"Bokeh: injecting CSS: https://cdn.pydata.org/bokeh/release/bokeh-0.12.14.min.css\");\n      Bokeh.embed.inject_css(\"https://cdn.pydata.org/bokeh/release/bokeh-0.12.14.min.css\");\n      console.log(\"Bokeh: injecting CSS: https://cdn.pydata.org/bokeh/release/bokeh-widgets-0.12.14.min.css\");\n      Bokeh.embed.inject_css(\"https://cdn.pydata.org/bokeh/release/bokeh-widgets-0.12.14.min.css\");\n      console.log(\"Bokeh: injecting CSS: https://cdn.pydata.org/bokeh/release/bokeh-tables-0.12.14.min.css\");\n      Bokeh.embed.inject_css(\"https://cdn.pydata.org/bokeh/release/bokeh-tables-0.12.14.min.css\");\n    }\n  ];\n\n  function run_inline_js() {\n    \n    if ((root.Bokeh !== undefined) || (force === true)) {\n      for (var i = 0; i < inline_js.length; i++) {\n        inline_js[i].call(root, root.Bokeh);\n      }if (force === true) {\n        display_loaded();\n      }} else if (Date.now() < root._bokeh_timeout) {\n      setTimeout(run_inline_js, 100);\n    } else if (!root._bokeh_failed_load) {\n      console.log(\"Bokeh: BokehJS failed to load within specified timeout.\");\n      root._bokeh_failed_load = true;\n    } else if (force !== true) {\n      var cell = $(document.getElementById(\"2a74590c-87d8-4c88-93bd-13f7d3fa14d5\")).parents('.cell').data().cell;\n      cell.output_area.append_execute_result(NB_LOAD_WARNING)\n    }\n\n  }\n\n  if (root._bokeh_is_loading === 0) {\n    console.log(\"Bokeh: BokehJS loaded, going straight to plotting\");\n    run_inline_js();\n  } else {\n    load_libs(js_urls, function() {\n      console.log(\"Bokeh: BokehJS plotting callback run at\", now());\n      run_inline_js();\n    });\n  }\n}(window));"
     },
     "metadata": {},
     "output_type": "display_data"
    }
   ],
   "source": [
    "import os\n",
    "\n",
    "import pandas as pd\n",
    "from bokeh.plotting import figure, output_notebook, show\n",
    "from pystan import StanModel\n",
    "from sklearn.preprocessing import scale\n",
    "\n",
    "from rethinking.stan import StanCache\n",
    "from rethinking.plotting import summaryplot\n",
    "\n",
    "output_notebook()"
   ]
  },
  {
   "cell_type": "code",
   "execution_count": 19,
   "metadata": {},
   "outputs": [],
   "source": [
    "DATA_FOLDER = '../data'\n",
    "DIVORCE_FULLPATH = os.path.join(DATA_FOLDER, 'WaffleDivorce.csv')"
   ]
  },
  {
   "cell_type": "code",
   "execution_count": 20,
   "metadata": {},
   "outputs": [
    {
     "data": {
      "text/html": [
       "<div>\n",
       "<style scoped>\n",
       "    .dataframe tbody tr th:only-of-type {\n",
       "        vertical-align: middle;\n",
       "    }\n",
       "\n",
       "    .dataframe tbody tr th {\n",
       "        vertical-align: top;\n",
       "    }\n",
       "\n",
       "    .dataframe thead th {\n",
       "        text-align: right;\n",
       "    }\n",
       "</style>\n",
       "<table border=\"1\" class=\"dataframe\">\n",
       "  <thead>\n",
       "    <tr style=\"text-align: right;\">\n",
       "      <th></th>\n",
       "      <th>Location</th>\n",
       "      <th>Loc</th>\n",
       "      <th>Population</th>\n",
       "      <th>MedianAgeMarriage</th>\n",
       "      <th>Marriage</th>\n",
       "      <th>Marriage SE</th>\n",
       "      <th>Divorce</th>\n",
       "      <th>Divorce SE</th>\n",
       "      <th>WaffleHouses</th>\n",
       "      <th>South</th>\n",
       "      <th>Slaves1860</th>\n",
       "      <th>Population1860</th>\n",
       "      <th>PropSlaves1860</th>\n",
       "    </tr>\n",
       "  </thead>\n",
       "  <tbody>\n",
       "    <tr>\n",
       "      <th>0</th>\n",
       "      <td>Alabama</td>\n",
       "      <td>AL</td>\n",
       "      <td>4.78</td>\n",
       "      <td>25.3</td>\n",
       "      <td>20.2</td>\n",
       "      <td>1.27</td>\n",
       "      <td>12.7</td>\n",
       "      <td>0.79</td>\n",
       "      <td>128</td>\n",
       "      <td>1</td>\n",
       "      <td>435080</td>\n",
       "      <td>964201</td>\n",
       "      <td>0.45</td>\n",
       "    </tr>\n",
       "    <tr>\n",
       "      <th>1</th>\n",
       "      <td>Alaska</td>\n",
       "      <td>AK</td>\n",
       "      <td>0.71</td>\n",
       "      <td>25.2</td>\n",
       "      <td>26.0</td>\n",
       "      <td>2.93</td>\n",
       "      <td>12.5</td>\n",
       "      <td>2.05</td>\n",
       "      <td>0</td>\n",
       "      <td>0</td>\n",
       "      <td>0</td>\n",
       "      <td>0</td>\n",
       "      <td>0.00</td>\n",
       "    </tr>\n",
       "    <tr>\n",
       "      <th>2</th>\n",
       "      <td>Arizona</td>\n",
       "      <td>AZ</td>\n",
       "      <td>6.33</td>\n",
       "      <td>25.8</td>\n",
       "      <td>20.3</td>\n",
       "      <td>0.98</td>\n",
       "      <td>10.8</td>\n",
       "      <td>0.74</td>\n",
       "      <td>18</td>\n",
       "      <td>0</td>\n",
       "      <td>0</td>\n",
       "      <td>0</td>\n",
       "      <td>0.00</td>\n",
       "    </tr>\n",
       "    <tr>\n",
       "      <th>3</th>\n",
       "      <td>Arkansas</td>\n",
       "      <td>AR</td>\n",
       "      <td>2.92</td>\n",
       "      <td>24.3</td>\n",
       "      <td>26.4</td>\n",
       "      <td>1.70</td>\n",
       "      <td>13.5</td>\n",
       "      <td>1.22</td>\n",
       "      <td>41</td>\n",
       "      <td>1</td>\n",
       "      <td>111115</td>\n",
       "      <td>435450</td>\n",
       "      <td>0.26</td>\n",
       "    </tr>\n",
       "    <tr>\n",
       "      <th>4</th>\n",
       "      <td>California</td>\n",
       "      <td>CA</td>\n",
       "      <td>37.25</td>\n",
       "      <td>26.8</td>\n",
       "      <td>19.1</td>\n",
       "      <td>0.39</td>\n",
       "      <td>8.0</td>\n",
       "      <td>0.24</td>\n",
       "      <td>0</td>\n",
       "      <td>0</td>\n",
       "      <td>0</td>\n",
       "      <td>379994</td>\n",
       "      <td>0.00</td>\n",
       "    </tr>\n",
       "  </tbody>\n",
       "</table>\n",
       "</div>"
      ],
      "text/plain": [
       "     Location Loc  Population  MedianAgeMarriage  Marriage  Marriage SE  \\\n",
       "0     Alabama  AL        4.78               25.3      20.2         1.27   \n",
       "1      Alaska  AK        0.71               25.2      26.0         2.93   \n",
       "2     Arizona  AZ        6.33               25.8      20.3         0.98   \n",
       "3    Arkansas  AR        2.92               24.3      26.4         1.70   \n",
       "4  California  CA       37.25               26.8      19.1         0.39   \n",
       "\n",
       "   Divorce  Divorce SE  WaffleHouses  South  Slaves1860  Population1860  \\\n",
       "0     12.7        0.79           128      1      435080          964201   \n",
       "1     12.5        2.05             0      0           0               0   \n",
       "2     10.8        0.74            18      0           0               0   \n",
       "3     13.5        1.22            41      1      111115          435450   \n",
       "4      8.0        0.24             0      0           0          379994   \n",
       "\n",
       "   PropSlaves1860  \n",
       "0            0.45  \n",
       "1            0.00  \n",
       "2            0.00  \n",
       "3            0.26  \n",
       "4            0.00  "
      ]
     },
     "execution_count": 20,
     "metadata": {},
     "output_type": "execute_result"
    }
   ],
   "source": [
    "divorce = pd.read_csv(DIVORCE_FULLPATH)\n",
    "divorce.head()"
   ]
  },
  {
   "cell_type": "markdown",
   "metadata": {},
   "source": [
    "$$\n",
    "\\begin{align*}\n",
    "    D_i &\\sim Normal(\\mu_i, \\sigma) \\\\\n",
    "    \\mu_i &= \\alpha + \\beta_A A_i \\\\\n",
    "    \\alpha &\\sim Normal(10, 10) \\\\\n",
    "    \\beta_A &\\sim Normal(0, 1) \\\\\n",
    "    \\sigma &\\sim Uniform(0, 10)\n",
    "\\end{align*}\n",
    "$$"
   ]
  },
  {
   "cell_type": "code",
   "execution_count": 21,
   "metadata": {},
   "outputs": [
    {
     "name": "stdout",
     "output_type": "stream",
     "text": [
      "data {\n",
      "    int<lower=0> N;\n",
      "    vector[N] X;\n",
      "    vector<lower=0, upper=100>[N] divorce_rate;\n",
      "}\n",
      "parameters {\n",
      "    real alpha;\n",
      "    real beta;\n",
      "    real<lower=0> sigma;\n",
      "}\n",
      "transformed parameters {\n",
      "    vector<lower=-100, upper=100>[N] mu;\n",
      "\n",
      "    mu = alpha + X * beta;\n",
      "}\n",
      "model {\n",
      "    alpha ~ normal(10, 10);\n",
      "    beta ~ normal(0, 1);\n",
      "    sigma ~ uniform(0, 10);\n",
      "    divorce_rate ~ normal(mu, sigma);\n",
      "}\n",
      "\n"
     ]
    }
   ],
   "source": [
    "m5_1 = StanCache(filename='../models/m5_1.stan', cache_path='../cache').compile()\n",
    "m5_1.model_code"
   ]
  },
  {
   "cell_type": "code",
   "execution_count": 22,
   "metadata": {},
   "outputs": [],
   "source": [
    "divorce['MedianAgeMarriage_s'] = scale(\n",
    "    X=divorce.loc[:, ['MedianAgeMarriage']], with_mean=True, with_std=True)\n",
    "divorce['Divorce_pct'] = divorce.loc[:, 'Divorce'] / 100"
   ]
  },
  {
   "cell_type": "code",
   "execution_count": 23,
   "metadata": {},
   "outputs": [
    {
     "name": "stderr",
     "output_type": "stream",
     "text": [
      "/home/gianluca/.virtualenvs/rethinking/lib/python3.6/site-packages/pystan/misc.py:399: FutureWarning: Conversion of the second argument of issubdtype from `float` to `np.floating` is deprecated. In future, it will be treated as `np.float64 == np.dtype(float).type`.\n",
      "  elif np.issubdtype(np.asarray(v).dtype, float):\n"
     ]
    },
    {
     "name": "stdout",
     "output_type": "stream",
     "text": [
      "Inference for Stan model: anon_model_069dd64a1ee6b8cdacde859166ae13ef.\n",
      "4 chains, each with iter=500; warmup=250; thin=1; \n",
      "post-warmup draws per chain=250, total post-warmup draws=1000.\n",
      "\n",
      "        mean se_mean     sd   2.5%    25%    50%    75%  97.5%  n_eff   Rhat\n",
      "alpha   9.68  6.5e-3   0.21   9.27   9.55   9.68   9.82   10.1   1000    1.0\n",
      "beta   -1.02    0.01   0.23  -1.43  -1.19  -1.02  -0.87  -0.54    294    1.0\n",
      "sigma   1.52  6.2e-3   0.15   1.24   1.41   1.51   1.61   1.85    607    1.0\n",
      "\n",
      "Samples were drawn using NUTS at Mon Mar 12 19:11:26 2018.\n",
      "For each parameter, n_eff is a crude measure of effective sample size,\n",
      "and Rhat is the potential scale reduction factor on split chains (at \n",
      "convergence, Rhat=1).\n"
     ]
    },
    {
     "name": "stderr",
     "output_type": "stream",
     "text": [
      "/home/gianluca/git/rethinking/src/rethinking/stan.py:95: UserWarning: Pickling fit objects is an experimental feature!\n",
      "The relevant StanModel instance must be pickled along with this fit object.\n",
      "When unpickling the StanModel must be unpickled first.\n",
      "  pickle.dump(results, f)\n"
     ]
    }
   ],
   "source": [
    "divorce_data = dict(\n",
    "    N=divorce.shape[0],\n",
    "    K=1,\n",
    "    X=divorce.MedianAgeMarriage_s,\n",
    "    divorce_rate=divorce.Divorce\n",
    ")\n",
    "\n",
    "fit5_1 = m5_1.sampling(data=divorce_data, iter=500)\n",
    "print(fit5_1.stansummary(pars=['alpha', 'beta', 'sigma']))"
   ]
  },
  {
   "cell_type": "code",
   "execution_count": 24,
   "metadata": {},
   "outputs": [
    {
     "data": {
      "text/html": [
       "\n",
       "<div class=\"bk-root\">\n",
       "    <div class=\"bk-plotdiv\" id=\"37618332-a8c4-4b07-8536-683970aa21f7\"></div>\n",
       "</div>"
      ]
     },
     "metadata": {},
     "output_type": "display_data"
    },
    {
     "data": {
      "application/javascript": [
       "(function(root) {\n",
       "  function embed_document(root) {\n",
       "    \n",
       "  var docs_json = {\"94441113-0cf6-49a5-8e43-bffede51ea21\":{\"roots\":{\"references\":[{\"attributes\":{},\"id\":\"4b6f6c89-49d7-44e6-a52a-9eec3f5d9cf1\",\"type\":\"CategoricalScale\"},{\"attributes\":{},\"id\":\"c77df39b-ea52-431c-9c28-0be374eb2ee5\",\"type\":\"CategoricalTicker\"},{\"attributes\":{\"source\":{\"id\":\"b0688cc6-097a-45ce-a3be-60acce79f767\",\"type\":\"ColumnDataSource\"}},\"id\":\"3bd0491e-f212-47bf-b382-b5898c05180b\",\"type\":\"CDSView\"},{\"attributes\":{\"source\":{\"id\":\"09eb31bd-d20a-4fb1-b9be-329049dbe0ec\",\"type\":\"ColumnDataSource\"}},\"id\":\"b965c485-095c-43fc-8037-f91a7751273e\",\"type\":\"CDSView\"},{\"attributes\":{\"line_alpha\":0.1,\"line_color\":\"#1f77b4\",\"line_dash\":[6],\"x\":{\"field\":\"x\"},\"y\":{\"field\":\"y\"}},\"id\":\"96ce4bcc-f2d0-4acd-8cdf-9c10a3037e96\",\"type\":\"Line\"},{\"attributes\":{\"data_source\":{\"id\":\"b0688cc6-097a-45ce-a3be-60acce79f767\",\"type\":\"ColumnDataSource\"},\"glyph\":{\"id\":\"e4a839bc-481f-4317-977c-2754b85c9705\",\"type\":\"Circle\"},\"hover_glyph\":null,\"muted_glyph\":null,\"nonselection_glyph\":{\"id\":\"3406678e-66c3-49bb-8608-9135b24230e5\",\"type\":\"Circle\"},\"selection_glyph\":null,\"view\":{\"id\":\"3bd0491e-f212-47bf-b382-b5898c05180b\",\"type\":\"CDSView\"}},\"id\":\"848d41d8-3b75-4110-8edc-0e57ded17886\",\"type\":\"GlyphRenderer\"},{\"attributes\":{\"align\":\"center\",\"plot\":null,\"text\":\"Summary fit\"},\"id\":\"751cba83-49b0-42a7-bcef-04802e82b1d3\",\"type\":\"Title\"},{\"attributes\":{\"fill_alpha\":{\"value\":0.1},\"fill_color\":{\"value\":\"#1f77b4\"},\"line_alpha\":{\"value\":0.1},\"line_color\":{\"value\":\"#1f77b4\"},\"line_width\":{\"value\":3},\"x\":{\"field\":\"x\"},\"y\":{\"field\":\"y\"}},\"id\":\"3406678e-66c3-49bb-8608-9135b24230e5\",\"type\":\"Circle\"},{\"attributes\":{\"callback\":null,\"column_names\":[\"x0\",\"y0\",\"x1\",\"y1\"],\"data\":{\"x0\":[9.369292880079865,-1.3807244490273278,1.2822792399719019],\"x1\":[10.031559420641226,-0.6378013357905078,1.780071453945747],\"y0\":[\"alpha\",\"beta\",\"sigma\"],\"y1\":[\"alpha\",\"beta\",\"sigma\"]}},\"id\":\"bc3090ae-5717-4e92-9ccd-d1c8f537b25b\",\"type\":\"ColumnDataSource\"},{\"attributes\":{\"data_source\":{\"id\":\"09eb31bd-d20a-4fb1-b9be-329049dbe0ec\",\"type\":\"ColumnDataSource\"},\"glyph\":{\"id\":\"875f84eb-c27c-4adc-8b08-f26454ceda6a\",\"type\":\"Line\"},\"hover_glyph\":null,\"muted_glyph\":null,\"nonselection_glyph\":{\"id\":\"96ce4bcc-f2d0-4acd-8cdf-9c10a3037e96\",\"type\":\"Line\"},\"selection_glyph\":null,\"view\":{\"id\":\"b965c485-095c-43fc-8037-f91a7751273e\",\"type\":\"CDSView\"}},\"id\":\"9bd4f9dd-8f5f-43f8-bf95-06b9753ffb10\",\"type\":\"GlyphRenderer\"},{\"attributes\":{\"fill_alpha\":{\"value\":0.35},\"fill_color\":{\"value\":\"blue\"},\"line_alpha\":{\"value\":0.35},\"line_color\":{\"value\":\"blue\"},\"line_width\":{\"value\":3},\"x\":{\"field\":\"x\"},\"y\":{\"field\":\"y\"}},\"id\":\"e4a839bc-481f-4317-977c-2754b85c9705\",\"type\":\"Circle\"},{\"attributes\":{\"line_color\":\"#1f77b4\",\"line_dash\":[6],\"x\":{\"field\":\"x\"},\"y\":{\"field\":\"y\"}},\"id\":\"875f84eb-c27c-4adc-8b08-f26454ceda6a\",\"type\":\"Line\"},{\"attributes\":{},\"id\":\"50088a9a-271e-41b9-b800-071b4435c2ad\",\"type\":\"BasicTickFormatter\"},{\"attributes\":{\"callback\":null,\"column_names\":[\"x\",\"y\"],\"data\":{\"x\":[9.681451222001732,-1.0219086986197028,1.5106089903732465],\"y\":[\"alpha\",\"beta\",\"sigma\"]}},\"id\":\"b0688cc6-097a-45ce-a3be-60acce79f767\",\"type\":\"ColumnDataSource\"},{\"attributes\":{},\"id\":\"63fa89b0-6a10-4b66-a1e3-d9d95d0fc737\",\"type\":\"HelpTool\"},{\"attributes\":{},\"id\":\"dacea0f3-4611-438f-b562-5a7e18d1af4b\",\"type\":\"ResetTool\"},{\"attributes\":{},\"id\":\"1a176691-ecf5-4592-a853-eaf1cb981f43\",\"type\":\"SaveTool\"},{\"attributes\":{\"overlay\":{\"id\":\"0f16c194-5b6c-47a0-95bb-27e97d33278b\",\"type\":\"BoxAnnotation\"}},\"id\":\"f2dcbae8-4574-4026-8837-cf24963e1099\",\"type\":\"BoxZoomTool\"},{\"attributes\":{},\"id\":\"ba7d10b3-8f6a-4dd0-a5e3-364fea49f343\",\"type\":\"WheelZoomTool\"},{\"attributes\":{\"source\":{\"id\":\"bc3090ae-5717-4e92-9ccd-d1c8f537b25b\",\"type\":\"ColumnDataSource\"}},\"id\":\"3aec3bfc-987e-4654-9f24-039f55da3278\",\"type\":\"CDSView\"},{\"attributes\":{},\"id\":\"45449e5f-4934-4d16-9937-7bffb0d53c92\",\"type\":\"PanTool\"},{\"attributes\":{\"bottom_units\":\"screen\",\"fill_alpha\":{\"value\":0.5},\"fill_color\":{\"value\":\"lightgrey\"},\"left_units\":\"screen\",\"level\":\"overlay\",\"line_alpha\":{\"value\":1.0},\"line_color\":{\"value\":\"black\"},\"line_dash\":[4,4],\"line_width\":{\"value\":2},\"plot\":null,\"render_mode\":\"css\",\"right_units\":\"screen\",\"top_units\":\"screen\"},\"id\":\"0f16c194-5b6c-47a0-95bb-27e97d33278b\",\"type\":\"BoxAnnotation\"},{\"attributes\":{\"callback\":null},\"id\":\"f7a1c548-c177-41ed-b370-417a9c97ec92\",\"type\":\"DataRange1d\"},{\"attributes\":{},\"id\":\"ce1d11e4-d733-4330-9086-67f8d1c3664b\",\"type\":\"CategoricalTickFormatter\"},{\"attributes\":{\"line_color\":{\"value\":\"#1f77b4\"},\"x0\":{\"field\":\"x0\"},\"x1\":{\"field\":\"x1\"},\"y0\":{\"field\":\"y0\"},\"y1\":{\"field\":\"y1\"}},\"id\":\"fc352129-a737-41b3-9979-bf66484c92b2\",\"type\":\"Segment\"},{\"attributes\":{\"line_alpha\":{\"value\":0.1},\"line_color\":{\"value\":\"#1f77b4\"},\"x0\":{\"field\":\"x0\"},\"x1\":{\"field\":\"x1\"},\"y0\":{\"field\":\"y0\"},\"y1\":{\"field\":\"y1\"}},\"id\":\"18b0a5da-3278-4347-bbed-d6b1a4424d02\",\"type\":\"Segment\"},{\"attributes\":{\"data_source\":{\"id\":\"bc3090ae-5717-4e92-9ccd-d1c8f537b25b\",\"type\":\"ColumnDataSource\"},\"glyph\":{\"id\":\"fc352129-a737-41b3-9979-bf66484c92b2\",\"type\":\"Segment\"},\"hover_glyph\":null,\"muted_glyph\":null,\"nonselection_glyph\":{\"id\":\"18b0a5da-3278-4347-bbed-d6b1a4424d02\",\"type\":\"Segment\"},\"selection_glyph\":null,\"view\":{\"id\":\"3aec3bfc-987e-4654-9f24-039f55da3278\",\"type\":\"CDSView\"}},\"id\":\"16fba84d-ef41-4f6e-b50b-e31642d2b6e0\",\"type\":\"GlyphRenderer\"},{\"attributes\":{\"formatter\":{\"id\":\"ce1d11e4-d733-4330-9086-67f8d1c3664b\",\"type\":\"CategoricalTickFormatter\"},\"plot\":{\"id\":\"11a9c302-b112-4a98-8032-e3b49809df88\",\"subtype\":\"Figure\",\"type\":\"Plot\"},\"ticker\":{\"id\":\"c77df39b-ea52-431c-9c28-0be374eb2ee5\",\"type\":\"CategoricalTicker\"}},\"id\":\"b981fe4d-9d6c-4520-9bd6-36dc256e9654\",\"type\":\"CategoricalAxis\"},{\"attributes\":{\"callback\":null,\"column_names\":[\"x\",\"y\"],\"data\":{\"x\":[0,0],\"y\":[0,\"alpha\"]}},\"id\":\"09eb31bd-d20a-4fb1-b9be-329049dbe0ec\",\"type\":\"ColumnDataSource\"},{\"attributes\":{},\"id\":\"c6982530-86b0-4fd2-82c5-1e539ea00b3f\",\"type\":\"BasicTicker\"},{\"attributes\":{\"axis_label\":\"Value\",\"formatter\":{\"id\":\"50088a9a-271e-41b9-b800-071b4435c2ad\",\"type\":\"BasicTickFormatter\"},\"plot\":{\"id\":\"11a9c302-b112-4a98-8032-e3b49809df88\",\"subtype\":\"Figure\",\"type\":\"Plot\"},\"ticker\":{\"id\":\"c6982530-86b0-4fd2-82c5-1e539ea00b3f\",\"type\":\"BasicTicker\"}},\"id\":\"01190aca-d4d5-422b-addd-54871ec4c4f4\",\"type\":\"LinearAxis\"},{\"attributes\":{\"below\":[{\"id\":\"01190aca-d4d5-422b-addd-54871ec4c4f4\",\"type\":\"LinearAxis\"}],\"left\":[{\"id\":\"b981fe4d-9d6c-4520-9bd6-36dc256e9654\",\"type\":\"CategoricalAxis\"}],\"renderers\":[{\"id\":\"01190aca-d4d5-422b-addd-54871ec4c4f4\",\"type\":\"LinearAxis\"},{\"id\":\"6f06aadf-ae44-495a-8373-2da4ad4937d8\",\"type\":\"Grid\"},{\"id\":\"b981fe4d-9d6c-4520-9bd6-36dc256e9654\",\"type\":\"CategoricalAxis\"},{\"id\":\"bc9dd2ce-28d5-4759-9617-6c1724320753\",\"type\":\"Grid\"},{\"id\":\"0f16c194-5b6c-47a0-95bb-27e97d33278b\",\"type\":\"BoxAnnotation\"},{\"id\":\"16fba84d-ef41-4f6e-b50b-e31642d2b6e0\",\"type\":\"GlyphRenderer\"},{\"id\":\"848d41d8-3b75-4110-8edc-0e57ded17886\",\"type\":\"GlyphRenderer\"},{\"id\":\"9bd4f9dd-8f5f-43f8-bf95-06b9753ffb10\",\"type\":\"GlyphRenderer\"}],\"title\":{\"id\":\"751cba83-49b0-42a7-bcef-04802e82b1d3\",\"type\":\"Title\"},\"toolbar\":{\"id\":\"82ebb12f-5af7-4f91-8215-e534d3bff70c\",\"type\":\"Toolbar\"},\"x_range\":{\"id\":\"f7a1c548-c177-41ed-b370-417a9c97ec92\",\"type\":\"DataRange1d\"},\"x_scale\":{\"id\":\"ab59b27a-e13a-4ce5-9bdd-18849aba112c\",\"type\":\"LinearScale\"},\"y_range\":{\"id\":\"2a21958e-97d6-4150-9d84-2712bb7af601\",\"type\":\"FactorRange\"},\"y_scale\":{\"id\":\"4b6f6c89-49d7-44e6-a52a-9eec3f5d9cf1\",\"type\":\"CategoricalScale\"}},\"id\":\"11a9c302-b112-4a98-8032-e3b49809df88\",\"subtype\":\"Figure\",\"type\":\"Plot\"},{\"attributes\":{\"plot\":{\"id\":\"11a9c302-b112-4a98-8032-e3b49809df88\",\"subtype\":\"Figure\",\"type\":\"Plot\"},\"ticker\":{\"id\":\"c6982530-86b0-4fd2-82c5-1e539ea00b3f\",\"type\":\"BasicTicker\"}},\"id\":\"6f06aadf-ae44-495a-8373-2da4ad4937d8\",\"type\":\"Grid\"},{\"attributes\":{\"active_drag\":\"auto\",\"active_inspect\":\"auto\",\"active_scroll\":\"auto\",\"active_tap\":\"auto\",\"tools\":[{\"id\":\"45449e5f-4934-4d16-9937-7bffb0d53c92\",\"type\":\"PanTool\"},{\"id\":\"ba7d10b3-8f6a-4dd0-a5e3-364fea49f343\",\"type\":\"WheelZoomTool\"},{\"id\":\"f2dcbae8-4574-4026-8837-cf24963e1099\",\"type\":\"BoxZoomTool\"},{\"id\":\"1a176691-ecf5-4592-a853-eaf1cb981f43\",\"type\":\"SaveTool\"},{\"id\":\"dacea0f3-4611-438f-b562-5a7e18d1af4b\",\"type\":\"ResetTool\"},{\"id\":\"63fa89b0-6a10-4b66-a1e3-d9d95d0fc737\",\"type\":\"HelpTool\"}]},\"id\":\"82ebb12f-5af7-4f91-8215-e534d3bff70c\",\"type\":\"Toolbar\"},{\"attributes\":{\"dimension\":1,\"plot\":{\"id\":\"11a9c302-b112-4a98-8032-e3b49809df88\",\"subtype\":\"Figure\",\"type\":\"Plot\"},\"ticker\":{\"id\":\"c77df39b-ea52-431c-9c28-0be374eb2ee5\",\"type\":\"CategoricalTicker\"}},\"id\":\"bc9dd2ce-28d5-4759-9617-6c1724320753\",\"type\":\"Grid\"},{\"attributes\":{},\"id\":\"ab59b27a-e13a-4ce5-9bdd-18849aba112c\",\"type\":\"LinearScale\"},{\"attributes\":{\"callback\":null,\"factors\":[\"sigma\",\"beta\",\"alpha\"]},\"id\":\"2a21958e-97d6-4150-9d84-2712bb7af601\",\"type\":\"FactorRange\"}],\"root_ids\":[\"11a9c302-b112-4a98-8032-e3b49809df88\"]},\"title\":\"Bokeh Application\",\"version\":\"0.12.14\"}};\n",
       "  var render_items = [{\"docid\":\"94441113-0cf6-49a5-8e43-bffede51ea21\",\"elementid\":\"37618332-a8c4-4b07-8536-683970aa21f7\",\"modelid\":\"11a9c302-b112-4a98-8032-e3b49809df88\"}];\n",
       "  root.Bokeh.embed.embed_items_notebook(docs_json, render_items);\n",
       "\n",
       "  }\n",
       "  if (root.Bokeh !== undefined) {\n",
       "    embed_document(root);\n",
       "  } else {\n",
       "    var attempts = 0;\n",
       "    var timer = setInterval(function(root) {\n",
       "      if (root.Bokeh !== undefined) {\n",
       "        embed_document(root);\n",
       "        clearInterval(timer);\n",
       "      }\n",
       "      attempts++;\n",
       "      if (attempts > 100) {\n",
       "        console.log(\"Bokeh: ERROR: Unable to run BokehJS code because BokehJS library is missing\")\n",
       "        clearInterval(timer);\n",
       "      }\n",
       "    }, 10, root)\n",
       "  }\n",
       "})(window);"
      ],
      "application/vnd.bokehjs_exec.v0+json": ""
     },
     "metadata": {
      "application/vnd.bokehjs_exec.v0+json": {
       "id": "11a9c302-b112-4a98-8032-e3b49809df88"
      }
     },
     "output_type": "display_data"
    }
   ],
   "source": [
    "summaryplot(fit5_1, pars=['alpha', 'beta', 'sigma'])"
   ]
  },
  {
   "cell_type": "code",
   "execution_count": 25,
   "metadata": {},
   "outputs": [],
   "source": [
    "divorce['Marriage_s'] = scale(\n",
    "    X=divorce.loc[:, ['Marriage']], with_mean=True, with_std=True)"
   ]
  },
  {
   "cell_type": "code",
   "execution_count": 26,
   "metadata": {},
   "outputs": [
    {
     "name": "stderr",
     "output_type": "stream",
     "text": [
      "/home/gianluca/.virtualenvs/rethinking/lib/python3.6/site-packages/pystan/misc.py:399: FutureWarning: Conversion of the second argument of issubdtype from `float` to `np.floating` is deprecated. In future, it will be treated as `np.float64 == np.dtype(float).type`.\n",
      "  elif np.issubdtype(np.asarray(v).dtype, float):\n"
     ]
    },
    {
     "name": "stdout",
     "output_type": "stream",
     "text": [
      "Inference for Stan model: anon_model_069dd64a1ee6b8cdacde859166ae13ef.\n",
      "4 chains, each with iter=500; warmup=250; thin=1; \n",
      "post-warmup draws per chain=250, total post-warmup draws=1000.\n",
      "\n",
      "        mean se_mean     sd   2.5%    25%    50%    75%  97.5%  n_eff   Rhat\n",
      "alpha   9.66    0.01   0.26   9.13    9.5   9.67   9.84  10.18    634   1.01\n",
      "beta    0.64  7.3e-3   0.23   0.17   0.47   0.64    0.8   1.09   1000    1.0\n",
      "sigma   1.75  8.0e-3   0.17   1.44   1.63   1.74   1.85   2.12    474    1.0\n",
      "\n",
      "Samples were drawn using NUTS at Mon Mar 12 19:11:27 2018.\n",
      "For each parameter, n_eff is a crude measure of effective sample size,\n",
      "and Rhat is the potential scale reduction factor on split chains (at \n",
      "convergence, Rhat=1).\n"
     ]
    },
    {
     "name": "stderr",
     "output_type": "stream",
     "text": [
      "/home/gianluca/git/rethinking/src/rethinking/stan.py:95: UserWarning: Pickling fit objects is an experimental feature!\n",
      "The relevant StanModel instance must be pickled along with this fit object.\n",
      "When unpickling the StanModel must be unpickled first.\n",
      "  pickle.dump(results, f)\n"
     ]
    }
   ],
   "source": [
    "divorce2_data = dict(\n",
    "    N=divorce.shape[0],\n",
    "    K=1,\n",
    "    X=divorce.Marriage_s,\n",
    "    divorce_rate=divorce.Divorce\n",
    ")\n",
    "\n",
    "fit5_2 = m5_1.sampling(data=divorce2_data, iter=500)\n",
    "print(fit5_2.stansummary(pars=['alpha', 'beta', 'sigma']))"
   ]
  },
  {
   "cell_type": "markdown",
   "metadata": {},
   "source": [
    "# Multivariate linear model\n",
    "\n",
    "\n",
    "$$\n",
    "\\begin{align}\n",
    "    D_i &\\sim Normal(\\mu_i, \\sigma) \\\\\n",
    "    \\mu_i &= \\alpha + \\sum_{j=1}^{n} \\beta_i x_{ji} \\\\\n",
    "    \\alpha &\\sim Normal(10, 10) \\\\\n",
    "    \\beta_R &\\sim Normal(0, 1) \\\\\n",
    "    \\beta_A &\\sim Normal(0, 1) \\\\\n",
    "    \\sigma &\\sim Uniform(0, 10)\n",
    "\\end{align}\n",
    "$$"
   ]
  },
  {
   "cell_type": "code",
   "execution_count": 27,
   "metadata": {},
   "outputs": [
    {
     "name": "stdout",
     "output_type": "stream",
     "text": [
      "data {\n",
      "    int<lower=0> N;\n",
      "    int<lower=0> K;\n",
      "    matrix[N, K] X;\n",
      "    vector<lower=0, upper=100>[N] divorce_rate;\n",
      "}\n",
      "parameters {\n",
      "    real alpha;\n",
      "    vector[K] beta;\n",
      "    real<lower=0> sigma;\n",
      "}\n",
      "transformed parameters {\n",
      "    vector<lower=-100, upper=100>[N] mu;\n",
      "\n",
      "    mu = alpha + X * beta;\n",
      "}\n",
      "model {\n",
      "    alpha ~ normal(10, 10);\n",
      "    beta ~ normal(0, 1);\n",
      "    sigma ~ uniform(0, 10);\n",
      "    divorce_rate ~ normal(mu, sigma);\n",
      "}\n",
      "\n"
     ]
    }
   ],
   "source": [
    "m5_3 = StanCache(filename='../models/m5_3.stan', cache_path='../cache').compile()\n",
    "m5_3.model_code"
   ]
  },
  {
   "cell_type": "code",
   "execution_count": 28,
   "metadata": {},
   "outputs": [
    {
     "name": "stderr",
     "output_type": "stream",
     "text": [
      "/home/gianluca/.virtualenvs/rethinking/lib/python3.6/site-packages/pystan/misc.py:399: FutureWarning: Conversion of the second argument of issubdtype from `float` to `np.floating` is deprecated. In future, it will be treated as `np.float64 == np.dtype(float).type`.\n",
      "  elif np.issubdtype(np.asarray(v).dtype, float):\n"
     ]
    },
    {
     "name": "stdout",
     "output_type": "stream",
     "text": [
      "Inference for Stan model: anon_model_623c071ba8c404bae8e2868021df5aa8.\n",
      "4 chains, each with iter=500; warmup=250; thin=1; \n",
      "post-warmup draws per chain=250, total post-warmup draws=1000.\n",
      "\n",
      "          mean se_mean     sd   2.5%    25%    50%    75%  97.5%  n_eff   Rhat\n",
      "alpha     9.45    0.29   1.55   6.85   9.54   9.69   9.83  10.14     28   1.11\n",
      "beta[0]  -0.15    0.02   0.34  -0.86  -0.35  -0.14   0.05   0.51    251   1.01\n",
      "beta[1]  -1.09    0.05   0.38  -1.68  -1.32  -1.12  -0.92   -0.3     56   1.04\n",
      "sigma     1.74    0.26   1.28   1.24   1.41   1.52   1.66   4.51     25   1.12\n",
      "\n",
      "Samples were drawn using NUTS at Mon Mar  5 22:10:13 2018.\n",
      "For each parameter, n_eff is a crude measure of effective sample size,\n",
      "and Rhat is the potential scale reduction factor on split chains (at \n",
      "convergence, Rhat=1).\n"
     ]
    }
   ],
   "source": [
    "divorce_multi_data = dict(\n",
    "    N=divorce.shape[0],\n",
    "    K=2,\n",
    "    X=divorce.loc[:, ['Marriage_s', 'MedianAgeMarriage_s']],\n",
    "    divorce_rate = divorce.Divorce\n",
    ")\n",
    "\n",
    "fit5_3 = m5_3.sampling(data=divorce_multi_data, iter=500)\n",
    "print(fit5_3.stansummary(pars=['alpha', 'beta', 'sigma']))"
   ]
  },
  {
   "cell_type": "code",
   "execution_count": 29,
   "metadata": {},
   "outputs": [
    {
     "data": {
      "text/html": [
       "\n",
       "<div class=\"bk-root\">\n",
       "    <div class=\"bk-plotdiv\" id=\"0f12a047-2d22-44d9-87e3-600987a982cc\"></div>\n",
       "</div>"
      ]
     },
     "metadata": {},
     "output_type": "display_data"
    },
    {
     "data": {
      "application/javascript": [
       "(function(root) {\n",
       "  function embed_document(root) {\n",
       "    \n",
       "  var docs_json = {\"ce19b427-99b7-46d1-b150-56ad83728484\":{\"roots\":{\"references\":[{\"attributes\":{},\"id\":\"96bf30cc-615b-442f-9be8-0209160f650e\",\"type\":\"WheelZoomTool\"},{\"attributes\":{\"callback\":null,\"column_names\":[\"x0\",\"y0\",\"x1\",\"y1\"],\"data\":{\"x0\":[9.277208212543568,-0.6964082448248744,-1.6003192211451958,1.2839264014970215],\"x1\":[10.05395513320316,0.3968560026757948,-0.565494644940568,1.9301494193833095],\"y0\":[\"alpha\",\"beta[0]\",\"beta[1]\",\"sigma\"],\"y1\":[\"alpha\",\"beta[0]\",\"beta[1]\",\"sigma\"]}},\"id\":\"55f47f4e-5a05-4b22-8fba-c4842cba5969\",\"type\":\"ColumnDataSource\"},{\"attributes\":{\"fill_alpha\":{\"value\":0.1},\"fill_color\":{\"value\":\"#1f77b4\"},\"line_alpha\":{\"value\":0.1},\"line_color\":{\"value\":\"#1f77b4\"},\"line_width\":{\"value\":3},\"x\":{\"field\":\"x\"},\"y\":{\"field\":\"y\"}},\"id\":\"d844c002-8edd-4d08-a80e-566ccacdb569\",\"type\":\"Circle\"},{\"attributes\":{\"line_color\":{\"value\":\"#1f77b4\"},\"x0\":{\"field\":\"x0\"},\"x1\":{\"field\":\"x1\"},\"y0\":{\"field\":\"y0\"},\"y1\":{\"field\":\"y1\"}},\"id\":\"313fbe9c-fd6b-400e-861a-fee0f4425a0f\",\"type\":\"Segment\"},{\"attributes\":{},\"id\":\"84366b81-e936-409f-a2e8-d15257777050\",\"type\":\"PanTool\"},{\"attributes\":{\"bottom_units\":\"screen\",\"fill_alpha\":{\"value\":0.5},\"fill_color\":{\"value\":\"lightgrey\"},\"left_units\":\"screen\",\"level\":\"overlay\",\"line_alpha\":{\"value\":1.0},\"line_color\":{\"value\":\"black\"},\"line_dash\":[4,4],\"line_width\":{\"value\":2},\"plot\":null,\"render_mode\":\"css\",\"right_units\":\"screen\",\"top_units\":\"screen\"},\"id\":\"e36c10e4-62f2-48ec-8171-7ab04bc31fa9\",\"type\":\"BoxAnnotation\"},{\"attributes\":{\"align\":\"center\",\"plot\":null,\"text\":\"Summary fit\"},\"id\":\"b882ffe3-ebd1-414b-a0a1-73093b7553a9\",\"type\":\"Title\"},{\"attributes\":{},\"id\":\"e14e1278-4f46-4ff8-9cf2-8ae4b19bd7c7\",\"type\":\"CategoricalTickFormatter\"},{\"attributes\":{\"source\":{\"id\":\"90c52137-b245-49a2-b925-a4f0ee95fe90\",\"type\":\"ColumnDataSource\"}},\"id\":\"192a8a4d-8500-46e5-b36c-e755ee9cc178\",\"type\":\"CDSView\"},{\"attributes\":{\"line_alpha\":{\"value\":0.1},\"line_color\":{\"value\":\"#1f77b4\"},\"x0\":{\"field\":\"x0\"},\"x1\":{\"field\":\"x1\"},\"y0\":{\"field\":\"y0\"},\"y1\":{\"field\":\"y1\"}},\"id\":\"444bf309-79bc-41cf-90f3-7583fe370332\",\"type\":\"Segment\"},{\"attributes\":{\"data_source\":{\"id\":\"90c52137-b245-49a2-b925-a4f0ee95fe90\",\"type\":\"ColumnDataSource\"},\"glyph\":{\"id\":\"b25e7fbd-cc97-41ab-8ae1-9b5a64e13f29\",\"type\":\"Line\"},\"hover_glyph\":null,\"muted_glyph\":null,\"nonselection_glyph\":{\"id\":\"742821c1-3aff-4eed-a221-f2ee94528aa4\",\"type\":\"Line\"},\"selection_glyph\":null,\"view\":{\"id\":\"192a8a4d-8500-46e5-b36c-e755ee9cc178\",\"type\":\"CDSView\"}},\"id\":\"6f10cfff-ad44-4b38-97ab-e6fb268ab86c\",\"type\":\"GlyphRenderer\"},{\"attributes\":{\"callback\":null,\"factors\":[\"sigma\",\"beta[1]\",\"beta[0]\",\"alpha\"]},\"id\":\"72d52a08-e3b2-403f-ba32-2cfb5fe47005\",\"type\":\"FactorRange\"},{\"attributes\":{\"fill_alpha\":{\"value\":0.35},\"fill_color\":{\"value\":\"blue\"},\"line_alpha\":{\"value\":0.35},\"line_color\":{\"value\":\"blue\"},\"line_width\":{\"value\":3},\"x\":{\"field\":\"x\"},\"y\":{\"field\":\"y\"}},\"id\":\"47830686-fe51-40c1-a3b1-a0af5699784d\",\"type\":\"Circle\"},{\"attributes\":{\"line_alpha\":0.1,\"line_color\":\"#1f77b4\",\"line_dash\":[6],\"x\":{\"field\":\"x\"},\"y\":{\"field\":\"y\"}},\"id\":\"742821c1-3aff-4eed-a221-f2ee94528aa4\",\"type\":\"Line\"},{\"attributes\":{\"data_source\":{\"id\":\"55f47f4e-5a05-4b22-8fba-c4842cba5969\",\"type\":\"ColumnDataSource\"},\"glyph\":{\"id\":\"313fbe9c-fd6b-400e-861a-fee0f4425a0f\",\"type\":\"Segment\"},\"hover_glyph\":null,\"muted_glyph\":null,\"nonselection_glyph\":{\"id\":\"444bf309-79bc-41cf-90f3-7583fe370332\",\"type\":\"Segment\"},\"selection_glyph\":null,\"view\":{\"id\":\"14d4c193-77c6-45b9-8f9e-8e259430354e\",\"type\":\"CDSView\"}},\"id\":\"be1e8e8a-23a5-4fa5-b6eb-7d9717fb72c1\",\"type\":\"GlyphRenderer\"},{\"attributes\":{\"data_source\":{\"id\":\"c4298848-a117-424d-8304-f4be6178607f\",\"type\":\"ColumnDataSource\"},\"glyph\":{\"id\":\"47830686-fe51-40c1-a3b1-a0af5699784d\",\"type\":\"Circle\"},\"hover_glyph\":null,\"muted_glyph\":null,\"nonselection_glyph\":{\"id\":\"d844c002-8edd-4d08-a80e-566ccacdb569\",\"type\":\"Circle\"},\"selection_glyph\":null,\"view\":{\"id\":\"d1df6fc4-6630-43fe-8acc-104e5025e121\",\"type\":\"CDSView\"}},\"id\":\"14982ef7-f7f1-4461-bc34-358cbdebea8c\",\"type\":\"GlyphRenderer\"},{\"attributes\":{},\"id\":\"b1c056f6-b499-4dbb-b14e-de9f5e2db65e\",\"type\":\"CategoricalScale\"},{\"attributes\":{\"below\":[{\"id\":\"110b6a36-10ea-42cf-85b1-ccdb23a999e2\",\"type\":\"LinearAxis\"}],\"left\":[{\"id\":\"7bd066d1-0682-4113-af75-f60deb640f26\",\"type\":\"CategoricalAxis\"}],\"renderers\":[{\"id\":\"110b6a36-10ea-42cf-85b1-ccdb23a999e2\",\"type\":\"LinearAxis\"},{\"id\":\"dbbfb8bf-c9d8-445f-87be-a02c4faa57fe\",\"type\":\"Grid\"},{\"id\":\"7bd066d1-0682-4113-af75-f60deb640f26\",\"type\":\"CategoricalAxis\"},{\"id\":\"10777e82-9f65-48e1-bffa-f5a77b3c3026\",\"type\":\"Grid\"},{\"id\":\"e36c10e4-62f2-48ec-8171-7ab04bc31fa9\",\"type\":\"BoxAnnotation\"},{\"id\":\"be1e8e8a-23a5-4fa5-b6eb-7d9717fb72c1\",\"type\":\"GlyphRenderer\"},{\"id\":\"14982ef7-f7f1-4461-bc34-358cbdebea8c\",\"type\":\"GlyphRenderer\"},{\"id\":\"6f10cfff-ad44-4b38-97ab-e6fb268ab86c\",\"type\":\"GlyphRenderer\"}],\"title\":{\"id\":\"b882ffe3-ebd1-414b-a0a1-73093b7553a9\",\"type\":\"Title\"},\"toolbar\":{\"id\":\"de411ff1-d4a7-42dd-847f-d938c81aef50\",\"type\":\"Toolbar\"},\"x_range\":{\"id\":\"3d06ca07-878b-4fea-8edc-3254ffdd98ff\",\"type\":\"DataRange1d\"},\"x_scale\":{\"id\":\"31505fc4-7e1f-44e5-bf92-6b392554823d\",\"type\":\"LinearScale\"},\"y_range\":{\"id\":\"72d52a08-e3b2-403f-ba32-2cfb5fe47005\",\"type\":\"FactorRange\"},\"y_scale\":{\"id\":\"b1c056f6-b499-4dbb-b14e-de9f5e2db65e\",\"type\":\"CategoricalScale\"}},\"id\":\"5ad7f984-a279-4ee6-8c4a-d86b8aebdd81\",\"subtype\":\"Figure\",\"type\":\"Plot\"},{\"attributes\":{\"line_color\":\"#1f77b4\",\"line_dash\":[6],\"x\":{\"field\":\"x\"},\"y\":{\"field\":\"y\"}},\"id\":\"b25e7fbd-cc97-41ab-8ae1-9b5a64e13f29\",\"type\":\"Line\"},{\"attributes\":{},\"id\":\"44cd5cd2-12e0-4ea8-b0d1-d00766293dc1\",\"type\":\"CategoricalTicker\"},{\"attributes\":{\"source\":{\"id\":\"55f47f4e-5a05-4b22-8fba-c4842cba5969\",\"type\":\"ColumnDataSource\"}},\"id\":\"14d4c193-77c6-45b9-8f9e-8e259430354e\",\"type\":\"CDSView\"},{\"attributes\":{\"source\":{\"id\":\"c4298848-a117-424d-8304-f4be6178607f\",\"type\":\"ColumnDataSource\"}},\"id\":\"d1df6fc4-6630-43fe-8acc-104e5025e121\",\"type\":\"CDSView\"},{\"attributes\":{\"callback\":null,\"column_names\":[\"x\",\"y\"],\"data\":{\"x\":[0,0],\"y\":[0,\"alpha\"]}},\"id\":\"90c52137-b245-49a2-b925-a4f0ee95fe90\",\"type\":\"ColumnDataSource\"},{\"attributes\":{\"formatter\":{\"id\":\"e14e1278-4f46-4ff8-9cf2-8ae4b19bd7c7\",\"type\":\"CategoricalTickFormatter\"},\"plot\":{\"id\":\"5ad7f984-a279-4ee6-8c4a-d86b8aebdd81\",\"subtype\":\"Figure\",\"type\":\"Plot\"},\"ticker\":{\"id\":\"44cd5cd2-12e0-4ea8-b0d1-d00766293dc1\",\"type\":\"CategoricalTicker\"}},\"id\":\"7bd066d1-0682-4113-af75-f60deb640f26\",\"type\":\"CategoricalAxis\"},{\"attributes\":{\"callback\":null,\"column_names\":[\"x\",\"y\"],\"data\":{\"x\":[9.69027787754544,-0.14406067927234534,-1.1221277652077113,1.5182850841570767],\"y\":[\"alpha\",\"beta[0]\",\"beta[1]\",\"sigma\"]}},\"id\":\"c4298848-a117-424d-8304-f4be6178607f\",\"type\":\"ColumnDataSource\"},{\"attributes\":{\"callback\":null},\"id\":\"3d06ca07-878b-4fea-8edc-3254ffdd98ff\",\"type\":\"DataRange1d\"},{\"attributes\":{},\"id\":\"b8ac4c50-b7ee-4f0b-b6ce-a9c7136a9aa1\",\"type\":\"BasicTickFormatter\"},{\"attributes\":{\"active_drag\":\"auto\",\"active_inspect\":\"auto\",\"active_scroll\":\"auto\",\"active_tap\":\"auto\",\"tools\":[{\"id\":\"84366b81-e936-409f-a2e8-d15257777050\",\"type\":\"PanTool\"},{\"id\":\"96bf30cc-615b-442f-9be8-0209160f650e\",\"type\":\"WheelZoomTool\"},{\"id\":\"c3a108b7-624f-4907-91a7-c72b9e51f8e6\",\"type\":\"BoxZoomTool\"},{\"id\":\"bfc36caf-0619-4260-94a8-e1ec6f20361a\",\"type\":\"SaveTool\"},{\"id\":\"93736145-47e5-4cf4-ba13-53722636b34d\",\"type\":\"ResetTool\"},{\"id\":\"524dba4d-d858-4c95-901a-a2b310aaed10\",\"type\":\"HelpTool\"}]},\"id\":\"de411ff1-d4a7-42dd-847f-d938c81aef50\",\"type\":\"Toolbar\"},{\"attributes\":{},\"id\":\"61d52385-4997-403e-a22f-37e9022f9a23\",\"type\":\"BasicTicker\"},{\"attributes\":{},\"id\":\"524dba4d-d858-4c95-901a-a2b310aaed10\",\"type\":\"HelpTool\"},{\"attributes\":{\"axis_label\":\"Value\",\"formatter\":{\"id\":\"b8ac4c50-b7ee-4f0b-b6ce-a9c7136a9aa1\",\"type\":\"BasicTickFormatter\"},\"plot\":{\"id\":\"5ad7f984-a279-4ee6-8c4a-d86b8aebdd81\",\"subtype\":\"Figure\",\"type\":\"Plot\"},\"ticker\":{\"id\":\"61d52385-4997-403e-a22f-37e9022f9a23\",\"type\":\"BasicTicker\"}},\"id\":\"110b6a36-10ea-42cf-85b1-ccdb23a999e2\",\"type\":\"LinearAxis\"},{\"attributes\":{},\"id\":\"93736145-47e5-4cf4-ba13-53722636b34d\",\"type\":\"ResetTool\"},{\"attributes\":{},\"id\":\"31505fc4-7e1f-44e5-bf92-6b392554823d\",\"type\":\"LinearScale\"},{\"attributes\":{\"dimension\":1,\"plot\":{\"id\":\"5ad7f984-a279-4ee6-8c4a-d86b8aebdd81\",\"subtype\":\"Figure\",\"type\":\"Plot\"},\"ticker\":{\"id\":\"44cd5cd2-12e0-4ea8-b0d1-d00766293dc1\",\"type\":\"CategoricalTicker\"}},\"id\":\"10777e82-9f65-48e1-bffa-f5a77b3c3026\",\"type\":\"Grid\"},{\"attributes\":{},\"id\":\"bfc36caf-0619-4260-94a8-e1ec6f20361a\",\"type\":\"SaveTool\"},{\"attributes\":{\"plot\":{\"id\":\"5ad7f984-a279-4ee6-8c4a-d86b8aebdd81\",\"subtype\":\"Figure\",\"type\":\"Plot\"},\"ticker\":{\"id\":\"61d52385-4997-403e-a22f-37e9022f9a23\",\"type\":\"BasicTicker\"}},\"id\":\"dbbfb8bf-c9d8-445f-87be-a02c4faa57fe\",\"type\":\"Grid\"},{\"attributes\":{\"overlay\":{\"id\":\"e36c10e4-62f2-48ec-8171-7ab04bc31fa9\",\"type\":\"BoxAnnotation\"}},\"id\":\"c3a108b7-624f-4907-91a7-c72b9e51f8e6\",\"type\":\"BoxZoomTool\"}],\"root_ids\":[\"5ad7f984-a279-4ee6-8c4a-d86b8aebdd81\"]},\"title\":\"Bokeh Application\",\"version\":\"0.12.14\"}};\n",
       "  var render_items = [{\"docid\":\"ce19b427-99b7-46d1-b150-56ad83728484\",\"elementid\":\"0f12a047-2d22-44d9-87e3-600987a982cc\",\"modelid\":\"5ad7f984-a279-4ee6-8c4a-d86b8aebdd81\"}];\n",
       "  root.Bokeh.embed.embed_items_notebook(docs_json, render_items);\n",
       "\n",
       "  }\n",
       "  if (root.Bokeh !== undefined) {\n",
       "    embed_document(root);\n",
       "  } else {\n",
       "    var attempts = 0;\n",
       "    var timer = setInterval(function(root) {\n",
       "      if (root.Bokeh !== undefined) {\n",
       "        embed_document(root);\n",
       "        clearInterval(timer);\n",
       "      }\n",
       "      attempts++;\n",
       "      if (attempts > 100) {\n",
       "        console.log(\"Bokeh: ERROR: Unable to run BokehJS code because BokehJS library is missing\")\n",
       "        clearInterval(timer);\n",
       "      }\n",
       "    }, 10, root)\n",
       "  }\n",
       "})(window);"
      ],
      "application/vnd.bokehjs_exec.v0+json": ""
     },
     "metadata": {
      "application/vnd.bokehjs_exec.v0+json": {
       "id": "5ad7f984-a279-4ee6-8c4a-d86b8aebdd81"
      }
     },
     "output_type": "display_data"
    }
   ],
   "source": [
    "summaryplot(fit5_3, pars=['alpha', 'beta', 'sigma'])"
   ]
  },
  {
   "cell_type": "markdown",
   "metadata": {},
   "source": [
    "# Predictor residual plots"
   ]
  },
  {
   "cell_type": "code",
   "execution_count": null,
   "metadata": {},
   "outputs": [],
   "source": []
  }
 ],
 "metadata": {
  "kernelspec": {
   "display_name": "Python 3",
   "language": "python",
   "name": "python3"
  },
  "language_info": {
   "codemirror_mode": {
    "name": "ipython",
    "version": 3
   },
   "file_extension": ".py",
   "mimetype": "text/x-python",
   "name": "python",
   "nbconvert_exporter": "python",
   "pygments_lexer": "ipython3",
   "version": "3.6.3"
  }
 },
 "nbformat": 4,
 "nbformat_minor": 2
}
