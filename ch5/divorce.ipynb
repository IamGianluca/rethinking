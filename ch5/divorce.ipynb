{
 "cells": [
  {
   "cell_type": "code",
   "execution_count": 14,
   "metadata": {},
   "outputs": [
    {
     "data": {
      "text/html": [
       "\n",
       "    <div class=\"bk-root\">\n",
       "        <a href=\"https://bokeh.pydata.org\" target=\"_blank\" class=\"bk-logo bk-logo-small bk-logo-notebook\"></a>\n",
       "        <span id=\"242b2062-81fb-4415-8071-1db4d32c1d66\">Loading BokehJS ...</span>\n",
       "    </div>"
      ]
     },
     "metadata": {},
     "output_type": "display_data"
    },
    {
     "data": {
      "application/javascript": [
       "\n",
       "(function(root) {\n",
       "  function now() {\n",
       "    return new Date();\n",
       "  }\n",
       "\n",
       "  var force = true;\n",
       "\n",
       "  if (typeof (root._bokeh_onload_callbacks) === \"undefined\" || force === true) {\n",
       "    root._bokeh_onload_callbacks = [];\n",
       "    root._bokeh_is_loading = undefined;\n",
       "  }\n",
       "\n",
       "  var JS_MIME_TYPE = 'application/javascript';\n",
       "  var HTML_MIME_TYPE = 'text/html';\n",
       "  var EXEC_MIME_TYPE = 'application/vnd.bokehjs_exec.v0+json';\n",
       "  var CLASS_NAME = 'output_bokeh rendered_html';\n",
       "\n",
       "  /**\n",
       "   * Render data to the DOM node\n",
       "   */\n",
       "  function render(props, node) {\n",
       "    var script = document.createElement(\"script\");\n",
       "    node.appendChild(script);\n",
       "  }\n",
       "\n",
       "  /**\n",
       "   * Handle when an output is cleared or removed\n",
       "   */\n",
       "  function handleClearOutput(event, handle) {\n",
       "    var cell = handle.cell;\n",
       "\n",
       "    var id = cell.output_area._bokeh_element_id;\n",
       "    var server_id = cell.output_area._bokeh_server_id;\n",
       "    // Clean up Bokeh references\n",
       "    if (id !== undefined) {\n",
       "      Bokeh.index[id].model.document.clear();\n",
       "      delete Bokeh.index[id];\n",
       "    }\n",
       "\n",
       "    if (server_id !== undefined) {\n",
       "      // Clean up Bokeh references\n",
       "      var cmd = \"from bokeh.io.state import curstate; print(curstate().uuid_to_server['\" + server_id + \"'].get_sessions()[0].document.roots[0]._id)\";\n",
       "      cell.notebook.kernel.execute(cmd, {\n",
       "        iopub: {\n",
       "          output: function(msg) {\n",
       "            var element_id = msg.content.text.trim();\n",
       "            Bokeh.index[element_id].model.document.clear();\n",
       "            delete Bokeh.index[element_id];\n",
       "          }\n",
       "        }\n",
       "      });\n",
       "      // Destroy server and session\n",
       "      var cmd = \"import bokeh.io.notebook as ion; ion.destroy_server('\" + server_id + \"')\";\n",
       "      cell.notebook.kernel.execute(cmd);\n",
       "    }\n",
       "  }\n",
       "\n",
       "  /**\n",
       "   * Handle when a new output is added\n",
       "   */\n",
       "  function handleAddOutput(event, handle) {\n",
       "    var output_area = handle.output_area;\n",
       "    var output = handle.output;\n",
       "\n",
       "    // limit handleAddOutput to display_data with EXEC_MIME_TYPE content only\n",
       "    if ((output.output_type != \"display_data\") || (!output.data.hasOwnProperty(EXEC_MIME_TYPE))) {\n",
       "      return\n",
       "    }\n",
       "\n",
       "    var toinsert = output_area.element.find(\".\" + CLASS_NAME.split(' ')[0]);\n",
       "\n",
       "    if (output.metadata[EXEC_MIME_TYPE][\"id\"] !== undefined) {\n",
       "      toinsert[0].firstChild.textContent = output.data[JS_MIME_TYPE];\n",
       "      // store reference to embed id on output_area\n",
       "      output_area._bokeh_element_id = output.metadata[EXEC_MIME_TYPE][\"id\"];\n",
       "    }\n",
       "    if (output.metadata[EXEC_MIME_TYPE][\"server_id\"] !== undefined) {\n",
       "      var bk_div = document.createElement(\"div\");\n",
       "      bk_div.innerHTML = output.data[HTML_MIME_TYPE];\n",
       "      var script_attrs = bk_div.children[0].attributes;\n",
       "      for (var i = 0; i < script_attrs.length; i++) {\n",
       "        toinsert[0].firstChild.setAttribute(script_attrs[i].name, script_attrs[i].value);\n",
       "      }\n",
       "      // store reference to server id on output_area\n",
       "      output_area._bokeh_server_id = output.metadata[EXEC_MIME_TYPE][\"server_id\"];\n",
       "    }\n",
       "  }\n",
       "\n",
       "  function register_renderer(events, OutputArea) {\n",
       "\n",
       "    function append_mime(data, metadata, element) {\n",
       "      // create a DOM node to render to\n",
       "      var toinsert = this.create_output_subarea(\n",
       "        metadata,\n",
       "        CLASS_NAME,\n",
       "        EXEC_MIME_TYPE\n",
       "      );\n",
       "      this.keyboard_manager.register_events(toinsert);\n",
       "      // Render to node\n",
       "      var props = {data: data, metadata: metadata[EXEC_MIME_TYPE]};\n",
       "      render(props, toinsert[0]);\n",
       "      element.append(toinsert);\n",
       "      return toinsert\n",
       "    }\n",
       "\n",
       "    /* Handle when an output is cleared or removed */\n",
       "    events.on('clear_output.CodeCell', handleClearOutput);\n",
       "    events.on('delete.Cell', handleClearOutput);\n",
       "\n",
       "    /* Handle when a new output is added */\n",
       "    events.on('output_added.OutputArea', handleAddOutput);\n",
       "\n",
       "    /**\n",
       "     * Register the mime type and append_mime function with output_area\n",
       "     */\n",
       "    OutputArea.prototype.register_mime_type(EXEC_MIME_TYPE, append_mime, {\n",
       "      /* Is output safe? */\n",
       "      safe: true,\n",
       "      /* Index of renderer in `output_area.display_order` */\n",
       "      index: 0\n",
       "    });\n",
       "  }\n",
       "\n",
       "  // register the mime type if in Jupyter Notebook environment and previously unregistered\n",
       "  if (root.Jupyter !== undefined) {\n",
       "    var events = require('base/js/events');\n",
       "    var OutputArea = require('notebook/js/outputarea').OutputArea;\n",
       "\n",
       "    if (OutputArea.prototype.mime_types().indexOf(EXEC_MIME_TYPE) == -1) {\n",
       "      register_renderer(events, OutputArea);\n",
       "    }\n",
       "  }\n",
       "\n",
       "  \n",
       "  if (typeof (root._bokeh_timeout) === \"undefined\" || force === true) {\n",
       "    root._bokeh_timeout = Date.now() + 5000;\n",
       "    root._bokeh_failed_load = false;\n",
       "  }\n",
       "\n",
       "  var NB_LOAD_WARNING = {'data': {'text/html':\n",
       "     \"<div style='background-color: #fdd'>\\n\"+\n",
       "     \"<p>\\n\"+\n",
       "     \"BokehJS does not appear to have successfully loaded. If loading BokehJS from CDN, this \\n\"+\n",
       "     \"may be due to a slow or bad network connection. Possible fixes:\\n\"+\n",
       "     \"</p>\\n\"+\n",
       "     \"<ul>\\n\"+\n",
       "     \"<li>re-rerun `output_notebook()` to attempt to load from CDN again, or</li>\\n\"+\n",
       "     \"<li>use INLINE resources instead, as so:</li>\\n\"+\n",
       "     \"</ul>\\n\"+\n",
       "     \"<code>\\n\"+\n",
       "     \"from bokeh.resources import INLINE\\n\"+\n",
       "     \"output_notebook(resources=INLINE)\\n\"+\n",
       "     \"</code>\\n\"+\n",
       "     \"</div>\"}};\n",
       "\n",
       "  function display_loaded() {\n",
       "    var el = document.getElementById(\"242b2062-81fb-4415-8071-1db4d32c1d66\");\n",
       "    if (el != null) {\n",
       "      el.textContent = \"BokehJS is loading...\";\n",
       "    }\n",
       "    if (root.Bokeh !== undefined) {\n",
       "      if (el != null) {\n",
       "        el.textContent = \"BokehJS \" + root.Bokeh.version + \" successfully loaded.\";\n",
       "      }\n",
       "    } else if (Date.now() < root._bokeh_timeout) {\n",
       "      setTimeout(display_loaded, 100)\n",
       "    }\n",
       "  }\n",
       "\n",
       "\n",
       "  function run_callbacks() {\n",
       "    try {\n",
       "      root._bokeh_onload_callbacks.forEach(function(callback) { callback() });\n",
       "    }\n",
       "    finally {\n",
       "      delete root._bokeh_onload_callbacks\n",
       "    }\n",
       "    console.info(\"Bokeh: all callbacks have finished\");\n",
       "  }\n",
       "\n",
       "  function load_libs(js_urls, callback) {\n",
       "    root._bokeh_onload_callbacks.push(callback);\n",
       "    if (root._bokeh_is_loading > 0) {\n",
       "      console.log(\"Bokeh: BokehJS is being loaded, scheduling callback at\", now());\n",
       "      return null;\n",
       "    }\n",
       "    if (js_urls == null || js_urls.length === 0) {\n",
       "      run_callbacks();\n",
       "      return null;\n",
       "    }\n",
       "    console.log(\"Bokeh: BokehJS not loaded, scheduling load and callback at\", now());\n",
       "    root._bokeh_is_loading = js_urls.length;\n",
       "    for (var i = 0; i < js_urls.length; i++) {\n",
       "      var url = js_urls[i];\n",
       "      var s = document.createElement('script');\n",
       "      s.src = url;\n",
       "      s.async = false;\n",
       "      s.onreadystatechange = s.onload = function() {\n",
       "        root._bokeh_is_loading--;\n",
       "        if (root._bokeh_is_loading === 0) {\n",
       "          console.log(\"Bokeh: all BokehJS libraries loaded\");\n",
       "          run_callbacks()\n",
       "        }\n",
       "      };\n",
       "      s.onerror = function() {\n",
       "        console.warn(\"failed to load library \" + url);\n",
       "      };\n",
       "      console.log(\"Bokeh: injecting script tag for BokehJS library: \", url);\n",
       "      document.getElementsByTagName(\"head\")[0].appendChild(s);\n",
       "    }\n",
       "  };var element = document.getElementById(\"242b2062-81fb-4415-8071-1db4d32c1d66\");\n",
       "  if (element == null) {\n",
       "    console.log(\"Bokeh: ERROR: autoload.js configured with elementid '242b2062-81fb-4415-8071-1db4d32c1d66' but no matching script tag was found. \")\n",
       "    return false;\n",
       "  }\n",
       "\n",
       "  var js_urls = [\"https://cdn.pydata.org/bokeh/release/bokeh-0.12.14.min.js\", \"https://cdn.pydata.org/bokeh/release/bokeh-widgets-0.12.14.min.js\", \"https://cdn.pydata.org/bokeh/release/bokeh-tables-0.12.14.min.js\", \"https://cdn.pydata.org/bokeh/release/bokeh-gl-0.12.14.min.js\"];\n",
       "\n",
       "  var inline_js = [\n",
       "    function(Bokeh) {\n",
       "      Bokeh.set_log_level(\"info\");\n",
       "    },\n",
       "    \n",
       "    function(Bokeh) {\n",
       "      \n",
       "    },\n",
       "    function(Bokeh) {\n",
       "      console.log(\"Bokeh: injecting CSS: https://cdn.pydata.org/bokeh/release/bokeh-0.12.14.min.css\");\n",
       "      Bokeh.embed.inject_css(\"https://cdn.pydata.org/bokeh/release/bokeh-0.12.14.min.css\");\n",
       "      console.log(\"Bokeh: injecting CSS: https://cdn.pydata.org/bokeh/release/bokeh-widgets-0.12.14.min.css\");\n",
       "      Bokeh.embed.inject_css(\"https://cdn.pydata.org/bokeh/release/bokeh-widgets-0.12.14.min.css\");\n",
       "      console.log(\"Bokeh: injecting CSS: https://cdn.pydata.org/bokeh/release/bokeh-tables-0.12.14.min.css\");\n",
       "      Bokeh.embed.inject_css(\"https://cdn.pydata.org/bokeh/release/bokeh-tables-0.12.14.min.css\");\n",
       "    }\n",
       "  ];\n",
       "\n",
       "  function run_inline_js() {\n",
       "    \n",
       "    if ((root.Bokeh !== undefined) || (force === true)) {\n",
       "      for (var i = 0; i < inline_js.length; i++) {\n",
       "        inline_js[i].call(root, root.Bokeh);\n",
       "      }if (force === true) {\n",
       "        display_loaded();\n",
       "      }} else if (Date.now() < root._bokeh_timeout) {\n",
       "      setTimeout(run_inline_js, 100);\n",
       "    } else if (!root._bokeh_failed_load) {\n",
       "      console.log(\"Bokeh: BokehJS failed to load within specified timeout.\");\n",
       "      root._bokeh_failed_load = true;\n",
       "    } else if (force !== true) {\n",
       "      var cell = $(document.getElementById(\"242b2062-81fb-4415-8071-1db4d32c1d66\")).parents('.cell').data().cell;\n",
       "      cell.output_area.append_execute_result(NB_LOAD_WARNING)\n",
       "    }\n",
       "\n",
       "  }\n",
       "\n",
       "  if (root._bokeh_is_loading === 0) {\n",
       "    console.log(\"Bokeh: BokehJS loaded, going straight to plotting\");\n",
       "    run_inline_js();\n",
       "  } else {\n",
       "    load_libs(js_urls, function() {\n",
       "      console.log(\"Bokeh: BokehJS plotting callback run at\", now());\n",
       "      run_inline_js();\n",
       "    });\n",
       "  }\n",
       "}(window));"
      ],
      "application/vnd.bokehjs_load.v0+json": "\n(function(root) {\n  function now() {\n    return new Date();\n  }\n\n  var force = true;\n\n  if (typeof (root._bokeh_onload_callbacks) === \"undefined\" || force === true) {\n    root._bokeh_onload_callbacks = [];\n    root._bokeh_is_loading = undefined;\n  }\n\n  \n\n  \n  if (typeof (root._bokeh_timeout) === \"undefined\" || force === true) {\n    root._bokeh_timeout = Date.now() + 5000;\n    root._bokeh_failed_load = false;\n  }\n\n  var NB_LOAD_WARNING = {'data': {'text/html':\n     \"<div style='background-color: #fdd'>\\n\"+\n     \"<p>\\n\"+\n     \"BokehJS does not appear to have successfully loaded. If loading BokehJS from CDN, this \\n\"+\n     \"may be due to a slow or bad network connection. Possible fixes:\\n\"+\n     \"</p>\\n\"+\n     \"<ul>\\n\"+\n     \"<li>re-rerun `output_notebook()` to attempt to load from CDN again, or</li>\\n\"+\n     \"<li>use INLINE resources instead, as so:</li>\\n\"+\n     \"</ul>\\n\"+\n     \"<code>\\n\"+\n     \"from bokeh.resources import INLINE\\n\"+\n     \"output_notebook(resources=INLINE)\\n\"+\n     \"</code>\\n\"+\n     \"</div>\"}};\n\n  function display_loaded() {\n    var el = document.getElementById(\"242b2062-81fb-4415-8071-1db4d32c1d66\");\n    if (el != null) {\n      el.textContent = \"BokehJS is loading...\";\n    }\n    if (root.Bokeh !== undefined) {\n      if (el != null) {\n        el.textContent = \"BokehJS \" + root.Bokeh.version + \" successfully loaded.\";\n      }\n    } else if (Date.now() < root._bokeh_timeout) {\n      setTimeout(display_loaded, 100)\n    }\n  }\n\n\n  function run_callbacks() {\n    try {\n      root._bokeh_onload_callbacks.forEach(function(callback) { callback() });\n    }\n    finally {\n      delete root._bokeh_onload_callbacks\n    }\n    console.info(\"Bokeh: all callbacks have finished\");\n  }\n\n  function load_libs(js_urls, callback) {\n    root._bokeh_onload_callbacks.push(callback);\n    if (root._bokeh_is_loading > 0) {\n      console.log(\"Bokeh: BokehJS is being loaded, scheduling callback at\", now());\n      return null;\n    }\n    if (js_urls == null || js_urls.length === 0) {\n      run_callbacks();\n      return null;\n    }\n    console.log(\"Bokeh: BokehJS not loaded, scheduling load and callback at\", now());\n    root._bokeh_is_loading = js_urls.length;\n    for (var i = 0; i < js_urls.length; i++) {\n      var url = js_urls[i];\n      var s = document.createElement('script');\n      s.src = url;\n      s.async = false;\n      s.onreadystatechange = s.onload = function() {\n        root._bokeh_is_loading--;\n        if (root._bokeh_is_loading === 0) {\n          console.log(\"Bokeh: all BokehJS libraries loaded\");\n          run_callbacks()\n        }\n      };\n      s.onerror = function() {\n        console.warn(\"failed to load library \" + url);\n      };\n      console.log(\"Bokeh: injecting script tag for BokehJS library: \", url);\n      document.getElementsByTagName(\"head\")[0].appendChild(s);\n    }\n  };var element = document.getElementById(\"242b2062-81fb-4415-8071-1db4d32c1d66\");\n  if (element == null) {\n    console.log(\"Bokeh: ERROR: autoload.js configured with elementid '242b2062-81fb-4415-8071-1db4d32c1d66' but no matching script tag was found. \")\n    return false;\n  }\n\n  var js_urls = [\"https://cdn.pydata.org/bokeh/release/bokeh-0.12.14.min.js\", \"https://cdn.pydata.org/bokeh/release/bokeh-widgets-0.12.14.min.js\", \"https://cdn.pydata.org/bokeh/release/bokeh-tables-0.12.14.min.js\", \"https://cdn.pydata.org/bokeh/release/bokeh-gl-0.12.14.min.js\"];\n\n  var inline_js = [\n    function(Bokeh) {\n      Bokeh.set_log_level(\"info\");\n    },\n    \n    function(Bokeh) {\n      \n    },\n    function(Bokeh) {\n      console.log(\"Bokeh: injecting CSS: https://cdn.pydata.org/bokeh/release/bokeh-0.12.14.min.css\");\n      Bokeh.embed.inject_css(\"https://cdn.pydata.org/bokeh/release/bokeh-0.12.14.min.css\");\n      console.log(\"Bokeh: injecting CSS: https://cdn.pydata.org/bokeh/release/bokeh-widgets-0.12.14.min.css\");\n      Bokeh.embed.inject_css(\"https://cdn.pydata.org/bokeh/release/bokeh-widgets-0.12.14.min.css\");\n      console.log(\"Bokeh: injecting CSS: https://cdn.pydata.org/bokeh/release/bokeh-tables-0.12.14.min.css\");\n      Bokeh.embed.inject_css(\"https://cdn.pydata.org/bokeh/release/bokeh-tables-0.12.14.min.css\");\n    }\n  ];\n\n  function run_inline_js() {\n    \n    if ((root.Bokeh !== undefined) || (force === true)) {\n      for (var i = 0; i < inline_js.length; i++) {\n        inline_js[i].call(root, root.Bokeh);\n      }if (force === true) {\n        display_loaded();\n      }} else if (Date.now() < root._bokeh_timeout) {\n      setTimeout(run_inline_js, 100);\n    } else if (!root._bokeh_failed_load) {\n      console.log(\"Bokeh: BokehJS failed to load within specified timeout.\");\n      root._bokeh_failed_load = true;\n    } else if (force !== true) {\n      var cell = $(document.getElementById(\"242b2062-81fb-4415-8071-1db4d32c1d66\")).parents('.cell').data().cell;\n      cell.output_area.append_execute_result(NB_LOAD_WARNING)\n    }\n\n  }\n\n  if (root._bokeh_is_loading === 0) {\n    console.log(\"Bokeh: BokehJS loaded, going straight to plotting\");\n    run_inline_js();\n  } else {\n    load_libs(js_urls, function() {\n      console.log(\"Bokeh: BokehJS plotting callback run at\", now());\n      run_inline_js();\n    });\n  }\n}(window));"
     },
     "metadata": {},
     "output_type": "display_data"
    }
   ],
   "source": [
    "import os\n",
    "\n",
    "import pandas as pd\n",
    "from bokeh.plotting import figure, output_notebook, show\n",
    "from pystan import StanModel\n",
    "from sklearn.preprocessing import scale\n",
    "\n",
    "from rethinking.stan import StanCache\n",
    "from rethinking.plotting import summaryplot\n",
    "\n",
    "output_notebook()"
   ]
  },
  {
   "cell_type": "code",
   "execution_count": 15,
   "metadata": {},
   "outputs": [],
   "source": [
    "DATA_FOLDER = '../data'\n",
    "DIVORCE_FULLPATH = os.path.join(DATA_FOLDER, 'WaffleDivorce.csv')"
   ]
  },
  {
   "cell_type": "code",
   "execution_count": 16,
   "metadata": {},
   "outputs": [
    {
     "data": {
      "text/html": [
       "<div>\n",
       "<style scoped>\n",
       "    .dataframe tbody tr th:only-of-type {\n",
       "        vertical-align: middle;\n",
       "    }\n",
       "\n",
       "    .dataframe tbody tr th {\n",
       "        vertical-align: top;\n",
       "    }\n",
       "\n",
       "    .dataframe thead th {\n",
       "        text-align: right;\n",
       "    }\n",
       "</style>\n",
       "<table border=\"1\" class=\"dataframe\">\n",
       "  <thead>\n",
       "    <tr style=\"text-align: right;\">\n",
       "      <th></th>\n",
       "      <th>Location</th>\n",
       "      <th>Loc</th>\n",
       "      <th>Population</th>\n",
       "      <th>MedianAgeMarriage</th>\n",
       "      <th>Marriage</th>\n",
       "      <th>Marriage SE</th>\n",
       "      <th>Divorce</th>\n",
       "      <th>Divorce SE</th>\n",
       "      <th>WaffleHouses</th>\n",
       "      <th>South</th>\n",
       "      <th>Slaves1860</th>\n",
       "      <th>Population1860</th>\n",
       "      <th>PropSlaves1860</th>\n",
       "    </tr>\n",
       "  </thead>\n",
       "  <tbody>\n",
       "    <tr>\n",
       "      <th>0</th>\n",
       "      <td>Alabama</td>\n",
       "      <td>AL</td>\n",
       "      <td>4.78</td>\n",
       "      <td>25.3</td>\n",
       "      <td>20.2</td>\n",
       "      <td>1.27</td>\n",
       "      <td>12.7</td>\n",
       "      <td>0.79</td>\n",
       "      <td>128</td>\n",
       "      <td>1</td>\n",
       "      <td>435080</td>\n",
       "      <td>964201</td>\n",
       "      <td>0.45</td>\n",
       "    </tr>\n",
       "    <tr>\n",
       "      <th>1</th>\n",
       "      <td>Alaska</td>\n",
       "      <td>AK</td>\n",
       "      <td>0.71</td>\n",
       "      <td>25.2</td>\n",
       "      <td>26.0</td>\n",
       "      <td>2.93</td>\n",
       "      <td>12.5</td>\n",
       "      <td>2.05</td>\n",
       "      <td>0</td>\n",
       "      <td>0</td>\n",
       "      <td>0</td>\n",
       "      <td>0</td>\n",
       "      <td>0.00</td>\n",
       "    </tr>\n",
       "    <tr>\n",
       "      <th>2</th>\n",
       "      <td>Arizona</td>\n",
       "      <td>AZ</td>\n",
       "      <td>6.33</td>\n",
       "      <td>25.8</td>\n",
       "      <td>20.3</td>\n",
       "      <td>0.98</td>\n",
       "      <td>10.8</td>\n",
       "      <td>0.74</td>\n",
       "      <td>18</td>\n",
       "      <td>0</td>\n",
       "      <td>0</td>\n",
       "      <td>0</td>\n",
       "      <td>0.00</td>\n",
       "    </tr>\n",
       "    <tr>\n",
       "      <th>3</th>\n",
       "      <td>Arkansas</td>\n",
       "      <td>AR</td>\n",
       "      <td>2.92</td>\n",
       "      <td>24.3</td>\n",
       "      <td>26.4</td>\n",
       "      <td>1.70</td>\n",
       "      <td>13.5</td>\n",
       "      <td>1.22</td>\n",
       "      <td>41</td>\n",
       "      <td>1</td>\n",
       "      <td>111115</td>\n",
       "      <td>435450</td>\n",
       "      <td>0.26</td>\n",
       "    </tr>\n",
       "    <tr>\n",
       "      <th>4</th>\n",
       "      <td>California</td>\n",
       "      <td>CA</td>\n",
       "      <td>37.25</td>\n",
       "      <td>26.8</td>\n",
       "      <td>19.1</td>\n",
       "      <td>0.39</td>\n",
       "      <td>8.0</td>\n",
       "      <td>0.24</td>\n",
       "      <td>0</td>\n",
       "      <td>0</td>\n",
       "      <td>0</td>\n",
       "      <td>379994</td>\n",
       "      <td>0.00</td>\n",
       "    </tr>\n",
       "  </tbody>\n",
       "</table>\n",
       "</div>"
      ],
      "text/plain": [
       "     Location Loc  Population  MedianAgeMarriage  Marriage  Marriage SE  \\\n",
       "0     Alabama  AL        4.78               25.3      20.2         1.27   \n",
       "1      Alaska  AK        0.71               25.2      26.0         2.93   \n",
       "2     Arizona  AZ        6.33               25.8      20.3         0.98   \n",
       "3    Arkansas  AR        2.92               24.3      26.4         1.70   \n",
       "4  California  CA       37.25               26.8      19.1         0.39   \n",
       "\n",
       "   Divorce  Divorce SE  WaffleHouses  South  Slaves1860  Population1860  \\\n",
       "0     12.7        0.79           128      1      435080          964201   \n",
       "1     12.5        2.05             0      0           0               0   \n",
       "2     10.8        0.74            18      0           0               0   \n",
       "3     13.5        1.22            41      1      111115          435450   \n",
       "4      8.0        0.24             0      0           0          379994   \n",
       "\n",
       "   PropSlaves1860  \n",
       "0            0.45  \n",
       "1            0.00  \n",
       "2            0.00  \n",
       "3            0.26  \n",
       "4            0.00  "
      ]
     },
     "execution_count": 16,
     "metadata": {},
     "output_type": "execute_result"
    }
   ],
   "source": [
    "divorce = pd.read_csv(DIVORCE_FULLPATH)\n",
    "divorce.head()"
   ]
  },
  {
   "cell_type": "markdown",
   "metadata": {},
   "source": [
    "$$\n",
    "\\begin{align*}\n",
    "    D_i &\\sim Normal(\\mu_i, \\sigma) \\\\\n",
    "    \\mu_i &= \\alpha + \\beta_A A_i \\\\\n",
    "    \\alpha &\\sim Normal(10, 10) \\\\\n",
    "    \\beta_A &\\sim Normal(0, 1) \\\\\n",
    "    \\sigma &\\sim Uniform(0, 10)\n",
    "\\end{align*}\n",
    "$$"
   ]
  },
  {
   "cell_type": "code",
   "execution_count": 17,
   "metadata": {},
   "outputs": [
    {
     "name": "stdout",
     "output_type": "stream",
     "text": [
      "data {\n",
      "    int<lower=0> N;\n",
      "    vector[N] X;\n",
      "    vector<lower=0, upper=100>[N] divorce_rate;\n",
      "}\n",
      "parameters {\n",
      "    real alpha;\n",
      "    real beta;\n",
      "    real<lower=0> sigma;\n",
      "}\n",
      "transformed parameters {\n",
      "    vector<lower=-100, upper=100>[N] mu;\n",
      "\n",
      "    mu = alpha + X * beta;\n",
      "}\n",
      "model {\n",
      "    alpha ~ normal(10, 10);\n",
      "    beta ~ normal(0, 1);\n",
      "    sigma ~ uniform(0, 10);\n",
      "    divorce_rate ~ normal(mu, sigma);\n",
      "}\n",
      "\n"
     ]
    }
   ],
   "source": [
    "m5_1 = StanCache(filename='../models/m5_1.stan').compile()\n",
    "m5_1.model_code"
   ]
  },
  {
   "cell_type": "code",
   "execution_count": 18,
   "metadata": {},
   "outputs": [],
   "source": [
    "divorce['MedianAgeMarriage_s'] = scale(\n",
    "    X=divorce.loc[:, ['MedianAgeMarriage']], with_mean=True, with_std=True)\n",
    "divorce['Divorce_pct'] = divorce.loc[:, 'Divorce'] / 100"
   ]
  },
  {
   "cell_type": "code",
   "execution_count": 19,
   "metadata": {},
   "outputs": [
    {
     "name": "stderr",
     "output_type": "stream",
     "text": [
      "/home/gianluca/.virtualenvs/rethinking/lib/python3.6/site-packages/pystan/misc.py:399: FutureWarning: Conversion of the second argument of issubdtype from `float` to `np.floating` is deprecated. In future, it will be treated as `np.float64 == np.dtype(float).type`.\n",
      "  elif np.issubdtype(np.asarray(v).dtype, float):\n"
     ]
    },
    {
     "name": "stdout",
     "output_type": "stream",
     "text": [
      "Inference for Stan model: anon_model_069dd64a1ee6b8cdacde859166ae13ef.\n",
      "4 chains, each with iter=500; warmup=250; thin=1; \n",
      "post-warmup draws per chain=250, total post-warmup draws=1000.\n",
      "\n",
      "        mean se_mean     sd   2.5%    25%    50%    75%  97.5%  n_eff   Rhat\n",
      "alpha   9.68  6.9e-3   0.21   9.25   9.54   9.67   9.82   10.1    958    1.0\n",
      "beta   -1.04  6.7e-3   0.21  -1.46  -1.17  -1.04   -0.9  -0.62   1000    1.0\n",
      "sigma   1.51  6.6e-3   0.17   1.23    1.4    1.5   1.61   1.89    666    1.0\n",
      "\n",
      "Samples were drawn using NUTS at Mon Mar  5 22:57:04 2018.\n",
      "For each parameter, n_eff is a crude measure of effective sample size,\n",
      "and Rhat is the potential scale reduction factor on split chains (at \n",
      "convergence, Rhat=1).\n"
     ]
    },
    {
     "name": "stderr",
     "output_type": "stream",
     "text": [
      "/home/gianluca/git/rethinking/src/rethinking/stan.py:94: UserWarning: Pickling fit objects is an experimental feature!\n",
      "The relevant StanModel instance must be pickled along with this fit object.\n",
      "When unpickling the StanModel must be unpickled first.\n",
      "  pickle.dump(results, f)\n"
     ]
    }
   ],
   "source": [
    "divorce_data = dict(\n",
    "    N=divorce.shape[0],\n",
    "    K=1,\n",
    "    X=divorce.MedianAgeMarriage_s,\n",
    "    divorce_rate=divorce.Divorce\n",
    ")\n",
    "\n",
    "fit5_1 = m5_1.sampling(data=divorce_data, iter=500)\n",
    "print(fit5_1.stansummary(pars=['alpha', 'beta', 'sigma']))"
   ]
  },
  {
   "cell_type": "code",
   "execution_count": 20,
   "metadata": {},
   "outputs": [
    {
     "data": {
      "text/html": [
       "\n",
       "<div class=\"bk-root\">\n",
       "    <div class=\"bk-plotdiv\" id=\"89321b4e-678c-4b66-86ec-7cac7fd7529a\"></div>\n",
       "</div>"
      ]
     },
     "metadata": {},
     "output_type": "display_data"
    },
    {
     "data": {
      "application/javascript": [
       "(function(root) {\n",
       "  function embed_document(root) {\n",
       "    \n",
       "  var docs_json = {\"d243a424-b521-4f3f-afe3-7c94a53afec4\":{\"roots\":{\"references\":[{\"attributes\":{\"data_source\":{\"id\":\"a1016f9a-79e5-4d53-b80d-187679d27fc8\",\"type\":\"ColumnDataSource\"},\"glyph\":{\"id\":\"5e71cd2a-fdf3-4948-8bf0-1cbf3587cc7a\",\"type\":\"Segment\"},\"hover_glyph\":null,\"muted_glyph\":null,\"nonselection_glyph\":{\"id\":\"f8c8a239-2d33-4ff8-910a-e7e6437b5b6a\",\"type\":\"Segment\"},\"selection_glyph\":null,\"view\":{\"id\":\"dfab00d3-863a-4363-80ca-132dbe62dc4b\",\"type\":\"CDSView\"}},\"id\":\"d1aaf8f8-acc0-4147-929f-4ed35417f8f4\",\"type\":\"GlyphRenderer\"},{\"attributes\":{\"callback\":null,\"column_names\":[\"x0\",\"y0\",\"x1\",\"y1\"],\"data\":{\"x0\":[9.327930096216042,-1.3798218420779031,1.2666127604237176],\"x1\":[10.040015517614446,-0.6797941559471946,1.812073365063833],\"y0\":[\"alpha\",\"beta\",\"sigma\"],\"y1\":[\"alpha\",\"beta\",\"sigma\"]}},\"id\":\"a1016f9a-79e5-4d53-b80d-187679d27fc8\",\"type\":\"ColumnDataSource\"},{\"attributes\":{},\"id\":\"4d37e30e-a29b-4753-8721-3c2c2ce1bae5\",\"type\":\"LinearScale\"},{\"attributes\":{\"dimension\":1,\"plot\":{\"id\":\"fe6b62e2-51bc-44dc-bc90-3f9d87128716\",\"subtype\":\"Figure\",\"type\":\"Plot\"},\"ticker\":{\"id\":\"589c6762-84e0-4567-a255-8711b1c449d7\",\"type\":\"CategoricalTicker\"}},\"id\":\"3cc1fe96-c90e-4b04-a1fa-93eebbdba1a8\",\"type\":\"Grid\"},{\"attributes\":{\"line_alpha\":{\"value\":0.1},\"line_color\":{\"value\":\"#1f77b4\"},\"x0\":{\"field\":\"x0\"},\"x1\":{\"field\":\"x1\"},\"y0\":{\"field\":\"y0\"},\"y1\":{\"field\":\"y1\"}},\"id\":\"f8c8a239-2d33-4ff8-910a-e7e6437b5b6a\",\"type\":\"Segment\"},{\"attributes\":{},\"id\":\"589c6762-84e0-4567-a255-8711b1c449d7\",\"type\":\"CategoricalTicker\"},{\"attributes\":{\"callback\":null},\"id\":\"bf1c005b-c845-482b-9973-03f07318a27d\",\"type\":\"DataRange1d\"},{\"attributes\":{\"active_drag\":\"auto\",\"active_inspect\":\"auto\",\"active_scroll\":\"auto\",\"active_tap\":\"auto\",\"tools\":[{\"id\":\"e19bc43b-c569-4571-9c61-4b51e19caaf9\",\"type\":\"PanTool\"},{\"id\":\"b62345a6-9a90-4df6-91a2-c6043434feba\",\"type\":\"WheelZoomTool\"},{\"id\":\"22160224-01e9-4485-a73f-9be8aa11d168\",\"type\":\"BoxZoomTool\"},{\"id\":\"70da6692-5a88-49c2-86c5-2eb7fcc67ce2\",\"type\":\"SaveTool\"},{\"id\":\"01366ecf-af10-403c-afb3-66045f0ffdce\",\"type\":\"ResetTool\"},{\"id\":\"1bc3f68e-e1b9-4613-947a-158a710acac9\",\"type\":\"HelpTool\"}]},\"id\":\"2a4081c9-b2bc-4762-9b69-bb7e6ed2b01b\",\"type\":\"Toolbar\"},{\"attributes\":{\"formatter\":{\"id\":\"4328a9f4-4bea-42f4-b4d7-073708fba553\",\"type\":\"CategoricalTickFormatter\"},\"plot\":{\"id\":\"fe6b62e2-51bc-44dc-bc90-3f9d87128716\",\"subtype\":\"Figure\",\"type\":\"Plot\"},\"ticker\":{\"id\":\"589c6762-84e0-4567-a255-8711b1c449d7\",\"type\":\"CategoricalTicker\"}},\"id\":\"78f4d38a-e76b-4159-bc2c-25f0e153c37a\",\"type\":\"CategoricalAxis\"},{\"attributes\":{},\"id\":\"8461a675-b8b9-456f-ab69-b7d55a88f00e\",\"type\":\"BasicTicker\"},{\"attributes\":{\"axis_label\":\"Value\",\"formatter\":{\"id\":\"673b4951-a250-4498-9127-124064f11588\",\"type\":\"BasicTickFormatter\"},\"plot\":{\"id\":\"fe6b62e2-51bc-44dc-bc90-3f9d87128716\",\"subtype\":\"Figure\",\"type\":\"Plot\"},\"ticker\":{\"id\":\"8461a675-b8b9-456f-ab69-b7d55a88f00e\",\"type\":\"BasicTicker\"}},\"id\":\"05e45b77-51eb-46ae-84c4-8d9f36a3b0cd\",\"type\":\"LinearAxis\"},{\"attributes\":{\"source\":{\"id\":\"a1016f9a-79e5-4d53-b80d-187679d27fc8\",\"type\":\"ColumnDataSource\"}},\"id\":\"dfab00d3-863a-4363-80ca-132dbe62dc4b\",\"type\":\"CDSView\"},{\"attributes\":{\"plot\":{\"id\":\"fe6b62e2-51bc-44dc-bc90-3f9d87128716\",\"subtype\":\"Figure\",\"type\":\"Plot\"},\"ticker\":{\"id\":\"8461a675-b8b9-456f-ab69-b7d55a88f00e\",\"type\":\"BasicTicker\"}},\"id\":\"7210b9a6-8adb-4e47-b670-560bc796a698\",\"type\":\"Grid\"},{\"attributes\":{\"source\":{\"id\":\"a983f64a-0500-4fd7-9567-032ad24be58e\",\"type\":\"ColumnDataSource\"}},\"id\":\"54ccec9f-d700-4a88-9e4e-5c6d86465942\",\"type\":\"CDSView\"},{\"attributes\":{\"callback\":null,\"factors\":[\"sigma\",\"beta\",\"alpha\"]},\"id\":\"4750a3f1-85ac-42ac-95b5-6e609b924730\",\"type\":\"FactorRange\"},{\"attributes\":{},\"id\":\"3a658fdc-26ae-4ffa-a53c-6d286a4782a3\",\"type\":\"CategoricalScale\"},{\"attributes\":{\"callback\":null,\"column_names\":[\"x\",\"y\"],\"data\":{\"x\":[0,0],\"y\":[0,\"alpha\"]}},\"id\":\"a983f64a-0500-4fd7-9567-032ad24be58e\",\"type\":\"ColumnDataSource\"},{\"attributes\":{\"line_alpha\":0.1,\"line_color\":\"#1f77b4\",\"line_dash\":[6],\"x\":{\"field\":\"x\"},\"y\":{\"field\":\"y\"}},\"id\":\"dd4a1039-8880-4137-a3c5-913c3262ae05\",\"type\":\"Line\"},{\"attributes\":{\"data_source\":{\"id\":\"a983f64a-0500-4fd7-9567-032ad24be58e\",\"type\":\"ColumnDataSource\"},\"glyph\":{\"id\":\"8b95ad05-ec6e-4e4e-a936-5cce654cd309\",\"type\":\"Line\"},\"hover_glyph\":null,\"muted_glyph\":null,\"nonselection_glyph\":{\"id\":\"dd4a1039-8880-4137-a3c5-913c3262ae05\",\"type\":\"Line\"},\"selection_glyph\":null,\"view\":{\"id\":\"54ccec9f-d700-4a88-9e4e-5c6d86465942\",\"type\":\"CDSView\"}},\"id\":\"4fffb7cd-eade-45ac-a8ea-4da23dd7774b\",\"type\":\"GlyphRenderer\"},{\"attributes\":{\"source\":{\"id\":\"c9112229-241e-435f-94b6-17696c7f25ab\",\"type\":\"ColumnDataSource\"}},\"id\":\"dce9392b-df8f-40ca-b2a6-15d568ae3bcd\",\"type\":\"CDSView\"},{\"attributes\":{\"fill_alpha\":{\"value\":0.1},\"fill_color\":{\"value\":\"#1f77b4\"},\"line_alpha\":{\"value\":0.1},\"line_color\":{\"value\":\"#1f77b4\"},\"line_width\":{\"value\":3},\"x\":{\"field\":\"x\"},\"y\":{\"field\":\"y\"}},\"id\":\"72bc8d8f-3557-435b-9756-1b9d88d68ac1\",\"type\":\"Circle\"},{\"attributes\":{\"data_source\":{\"id\":\"c9112229-241e-435f-94b6-17696c7f25ab\",\"type\":\"ColumnDataSource\"},\"glyph\":{\"id\":\"3f6dc398-119e-43e3-86f1-95866d811071\",\"type\":\"Circle\"},\"hover_glyph\":null,\"muted_glyph\":null,\"nonselection_glyph\":{\"id\":\"72bc8d8f-3557-435b-9756-1b9d88d68ac1\",\"type\":\"Circle\"},\"selection_glyph\":null,\"view\":{\"id\":\"dce9392b-df8f-40ca-b2a6-15d568ae3bcd\",\"type\":\"CDSView\"}},\"id\":\"9d9052ed-98cf-44dd-8658-220852d9d257\",\"type\":\"GlyphRenderer\"},{\"attributes\":{\"line_color\":{\"value\":\"#1f77b4\"},\"x0\":{\"field\":\"x0\"},\"x1\":{\"field\":\"x1\"},\"y0\":{\"field\":\"y0\"},\"y1\":{\"field\":\"y1\"}},\"id\":\"5e71cd2a-fdf3-4948-8bf0-1cbf3587cc7a\",\"type\":\"Segment\"},{\"attributes\":{\"fill_alpha\":{\"value\":0.35},\"fill_color\":{\"value\":\"blue\"},\"line_alpha\":{\"value\":0.35},\"line_color\":{\"value\":\"blue\"},\"line_width\":{\"value\":3},\"x\":{\"field\":\"x\"},\"y\":{\"field\":\"y\"}},\"id\":\"3f6dc398-119e-43e3-86f1-95866d811071\",\"type\":\"Circle\"},{\"attributes\":{\"align\":\"center\",\"plot\":null,\"text\":\"Summary fit\"},\"id\":\"b03e7d4b-5671-479b-be92-8d20b464d94a\",\"type\":\"Title\"},{\"attributes\":{},\"id\":\"4328a9f4-4bea-42f4-b4d7-073708fba553\",\"type\":\"CategoricalTickFormatter\"},{\"attributes\":{\"overlay\":{\"id\":\"47b88bfb-7b78-474a-8ea5-220a5d3a51ac\",\"type\":\"BoxAnnotation\"}},\"id\":\"22160224-01e9-4485-a73f-9be8aa11d168\",\"type\":\"BoxZoomTool\"},{\"attributes\":{},\"id\":\"673b4951-a250-4498-9127-124064f11588\",\"type\":\"BasicTickFormatter\"},{\"attributes\":{},\"id\":\"1bc3f68e-e1b9-4613-947a-158a710acac9\",\"type\":\"HelpTool\"},{\"attributes\":{},\"id\":\"01366ecf-af10-403c-afb3-66045f0ffdce\",\"type\":\"ResetTool\"},{\"attributes\":{},\"id\":\"70da6692-5a88-49c2-86c5-2eb7fcc67ce2\",\"type\":\"SaveTool\"},{\"attributes\":{\"bottom_units\":\"screen\",\"fill_alpha\":{\"value\":0.5},\"fill_color\":{\"value\":\"lightgrey\"},\"left_units\":\"screen\",\"level\":\"overlay\",\"line_alpha\":{\"value\":1.0},\"line_color\":{\"value\":\"black\"},\"line_dash\":[4,4],\"line_width\":{\"value\":2},\"plot\":null,\"render_mode\":\"css\",\"right_units\":\"screen\",\"top_units\":\"screen\"},\"id\":\"47b88bfb-7b78-474a-8ea5-220a5d3a51ac\",\"type\":\"BoxAnnotation\"},{\"attributes\":{\"line_color\":\"#1f77b4\",\"line_dash\":[6],\"x\":{\"field\":\"x\"},\"y\":{\"field\":\"y\"}},\"id\":\"8b95ad05-ec6e-4e4e-a936-5cce654cd309\",\"type\":\"Line\"},{\"attributes\":{},\"id\":\"e19bc43b-c569-4571-9c61-4b51e19caaf9\",\"type\":\"PanTool\"},{\"attributes\":{\"callback\":null,\"column_names\":[\"x\",\"y\"],\"data\":{\"x\":[9.670908405394858,-1.0432871921408626,1.4976695605781298],\"y\":[\"alpha\",\"beta\",\"sigma\"]}},\"id\":\"c9112229-241e-435f-94b6-17696c7f25ab\",\"type\":\"ColumnDataSource\"},{\"attributes\":{},\"id\":\"b62345a6-9a90-4df6-91a2-c6043434feba\",\"type\":\"WheelZoomTool\"},{\"attributes\":{\"below\":[{\"id\":\"05e45b77-51eb-46ae-84c4-8d9f36a3b0cd\",\"type\":\"LinearAxis\"}],\"left\":[{\"id\":\"78f4d38a-e76b-4159-bc2c-25f0e153c37a\",\"type\":\"CategoricalAxis\"}],\"renderers\":[{\"id\":\"05e45b77-51eb-46ae-84c4-8d9f36a3b0cd\",\"type\":\"LinearAxis\"},{\"id\":\"7210b9a6-8adb-4e47-b670-560bc796a698\",\"type\":\"Grid\"},{\"id\":\"78f4d38a-e76b-4159-bc2c-25f0e153c37a\",\"type\":\"CategoricalAxis\"},{\"id\":\"3cc1fe96-c90e-4b04-a1fa-93eebbdba1a8\",\"type\":\"Grid\"},{\"id\":\"47b88bfb-7b78-474a-8ea5-220a5d3a51ac\",\"type\":\"BoxAnnotation\"},{\"id\":\"d1aaf8f8-acc0-4147-929f-4ed35417f8f4\",\"type\":\"GlyphRenderer\"},{\"id\":\"9d9052ed-98cf-44dd-8658-220852d9d257\",\"type\":\"GlyphRenderer\"},{\"id\":\"4fffb7cd-eade-45ac-a8ea-4da23dd7774b\",\"type\":\"GlyphRenderer\"}],\"title\":{\"id\":\"b03e7d4b-5671-479b-be92-8d20b464d94a\",\"type\":\"Title\"},\"toolbar\":{\"id\":\"2a4081c9-b2bc-4762-9b69-bb7e6ed2b01b\",\"type\":\"Toolbar\"},\"x_range\":{\"id\":\"bf1c005b-c845-482b-9973-03f07318a27d\",\"type\":\"DataRange1d\"},\"x_scale\":{\"id\":\"4d37e30e-a29b-4753-8721-3c2c2ce1bae5\",\"type\":\"LinearScale\"},\"y_range\":{\"id\":\"4750a3f1-85ac-42ac-95b5-6e609b924730\",\"type\":\"FactorRange\"},\"y_scale\":{\"id\":\"3a658fdc-26ae-4ffa-a53c-6d286a4782a3\",\"type\":\"CategoricalScale\"}},\"id\":\"fe6b62e2-51bc-44dc-bc90-3f9d87128716\",\"subtype\":\"Figure\",\"type\":\"Plot\"}],\"root_ids\":[\"fe6b62e2-51bc-44dc-bc90-3f9d87128716\"]},\"title\":\"Bokeh Application\",\"version\":\"0.12.14\"}};\n",
       "  var render_items = [{\"docid\":\"d243a424-b521-4f3f-afe3-7c94a53afec4\",\"elementid\":\"89321b4e-678c-4b66-86ec-7cac7fd7529a\",\"modelid\":\"fe6b62e2-51bc-44dc-bc90-3f9d87128716\"}];\n",
       "  root.Bokeh.embed.embed_items_notebook(docs_json, render_items);\n",
       "\n",
       "  }\n",
       "  if (root.Bokeh !== undefined) {\n",
       "    embed_document(root);\n",
       "  } else {\n",
       "    var attempts = 0;\n",
       "    var timer = setInterval(function(root) {\n",
       "      if (root.Bokeh !== undefined) {\n",
       "        embed_document(root);\n",
       "        clearInterval(timer);\n",
       "      }\n",
       "      attempts++;\n",
       "      if (attempts > 100) {\n",
       "        console.log(\"Bokeh: ERROR: Unable to run BokehJS code because BokehJS library is missing\")\n",
       "        clearInterval(timer);\n",
       "      }\n",
       "    }, 10, root)\n",
       "  }\n",
       "})(window);"
      ],
      "application/vnd.bokehjs_exec.v0+json": ""
     },
     "metadata": {
      "application/vnd.bokehjs_exec.v0+json": {
       "id": "fe6b62e2-51bc-44dc-bc90-3f9d87128716"
      }
     },
     "output_type": "display_data"
    }
   ],
   "source": [
    "summaryplot(fit5_1, pars=['alpha', 'beta', 'sigma'])"
   ]
  },
  {
   "cell_type": "code",
   "execution_count": null,
   "metadata": {},
   "outputs": [],
   "source": []
  },
  {
   "cell_type": "code",
   "execution_count": 22,
   "metadata": {},
   "outputs": [],
   "source": [
    "divorce['Marriage_s'] = scale(\n",
    "    X=divorce.loc[:, ['Marriage']], with_mean=True, with_std=True)"
   ]
  },
  {
   "cell_type": "code",
   "execution_count": 23,
   "metadata": {},
   "outputs": [
    {
     "name": "stderr",
     "output_type": "stream",
     "text": [
      "/home/gianluca/.virtualenvs/rethinking/lib/python3.6/site-packages/pystan/misc.py:399: FutureWarning: Conversion of the second argument of issubdtype from `float` to `np.floating` is deprecated. In future, it will be treated as `np.float64 == np.dtype(float).type`.\n",
      "  elif np.issubdtype(np.asarray(v).dtype, float):\n"
     ]
    },
    {
     "name": "stdout",
     "output_type": "stream",
     "text": [
      "Inference for Stan model: anon_model_069dd64a1ee6b8cdacde859166ae13ef.\n",
      "4 chains, each with iter=500; warmup=250; thin=1; \n",
      "post-warmup draws per chain=250, total post-warmup draws=1000.\n",
      "\n",
      "        mean se_mean     sd   2.5%    25%    50%    75%  97.5%  n_eff   Rhat\n",
      "alpha   9.71  7.7e-3   0.24   9.23   9.55   9.71   9.86  10.18   1000    1.0\n",
      "beta    0.63  9.9e-3   0.22   0.18   0.48   0.63   0.77   1.02    502    1.0\n",
      "sigma   1.75  7.0e-3   0.19   1.44   1.62   1.74   1.86   2.17    735   1.01\n",
      "\n",
      "Samples were drawn using NUTS at Mon Mar  5 22:57:05 2018.\n",
      "For each parameter, n_eff is a crude measure of effective sample size,\n",
      "and Rhat is the potential scale reduction factor on split chains (at \n",
      "convergence, Rhat=1).\n"
     ]
    },
    {
     "name": "stderr",
     "output_type": "stream",
     "text": [
      "/home/gianluca/git/rethinking/src/rethinking/stan.py:94: UserWarning: Pickling fit objects is an experimental feature!\n",
      "The relevant StanModel instance must be pickled along with this fit object.\n",
      "When unpickling the StanModel must be unpickled first.\n",
      "  pickle.dump(results, f)\n"
     ]
    }
   ],
   "source": [
    "divorce2_data = dict(\n",
    "    N=divorce.shape[0],\n",
    "    K=1,\n",
    "    X=divorce.Marriage_s,\n",
    "    divorce_rate=divorce.Divorce\n",
    ")\n",
    "\n",
    "fit5_2 = m5_1.sampling(data=divorce2_data, iter=500)\n",
    "print(fit5_2.stansummary(pars=['alpha', 'beta', 'sigma']))"
   ]
  },
  {
   "cell_type": "markdown",
   "metadata": {},
   "source": [
    "# Multivariate linear model\n",
    "\n",
    "\n",
    "$$\n",
    "\\begin{align}\n",
    "    D_i &\\sim Normal(\\mu_i, \\sigma) \\\\\n",
    "    \\mu_i &= \\alpha + \\sum_{j=1}^{n} \\beta_i x_{ji} \\\\\n",
    "    \\alpha &\\sim Normal(10, 10) \\\\\n",
    "    \\beta_R &\\sim Normal(0, 1) \\\\\n",
    "    \\beta_A &\\sim Normal(0, 1) \\\\\n",
    "    \\sigma &\\sim Uniform(0, 10)\n",
    "\\end{align}\n",
    "$$"
   ]
  },
  {
   "cell_type": "code",
   "execution_count": 24,
   "metadata": {},
   "outputs": [
    {
     "name": "stdout",
     "output_type": "stream",
     "text": [
      "data {\n",
      "    int<lower=0> N;\n",
      "    int<lower=0> K;\n",
      "    matrix[N, K] X;\n",
      "    vector<lower=0, upper=100>[N] divorce_rate;\n",
      "}\n",
      "parameters {\n",
      "    real alpha;\n",
      "    vector[K] beta;\n",
      "    real<lower=0> sigma;\n",
      "}\n",
      "transformed parameters {\n",
      "    vector<lower=-100, upper=100>[N] mu;\n",
      "\n",
      "    mu = alpha + X * beta;\n",
      "}\n",
      "model {\n",
      "    alpha ~ normal(10, 10);\n",
      "    beta ~ normal(0, 1);\n",
      "    sigma ~ uniform(0, 10);\n",
      "    divorce_rate ~ normal(mu, sigma);\n",
      "}\n",
      "\n"
     ]
    }
   ],
   "source": [
    "m5_3 = StanCache(filename='../models/m5_3.stan').compile()\n",
    "m5_3.model_code"
   ]
  },
  {
   "cell_type": "code",
   "execution_count": 25,
   "metadata": {},
   "outputs": [
    {
     "name": "stdout",
     "output_type": "stream",
     "text": [
      "Inference for Stan model: anon_model_623c071ba8c404bae8e2868021df5aa8.\n",
      "4 chains, each with iter=500; warmup=250; thin=1; \n",
      "post-warmup draws per chain=250, total post-warmup draws=1000.\n",
      "\n",
      "          mean se_mean     sd   2.5%    25%    50%    75%  97.5%  n_eff   Rhat\n",
      "alpha     9.69  7.4e-3   0.21   9.28   9.55   9.68   9.82  10.12    824    1.0\n",
      "beta[0]  -0.12    0.01   0.29  -0.67  -0.31  -0.11   0.07   0.49    671    1.0\n",
      "beta[1]  -1.11    0.01   0.29  -1.68  -1.31  -1.12  -0.93   -0.5    692    1.0\n",
      "sigma     1.53  6.1e-3   0.16   1.24   1.41   1.51   1.62   1.87    710    1.0\n",
      "\n",
      "Samples were drawn using NUTS at Mon Mar  5 22:56:55 2018.\n",
      "For each parameter, n_eff is a crude measure of effective sample size,\n",
      "and Rhat is the potential scale reduction factor on split chains (at \n",
      "convergence, Rhat=1).\n"
     ]
    },
    {
     "name": "stderr",
     "output_type": "stream",
     "text": [
      "/home/gianluca/.virtualenvs/rethinking/lib/python3.6/site-packages/pystan/misc.py:399: FutureWarning: Conversion of the second argument of issubdtype from `float` to `np.floating` is deprecated. In future, it will be treated as `np.float64 == np.dtype(float).type`.\n",
      "  elif np.issubdtype(np.asarray(v).dtype, float):\n"
     ]
    }
   ],
   "source": [
    "divorce_multi_data = dict(\n",
    "    N=divorce.shape[0],\n",
    "    K=2,\n",
    "    X=divorce.loc[:, ['Marriage_s', 'MedianAgeMarriage_s']],\n",
    "    divorce_rate = divorce.Divorce\n",
    ")\n",
    "\n",
    "fit5_3 = m5_3.sampling(data=divorce_multi_data, iter=500)\n",
    "print(fit5_3.stansummary(pars=['alpha', 'beta', 'sigma']))"
   ]
  },
  {
   "cell_type": "code",
   "execution_count": 26,
   "metadata": {},
   "outputs": [
    {
     "data": {
      "text/html": [
       "\n",
       "<div class=\"bk-root\">\n",
       "    <div class=\"bk-plotdiv\" id=\"e0548911-5eb6-4e2b-88f6-21ebda277cf8\"></div>\n",
       "</div>"
      ]
     },
     "metadata": {},
     "output_type": "display_data"
    },
    {
     "data": {
      "application/javascript": [
       "(function(root) {\n",
       "  function embed_document(root) {\n",
       "    \n",
       "  var docs_json = {\"dc0e2bd6-65e4-4d88-8bb4-f4e432cc4907\":{\"roots\":{\"references\":[{\"attributes\":{\"fill_alpha\":{\"value\":0.35},\"fill_color\":{\"value\":\"blue\"},\"line_alpha\":{\"value\":0.35},\"line_color\":{\"value\":\"blue\"},\"line_width\":{\"value\":3},\"x\":{\"field\":\"x\"},\"y\":{\"field\":\"y\"}},\"id\":\"27fd5d42-4e38-4891-9262-e584099a0275\",\"type\":\"Circle\"},{\"attributes\":{\"axis_label\":\"Value\",\"formatter\":{\"id\":\"0f80f77b-7147-479a-9e62-5340e2ea3d21\",\"type\":\"BasicTickFormatter\"},\"plot\":{\"id\":\"b3e7f6c4-3e9f-46c0-8ed8-ab594e4cc1ad\",\"subtype\":\"Figure\",\"type\":\"Plot\"},\"ticker\":{\"id\":\"5405e65b-e8c8-4a8a-a1f3-6949e7a0d04b\",\"type\":\"BasicTicker\"}},\"id\":\"55c398a6-3b5a-4a82-b2e4-b47d8592c1ac\",\"type\":\"LinearAxis\"},{\"attributes\":{\"data_source\":{\"id\":\"62326cc1-c1b7-470a-9c33-92de5fa03969\",\"type\":\"ColumnDataSource\"},\"glyph\":{\"id\":\"6f4c8780-8dac-4bea-ab87-242107400d6e\",\"type\":\"Segment\"},\"hover_glyph\":null,\"muted_glyph\":null,\"nonselection_glyph\":{\"id\":\"99e185d3-f167-45fe-a418-4926080ffa47\",\"type\":\"Segment\"},\"selection_glyph\":null,\"view\":{\"id\":\"5af47870-5e2f-495b-89de-f89116ccc97d\",\"type\":\"CDSView\"}},\"id\":\"0ebd049e-cf2a-400a-b20d-7735a11309ee\",\"type\":\"GlyphRenderer\"},{\"attributes\":{\"line_color\":\"#1f77b4\",\"line_dash\":[6],\"x\":{\"field\":\"x\"},\"y\":{\"field\":\"y\"}},\"id\":\"57e8544a-b1cc-42ef-b486-9805de36fedb\",\"type\":\"Line\"},{\"attributes\":{\"dimension\":1,\"plot\":{\"id\":\"b3e7f6c4-3e9f-46c0-8ed8-ab594e4cc1ad\",\"subtype\":\"Figure\",\"type\":\"Plot\"},\"ticker\":{\"id\":\"da16ab8f-ec3f-47fa-89da-9c127ea3eb66\",\"type\":\"CategoricalTicker\"}},\"id\":\"06db2332-7020-47b2-9912-753b6f726638\",\"type\":\"Grid\"},{\"attributes\":{\"source\":{\"id\":\"62326cc1-c1b7-470a-9c33-92de5fa03969\",\"type\":\"ColumnDataSource\"}},\"id\":\"5af47870-5e2f-495b-89de-f89116ccc97d\",\"type\":\"CDSView\"},{\"attributes\":{\"plot\":{\"id\":\"b3e7f6c4-3e9f-46c0-8ed8-ab594e4cc1ad\",\"subtype\":\"Figure\",\"type\":\"Plot\"},\"ticker\":{\"id\":\"5405e65b-e8c8-4a8a-a1f3-6949e7a0d04b\",\"type\":\"BasicTicker\"}},\"id\":\"0bf21284-0c15-4624-b8df-4ae62e607c0b\",\"type\":\"Grid\"},{\"attributes\":{\"fill_alpha\":{\"value\":0.1},\"fill_color\":{\"value\":\"#1f77b4\"},\"line_alpha\":{\"value\":0.1},\"line_color\":{\"value\":\"#1f77b4\"},\"line_width\":{\"value\":3},\"x\":{\"field\":\"x\"},\"y\":{\"field\":\"y\"}},\"id\":\"9bfdb420-269c-4449-a3b8-9cc8a6ad11d2\",\"type\":\"Circle\"},{\"attributes\":{\"source\":{\"id\":\"ee07e6e1-4dd5-49b9-a14a-02d718131d40\",\"type\":\"ColumnDataSource\"}},\"id\":\"4ef93b91-2414-418b-a266-65aa2cad458d\",\"type\":\"CDSView\"},{\"attributes\":{},\"id\":\"da16ab8f-ec3f-47fa-89da-9c127ea3eb66\",\"type\":\"CategoricalTicker\"},{\"attributes\":{},\"id\":\"f9a2e084-1f8d-4e18-908d-962fee83d3ac\",\"type\":\"HelpTool\"},{\"attributes\":{\"active_drag\":\"auto\",\"active_inspect\":\"auto\",\"active_scroll\":\"auto\",\"active_tap\":\"auto\",\"tools\":[{\"id\":\"2255025b-7d4c-4b1e-9728-a997cbeba4b2\",\"type\":\"PanTool\"},{\"id\":\"413048f7-fe9c-4dcd-8664-d9128e6fc5fe\",\"type\":\"WheelZoomTool\"},{\"id\":\"feb3a7ce-9a4a-4b52-99d0-6f116e7cbb09\",\"type\":\"BoxZoomTool\"},{\"id\":\"2112196f-f561-465a-8f52-448d0574ce19\",\"type\":\"SaveTool\"},{\"id\":\"f20fb2d5-eed7-45a6-bf6c-8b3368abd02a\",\"type\":\"ResetTool\"},{\"id\":\"f9a2e084-1f8d-4e18-908d-962fee83d3ac\",\"type\":\"HelpTool\"}]},\"id\":\"6db82d8a-da01-4823-aad9-65a66a3bed7f\",\"type\":\"Toolbar\"},{\"attributes\":{\"formatter\":{\"id\":\"16f454f0-218b-4396-877f-fd78c74073eb\",\"type\":\"CategoricalTickFormatter\"},\"plot\":{\"id\":\"b3e7f6c4-3e9f-46c0-8ed8-ab594e4cc1ad\",\"subtype\":\"Figure\",\"type\":\"Plot\"},\"ticker\":{\"id\":\"da16ab8f-ec3f-47fa-89da-9c127ea3eb66\",\"type\":\"CategoricalTicker\"}},\"id\":\"998da35a-0748-488b-aafe-203c613b351a\",\"type\":\"CategoricalAxis\"},{\"attributes\":{},\"id\":\"f20fb2d5-eed7-45a6-bf6c-8b3368abd02a\",\"type\":\"ResetTool\"},{\"attributes\":{\"callback\":null},\"id\":\"a08404d7-28ed-4f62-8282-135ddaeb7600\",\"type\":\"DataRange1d\"},{\"attributes\":{},\"id\":\"5405e65b-e8c8-4a8a-a1f3-6949e7a0d04b\",\"type\":\"BasicTicker\"},{\"attributes\":{\"callback\":null,\"column_names\":[\"x\",\"y\"],\"data\":{\"x\":[9.684004691595245,-0.11406016572525923,-1.1152878245220026,1.5122918622665542],\"y\":[\"alpha\",\"beta[0]\",\"beta[1]\",\"sigma\"]}},\"id\":\"eec59dc9-b4ff-49fb-8772-c449b9a8994d\",\"type\":\"ColumnDataSource\"},{\"attributes\":{},\"id\":\"2112196f-f561-465a-8f52-448d0574ce19\",\"type\":\"SaveTool\"},{\"attributes\":{\"align\":\"center\",\"plot\":null,\"text\":\"Summary fit\"},\"id\":\"12831201-ad1d-4caf-b7dc-2d553a4c2178\",\"type\":\"Title\"},{\"attributes\":{\"overlay\":{\"id\":\"3c15120f-b59a-4290-876b-b96e87c46266\",\"type\":\"BoxAnnotation\"}},\"id\":\"feb3a7ce-9a4a-4b52-99d0-6f116e7cbb09\",\"type\":\"BoxZoomTool\"},{\"attributes\":{\"callback\":null,\"column_names\":[\"x\",\"y\"],\"data\":{\"x\":[0,0],\"y\":[0,\"alpha\"]}},\"id\":\"ee07e6e1-4dd5-49b9-a14a-02d718131d40\",\"type\":\"ColumnDataSource\"},{\"attributes\":{\"callback\":null,\"column_names\":[\"x0\",\"y0\",\"x1\",\"y1\"],\"data\":{\"x0\":[9.368393806783732,-0.5865633124182826,-1.5818528076618394,1.28155756832718],\"x1\":[10.033200567736401,0.35688732968951925,-0.6085950207132177,1.81432033974881],\"y0\":[\"alpha\",\"beta[0]\",\"beta[1]\",\"sigma\"],\"y1\":[\"alpha\",\"beta[0]\",\"beta[1]\",\"sigma\"]}},\"id\":\"62326cc1-c1b7-470a-9c33-92de5fa03969\",\"type\":\"ColumnDataSource\"},{\"attributes\":{\"line_alpha\":{\"value\":0.1},\"line_color\":{\"value\":\"#1f77b4\"},\"x0\":{\"field\":\"x0\"},\"x1\":{\"field\":\"x1\"},\"y0\":{\"field\":\"y0\"},\"y1\":{\"field\":\"y1\"}},\"id\":\"99e185d3-f167-45fe-a418-4926080ffa47\",\"type\":\"Segment\"},{\"attributes\":{},\"id\":\"4d059b7a-6555-44d6-a02e-cb9c36b98c59\",\"type\":\"LinearScale\"},{\"attributes\":{\"source\":{\"id\":\"eec59dc9-b4ff-49fb-8772-c449b9a8994d\",\"type\":\"ColumnDataSource\"}},\"id\":\"f1b42d99-6988-4193-a6f8-41c3975e58ba\",\"type\":\"CDSView\"},{\"attributes\":{},\"id\":\"413048f7-fe9c-4dcd-8664-d9128e6fc5fe\",\"type\":\"WheelZoomTool\"},{\"attributes\":{\"below\":[{\"id\":\"55c398a6-3b5a-4a82-b2e4-b47d8592c1ac\",\"type\":\"LinearAxis\"}],\"left\":[{\"id\":\"998da35a-0748-488b-aafe-203c613b351a\",\"type\":\"CategoricalAxis\"}],\"renderers\":[{\"id\":\"55c398a6-3b5a-4a82-b2e4-b47d8592c1ac\",\"type\":\"LinearAxis\"},{\"id\":\"0bf21284-0c15-4624-b8df-4ae62e607c0b\",\"type\":\"Grid\"},{\"id\":\"998da35a-0748-488b-aafe-203c613b351a\",\"type\":\"CategoricalAxis\"},{\"id\":\"06db2332-7020-47b2-9912-753b6f726638\",\"type\":\"Grid\"},{\"id\":\"3c15120f-b59a-4290-876b-b96e87c46266\",\"type\":\"BoxAnnotation\"},{\"id\":\"0ebd049e-cf2a-400a-b20d-7735a11309ee\",\"type\":\"GlyphRenderer\"},{\"id\":\"77869e4c-f0dd-4c3f-84c1-645aecf3d60e\",\"type\":\"GlyphRenderer\"},{\"id\":\"f7bc9c61-52b4-4c64-80fb-c93d5ca3a8b7\",\"type\":\"GlyphRenderer\"}],\"title\":{\"id\":\"12831201-ad1d-4caf-b7dc-2d553a4c2178\",\"type\":\"Title\"},\"toolbar\":{\"id\":\"6db82d8a-da01-4823-aad9-65a66a3bed7f\",\"type\":\"Toolbar\"},\"x_range\":{\"id\":\"a08404d7-28ed-4f62-8282-135ddaeb7600\",\"type\":\"DataRange1d\"},\"x_scale\":{\"id\":\"4d059b7a-6555-44d6-a02e-cb9c36b98c59\",\"type\":\"LinearScale\"},\"y_range\":{\"id\":\"f7c0cf78-ca17-4413-9b58-33c52d0e5f88\",\"type\":\"FactorRange\"},\"y_scale\":{\"id\":\"3be02522-c5ee-47bd-bb56-9fa91b210cb7\",\"type\":\"CategoricalScale\"}},\"id\":\"b3e7f6c4-3e9f-46c0-8ed8-ab594e4cc1ad\",\"subtype\":\"Figure\",\"type\":\"Plot\"},{\"attributes\":{\"data_source\":{\"id\":\"ee07e6e1-4dd5-49b9-a14a-02d718131d40\",\"type\":\"ColumnDataSource\"},\"glyph\":{\"id\":\"57e8544a-b1cc-42ef-b486-9805de36fedb\",\"type\":\"Line\"},\"hover_glyph\":null,\"muted_glyph\":null,\"nonselection_glyph\":{\"id\":\"8e991bd9-17f0-41c1-8f31-120e662a4372\",\"type\":\"Line\"},\"selection_glyph\":null,\"view\":{\"id\":\"4ef93b91-2414-418b-a266-65aa2cad458d\",\"type\":\"CDSView\"}},\"id\":\"f7bc9c61-52b4-4c64-80fb-c93d5ca3a8b7\",\"type\":\"GlyphRenderer\"},{\"attributes\":{},\"id\":\"0f80f77b-7147-479a-9e62-5340e2ea3d21\",\"type\":\"BasicTickFormatter\"},{\"attributes\":{\"line_color\":{\"value\":\"#1f77b4\"},\"x0\":{\"field\":\"x0\"},\"x1\":{\"field\":\"x1\"},\"y0\":{\"field\":\"y0\"},\"y1\":{\"field\":\"y1\"}},\"id\":\"6f4c8780-8dac-4bea-ab87-242107400d6e\",\"type\":\"Segment\"},{\"attributes\":{},\"id\":\"3be02522-c5ee-47bd-bb56-9fa91b210cb7\",\"type\":\"CategoricalScale\"},{\"attributes\":{},\"id\":\"16f454f0-218b-4396-877f-fd78c74073eb\",\"type\":\"CategoricalTickFormatter\"},{\"attributes\":{\"line_alpha\":0.1,\"line_color\":\"#1f77b4\",\"line_dash\":[6],\"x\":{\"field\":\"x\"},\"y\":{\"field\":\"y\"}},\"id\":\"8e991bd9-17f0-41c1-8f31-120e662a4372\",\"type\":\"Line\"},{\"attributes\":{},\"id\":\"2255025b-7d4c-4b1e-9728-a997cbeba4b2\",\"type\":\"PanTool\"},{\"attributes\":{\"data_source\":{\"id\":\"eec59dc9-b4ff-49fb-8772-c449b9a8994d\",\"type\":\"ColumnDataSource\"},\"glyph\":{\"id\":\"27fd5d42-4e38-4891-9262-e584099a0275\",\"type\":\"Circle\"},\"hover_glyph\":null,\"muted_glyph\":null,\"nonselection_glyph\":{\"id\":\"9bfdb420-269c-4449-a3b8-9cc8a6ad11d2\",\"type\":\"Circle\"},\"selection_glyph\":null,\"view\":{\"id\":\"f1b42d99-6988-4193-a6f8-41c3975e58ba\",\"type\":\"CDSView\"}},\"id\":\"77869e4c-f0dd-4c3f-84c1-645aecf3d60e\",\"type\":\"GlyphRenderer\"},{\"attributes\":{\"callback\":null,\"factors\":[\"sigma\",\"beta[1]\",\"beta[0]\",\"alpha\"]},\"id\":\"f7c0cf78-ca17-4413-9b58-33c52d0e5f88\",\"type\":\"FactorRange\"},{\"attributes\":{\"bottom_units\":\"screen\",\"fill_alpha\":{\"value\":0.5},\"fill_color\":{\"value\":\"lightgrey\"},\"left_units\":\"screen\",\"level\":\"overlay\",\"line_alpha\":{\"value\":1.0},\"line_color\":{\"value\":\"black\"},\"line_dash\":[4,4],\"line_width\":{\"value\":2},\"plot\":null,\"render_mode\":\"css\",\"right_units\":\"screen\",\"top_units\":\"screen\"},\"id\":\"3c15120f-b59a-4290-876b-b96e87c46266\",\"type\":\"BoxAnnotation\"}],\"root_ids\":[\"b3e7f6c4-3e9f-46c0-8ed8-ab594e4cc1ad\"]},\"title\":\"Bokeh Application\",\"version\":\"0.12.14\"}};\n",
       "  var render_items = [{\"docid\":\"dc0e2bd6-65e4-4d88-8bb4-f4e432cc4907\",\"elementid\":\"e0548911-5eb6-4e2b-88f6-21ebda277cf8\",\"modelid\":\"b3e7f6c4-3e9f-46c0-8ed8-ab594e4cc1ad\"}];\n",
       "  root.Bokeh.embed.embed_items_notebook(docs_json, render_items);\n",
       "\n",
       "  }\n",
       "  if (root.Bokeh !== undefined) {\n",
       "    embed_document(root);\n",
       "  } else {\n",
       "    var attempts = 0;\n",
       "    var timer = setInterval(function(root) {\n",
       "      if (root.Bokeh !== undefined) {\n",
       "        embed_document(root);\n",
       "        clearInterval(timer);\n",
       "      }\n",
       "      attempts++;\n",
       "      if (attempts > 100) {\n",
       "        console.log(\"Bokeh: ERROR: Unable to run BokehJS code because BokehJS library is missing\")\n",
       "        clearInterval(timer);\n",
       "      }\n",
       "    }, 10, root)\n",
       "  }\n",
       "})(window);"
      ],
      "application/vnd.bokehjs_exec.v0+json": ""
     },
     "metadata": {
      "application/vnd.bokehjs_exec.v0+json": {
       "id": "b3e7f6c4-3e9f-46c0-8ed8-ab594e4cc1ad"
      }
     },
     "output_type": "display_data"
    }
   ],
   "source": [
    "summaryplot(fit5_3, pars=['alpha', 'beta', 'sigma'])"
   ]
  },
  {
   "cell_type": "markdown",
   "metadata": {},
   "source": [
    "# Predictor residual plots"
   ]
  },
  {
   "cell_type": "code",
   "execution_count": null,
   "metadata": {},
   "outputs": [],
   "source": []
  }
 ],
 "metadata": {
  "kernelspec": {
   "display_name": "Python 3",
   "language": "python",
   "name": "python3"
  },
  "language_info": {
   "codemirror_mode": {
    "name": "ipython",
    "version": 3
   },
   "file_extension": ".py",
   "mimetype": "text/x-python",
   "name": "python",
   "nbconvert_exporter": "python",
   "pygments_lexer": "ipython3",
   "version": "3.6.3"
  }
 },
 "nbformat": 4,
 "nbformat_minor": 2
}
