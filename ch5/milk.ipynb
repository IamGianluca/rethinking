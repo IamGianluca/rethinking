{
 "cells": [
  {
   "cell_type": "code",
   "execution_count": 1,
   "metadata": {},
   "outputs": [],
   "source": [
    "%matplotlib inline\n",
    "\n",
    "import os \n",
    "\n",
    "import matplotlib.pyplot as plt\n",
    "import numpy as np\n",
    "import pandas as pd\n",
    "from pystan import StanModel"
   ]
  },
  {
   "cell_type": "code",
   "execution_count": 2,
   "metadata": {},
   "outputs": [],
   "source": [
    "DATA_FOLDER = '../data'\n",
    "MILK_FULLPATH = os.path.join(DATA_FOLDER, 'milk.csv')"
   ]
  },
  {
   "cell_type": "code",
   "execution_count": 3,
   "metadata": {},
   "outputs": [
    {
     "data": {
      "text/html": [
       "<div>\n",
       "<style scoped>\n",
       "    .dataframe tbody tr th:only-of-type {\n",
       "        vertical-align: middle;\n",
       "    }\n",
       "\n",
       "    .dataframe tbody tr th {\n",
       "        vertical-align: top;\n",
       "    }\n",
       "\n",
       "    .dataframe thead th {\n",
       "        text-align: right;\n",
       "    }\n",
       "</style>\n",
       "<table border=\"1\" class=\"dataframe\">\n",
       "  <thead>\n",
       "    <tr style=\"text-align: right;\">\n",
       "      <th></th>\n",
       "      <th>clade</th>\n",
       "      <th>species</th>\n",
       "      <th>kcal.per.g</th>\n",
       "      <th>perc.fat</th>\n",
       "      <th>perc.protein</th>\n",
       "      <th>perc.lactose</th>\n",
       "      <th>mass</th>\n",
       "      <th>neocortex.perc</th>\n",
       "    </tr>\n",
       "  </thead>\n",
       "  <tbody>\n",
       "    <tr>\n",
       "      <th>0</th>\n",
       "      <td>Strepsirrhine</td>\n",
       "      <td>Eulemur fulvus</td>\n",
       "      <td>0.49</td>\n",
       "      <td>16.60</td>\n",
       "      <td>15.42</td>\n",
       "      <td>67.98</td>\n",
       "      <td>1.95</td>\n",
       "      <td>55.16</td>\n",
       "    </tr>\n",
       "    <tr>\n",
       "      <th>1</th>\n",
       "      <td>Strepsirrhine</td>\n",
       "      <td>E macaco</td>\n",
       "      <td>0.51</td>\n",
       "      <td>19.27</td>\n",
       "      <td>16.91</td>\n",
       "      <td>63.82</td>\n",
       "      <td>2.09</td>\n",
       "      <td>NaN</td>\n",
       "    </tr>\n",
       "    <tr>\n",
       "      <th>2</th>\n",
       "      <td>Strepsirrhine</td>\n",
       "      <td>E mongoz</td>\n",
       "      <td>0.46</td>\n",
       "      <td>14.11</td>\n",
       "      <td>16.85</td>\n",
       "      <td>69.04</td>\n",
       "      <td>2.51</td>\n",
       "      <td>NaN</td>\n",
       "    </tr>\n",
       "    <tr>\n",
       "      <th>3</th>\n",
       "      <td>Strepsirrhine</td>\n",
       "      <td>E rubriventer</td>\n",
       "      <td>0.48</td>\n",
       "      <td>14.91</td>\n",
       "      <td>13.18</td>\n",
       "      <td>71.91</td>\n",
       "      <td>1.62</td>\n",
       "      <td>NaN</td>\n",
       "    </tr>\n",
       "    <tr>\n",
       "      <th>4</th>\n",
       "      <td>Strepsirrhine</td>\n",
       "      <td>Lemur catta</td>\n",
       "      <td>0.60</td>\n",
       "      <td>27.28</td>\n",
       "      <td>19.50</td>\n",
       "      <td>53.22</td>\n",
       "      <td>2.19</td>\n",
       "      <td>NaN</td>\n",
       "    </tr>\n",
       "  </tbody>\n",
       "</table>\n",
       "</div>"
      ],
      "text/plain": [
       "           clade         species  kcal.per.g  perc.fat  perc.protein  \\\n",
       "0  Strepsirrhine  Eulemur fulvus        0.49     16.60         15.42   \n",
       "1  Strepsirrhine        E macaco        0.51     19.27         16.91   \n",
       "2  Strepsirrhine        E mongoz        0.46     14.11         16.85   \n",
       "3  Strepsirrhine   E rubriventer        0.48     14.91         13.18   \n",
       "4  Strepsirrhine     Lemur catta        0.60     27.28         19.50   \n",
       "\n",
       "   perc.lactose  mass  neocortex.perc  \n",
       "0         67.98  1.95           55.16  \n",
       "1         63.82  2.09             NaN  \n",
       "2         69.04  2.51             NaN  \n",
       "3         71.91  1.62             NaN  \n",
       "4         53.22  2.19             NaN  "
      ]
     },
     "execution_count": 3,
     "metadata": {},
     "output_type": "execute_result"
    }
   ],
   "source": [
    "milk = pd.read_csv(MILK_FULLPATH)\n",
    "milk.head()"
   ]
  },
  {
   "cell_type": "code",
   "execution_count": 4,
   "metadata": {},
   "outputs": [
    {
     "data": {
      "text/html": [
       "<div>\n",
       "<style scoped>\n",
       "    .dataframe tbody tr th:only-of-type {\n",
       "        vertical-align: middle;\n",
       "    }\n",
       "\n",
       "    .dataframe tbody tr th {\n",
       "        vertical-align: top;\n",
       "    }\n",
       "\n",
       "    .dataframe thead th {\n",
       "        text-align: right;\n",
       "    }\n",
       "</style>\n",
       "<table border=\"1\" class=\"dataframe\">\n",
       "  <thead>\n",
       "    <tr style=\"text-align: right;\">\n",
       "      <th></th>\n",
       "      <th>kcal.per.g</th>\n",
       "      <th>perc.fat</th>\n",
       "      <th>perc.protein</th>\n",
       "      <th>perc.lactose</th>\n",
       "      <th>mass</th>\n",
       "      <th>neocortex.perc</th>\n",
       "    </tr>\n",
       "  </thead>\n",
       "  <tbody>\n",
       "    <tr>\n",
       "      <th>count</th>\n",
       "      <td>29.000000</td>\n",
       "      <td>29.000000</td>\n",
       "      <td>29.000000</td>\n",
       "      <td>29.000000</td>\n",
       "      <td>29.000000</td>\n",
       "      <td>17.000000</td>\n",
       "    </tr>\n",
       "    <tr>\n",
       "      <th>mean</th>\n",
       "      <td>0.641724</td>\n",
       "      <td>33.990345</td>\n",
       "      <td>16.403448</td>\n",
       "      <td>49.606207</td>\n",
       "      <td>14.726897</td>\n",
       "      <td>67.575882</td>\n",
       "    </tr>\n",
       "    <tr>\n",
       "      <th>std</th>\n",
       "      <td>0.161402</td>\n",
       "      <td>14.286670</td>\n",
       "      <td>4.846878</td>\n",
       "      <td>14.055174</td>\n",
       "      <td>24.770469</td>\n",
       "      <td>5.968612</td>\n",
       "    </tr>\n",
       "    <tr>\n",
       "      <th>min</th>\n",
       "      <td>0.460000</td>\n",
       "      <td>3.930000</td>\n",
       "      <td>7.370000</td>\n",
       "      <td>27.090000</td>\n",
       "      <td>0.120000</td>\n",
       "      <td>55.160000</td>\n",
       "    </tr>\n",
       "    <tr>\n",
       "      <th>25%</th>\n",
       "      <td>0.490000</td>\n",
       "      <td>21.220000</td>\n",
       "      <td>13.000000</td>\n",
       "      <td>37.800000</td>\n",
       "      <td>1.620000</td>\n",
       "      <td>64.540000</td>\n",
       "    </tr>\n",
       "    <tr>\n",
       "      <th>50%</th>\n",
       "      <td>0.600000</td>\n",
       "      <td>36.840000</td>\n",
       "      <td>15.800000</td>\n",
       "      <td>48.640000</td>\n",
       "      <td>3.470000</td>\n",
       "      <td>68.850000</td>\n",
       "    </tr>\n",
       "    <tr>\n",
       "      <th>75%</th>\n",
       "      <td>0.730000</td>\n",
       "      <td>46.080000</td>\n",
       "      <td>20.770000</td>\n",
       "      <td>60.120000</td>\n",
       "      <td>10.720000</td>\n",
       "      <td>71.260000</td>\n",
       "    </tr>\n",
       "    <tr>\n",
       "      <th>max</th>\n",
       "      <td>0.970000</td>\n",
       "      <td>55.510000</td>\n",
       "      <td>25.300000</td>\n",
       "      <td>71.910000</td>\n",
       "      <td>97.720000</td>\n",
       "      <td>76.300000</td>\n",
       "    </tr>\n",
       "  </tbody>\n",
       "</table>\n",
       "</div>"
      ],
      "text/plain": [
       "       kcal.per.g   perc.fat  perc.protein  perc.lactose       mass  \\\n",
       "count   29.000000  29.000000     29.000000     29.000000  29.000000   \n",
       "mean     0.641724  33.990345     16.403448     49.606207  14.726897   \n",
       "std      0.161402  14.286670      4.846878     14.055174  24.770469   \n",
       "min      0.460000   3.930000      7.370000     27.090000   0.120000   \n",
       "25%      0.490000  21.220000     13.000000     37.800000   1.620000   \n",
       "50%      0.600000  36.840000     15.800000     48.640000   3.470000   \n",
       "75%      0.730000  46.080000     20.770000     60.120000  10.720000   \n",
       "max      0.970000  55.510000     25.300000     71.910000  97.720000   \n",
       "\n",
       "       neocortex.perc  \n",
       "count       17.000000  \n",
       "mean        67.575882  \n",
       "std          5.968612  \n",
       "min         55.160000  \n",
       "25%         64.540000  \n",
       "50%         68.850000  \n",
       "75%         71.260000  \n",
       "max         76.300000  "
      ]
     },
     "execution_count": 4,
     "metadata": {},
     "output_type": "execute_result"
    }
   ],
   "source": [
    "milk.describe()"
   ]
  },
  {
   "cell_type": "code",
   "execution_count": 5,
   "metadata": {},
   "outputs": [
    {
     "name": "stderr",
     "output_type": "stream",
     "text": [
      "INFO:pystan:COMPILING THE C++ CODE FOR MODEL anon_model_aa94fcbabf321b641ccd10524dd27798 NOW.\n"
     ]
    }
   ],
   "source": [
    "cortex_code = \"\"\"\n",
    "data {\n",
    "    int<lower=0> N;\n",
    "    vector[N] X;\n",
    "    vector[N] kcal_per_g;\n",
    "}\n",
    "parameters {\n",
    "    real alpha;\n",
    "    real beta;\n",
    "    real<lower=0> sigma;\n",
    "\n",
    "}\n",
    "transformed parameters {\n",
    "    vector[N] mu;\n",
    "    \n",
    "    mu = alpha + beta * X;\n",
    "}\n",
    "model {\n",
    "    alpha ~ normal(0, 100);\n",
    "    beta ~ normal(0, 1);\n",
    "    //sigma ~ uniform(0, 1);\n",
    "    kcal_per_g ~ normal(mu, sigma);\n",
    "}\"\"\"\n",
    "\n",
    "sm1 = StanModel(model_code=cortex_code)"
   ]
  },
  {
   "cell_type": "code",
   "execution_count": 6,
   "metadata": {},
   "outputs": [
    {
     "ename": "RuntimeError",
     "evalue": "Initialization failed.",
     "output_type": "error",
     "traceback": [
      "\u001b[0;31m---------------------------------------------------------------------------\u001b[0m",
      "\u001b[0;31mRemoteTraceback\u001b[0m                           Traceback (most recent call last)",
      "\u001b[0;31mRemoteTraceback\u001b[0m: \n\"\"\"\nTraceback (most recent call last):\n  File \"/home/gianluca/.pyenv/versions/3.6.3/lib/python3.6/multiprocessing/pool.py\", line 119, in worker\n    result = (True, func(*args, **kwds))\n  File \"/home/gianluca/.pyenv/versions/3.6.3/lib/python3.6/multiprocessing/pool.py\", line 44, in mapstar\n    return list(map(*args))\n  File \"stanfit4anon_model_aa94fcbabf321b641ccd10524dd27798_5191376590420251824.pyx\", line 368, in stanfit4anon_model_aa94fcbabf321b641ccd10524dd27798_5191376590420251824._call_sampler_star\n  File \"stanfit4anon_model_aa94fcbabf321b641ccd10524dd27798_5191376590420251824.pyx\", line 401, in stanfit4anon_model_aa94fcbabf321b641ccd10524dd27798_5191376590420251824._call_sampler\nRuntimeError: Initialization failed.\n\"\"\"",
      "\nThe above exception was the direct cause of the following exception:\n",
      "\u001b[0;31mRuntimeError\u001b[0m                              Traceback (most recent call last)",
      "\u001b[0;32m<ipython-input-6-a47185558e39>\u001b[0m in \u001b[0;36m<module>\u001b[0;34m()\u001b[0m\n\u001b[1;32m      5\u001b[0m )\n\u001b[1;32m      6\u001b[0m \u001b[0;34m\u001b[0m\u001b[0m\n\u001b[0;32m----> 7\u001b[0;31m \u001b[0mfit1_1\u001b[0m \u001b[0;34m=\u001b[0m \u001b[0msm1\u001b[0m\u001b[0;34m.\u001b[0m\u001b[0msampling\u001b[0m\u001b[0;34m(\u001b[0m\u001b[0mdata\u001b[0m\u001b[0;34m=\u001b[0m\u001b[0mcortex_data\u001b[0m\u001b[0;34m)\u001b[0m\u001b[0;34m\u001b[0m\u001b[0m\n\u001b[0m\u001b[1;32m      8\u001b[0m \u001b[0mfit1_1\u001b[0m\u001b[0;34m\u001b[0m\u001b[0m\n",
      "\u001b[0;32m~/.virtualenvs/rethinking/lib/python3.6/site-packages/pystan/model.py\u001b[0m in \u001b[0;36msampling\u001b[0;34m(self, data, pars, chains, iter, warmup, thin, seed, init, sample_file, diagnostic_file, verbose, algorithm, control, n_jobs, **kwargs)\u001b[0m\n\u001b[1;32m    724\u001b[0m         \u001b[0mcall_sampler_args\u001b[0m \u001b[0;34m=\u001b[0m \u001b[0mizip\u001b[0m\u001b[0;34m(\u001b[0m\u001b[0mitertools\u001b[0m\u001b[0;34m.\u001b[0m\u001b[0mrepeat\u001b[0m\u001b[0;34m(\u001b[0m\u001b[0mdata\u001b[0m\u001b[0;34m)\u001b[0m\u001b[0;34m,\u001b[0m \u001b[0margs_list\u001b[0m\u001b[0;34m,\u001b[0m \u001b[0mitertools\u001b[0m\u001b[0;34m.\u001b[0m\u001b[0mrepeat\u001b[0m\u001b[0;34m(\u001b[0m\u001b[0mpars\u001b[0m\u001b[0;34m)\u001b[0m\u001b[0;34m)\u001b[0m\u001b[0;34m\u001b[0m\u001b[0m\n\u001b[1;32m    725\u001b[0m         \u001b[0mcall_sampler_star\u001b[0m \u001b[0;34m=\u001b[0m \u001b[0mself\u001b[0m\u001b[0;34m.\u001b[0m\u001b[0mmodule\u001b[0m\u001b[0;34m.\u001b[0m\u001b[0m_call_sampler_star\u001b[0m\u001b[0;34m\u001b[0m\u001b[0m\n\u001b[0;32m--> 726\u001b[0;31m         \u001b[0mret_and_samples\u001b[0m \u001b[0;34m=\u001b[0m \u001b[0m_map_parallel\u001b[0m\u001b[0;34m(\u001b[0m\u001b[0mcall_sampler_star\u001b[0m\u001b[0;34m,\u001b[0m \u001b[0mcall_sampler_args\u001b[0m\u001b[0;34m,\u001b[0m \u001b[0mn_jobs\u001b[0m\u001b[0;34m)\u001b[0m\u001b[0;34m\u001b[0m\u001b[0m\n\u001b[0m\u001b[1;32m    727\u001b[0m         \u001b[0msamples\u001b[0m \u001b[0;34m=\u001b[0m \u001b[0;34m[\u001b[0m\u001b[0msmpl\u001b[0m \u001b[0;32mfor\u001b[0m \u001b[0m_\u001b[0m\u001b[0;34m,\u001b[0m \u001b[0msmpl\u001b[0m \u001b[0;32min\u001b[0m \u001b[0mret_and_samples\u001b[0m\u001b[0;34m]\u001b[0m\u001b[0;34m\u001b[0m\u001b[0m\n\u001b[1;32m    728\u001b[0m \u001b[0;34m\u001b[0m\u001b[0m\n",
      "\u001b[0;32m~/.virtualenvs/rethinking/lib/python3.6/site-packages/pystan/model.py\u001b[0m in \u001b[0;36m_map_parallel\u001b[0;34m(function, args, n_jobs)\u001b[0m\n\u001b[1;32m     79\u001b[0m         \u001b[0;32mtry\u001b[0m\u001b[0;34m:\u001b[0m\u001b[0;34m\u001b[0m\u001b[0m\n\u001b[1;32m     80\u001b[0m             \u001b[0mpool\u001b[0m \u001b[0;34m=\u001b[0m \u001b[0mmultiprocessing\u001b[0m\u001b[0;34m.\u001b[0m\u001b[0mPool\u001b[0m\u001b[0;34m(\u001b[0m\u001b[0mprocesses\u001b[0m\u001b[0;34m=\u001b[0m\u001b[0mn_jobs\u001b[0m\u001b[0;34m)\u001b[0m\u001b[0;34m\u001b[0m\u001b[0m\n\u001b[0;32m---> 81\u001b[0;31m             \u001b[0mmap_result\u001b[0m \u001b[0;34m=\u001b[0m \u001b[0mpool\u001b[0m\u001b[0;34m.\u001b[0m\u001b[0mmap\u001b[0m\u001b[0;34m(\u001b[0m\u001b[0mfunction\u001b[0m\u001b[0;34m,\u001b[0m \u001b[0margs\u001b[0m\u001b[0;34m)\u001b[0m\u001b[0;34m\u001b[0m\u001b[0m\n\u001b[0m\u001b[1;32m     82\u001b[0m         \u001b[0;32mfinally\u001b[0m\u001b[0;34m:\u001b[0m\u001b[0;34m\u001b[0m\u001b[0m\n\u001b[1;32m     83\u001b[0m             \u001b[0mpool\u001b[0m\u001b[0;34m.\u001b[0m\u001b[0mclose\u001b[0m\u001b[0;34m(\u001b[0m\u001b[0;34m)\u001b[0m\u001b[0;34m\u001b[0m\u001b[0m\n",
      "\u001b[0;32m~/.pyenv/versions/3.6.3/lib/python3.6/multiprocessing/pool.py\u001b[0m in \u001b[0;36mmap\u001b[0;34m(self, func, iterable, chunksize)\u001b[0m\n\u001b[1;32m    264\u001b[0m         \u001b[0;32min\u001b[0m \u001b[0ma\u001b[0m \u001b[0mlist\u001b[0m \u001b[0mthat\u001b[0m \u001b[0;32mis\u001b[0m \u001b[0mreturned\u001b[0m\u001b[0;34m.\u001b[0m\u001b[0;34m\u001b[0m\u001b[0m\n\u001b[1;32m    265\u001b[0m         '''\n\u001b[0;32m--> 266\u001b[0;31m         \u001b[0;32mreturn\u001b[0m \u001b[0mself\u001b[0m\u001b[0;34m.\u001b[0m\u001b[0m_map_async\u001b[0m\u001b[0;34m(\u001b[0m\u001b[0mfunc\u001b[0m\u001b[0;34m,\u001b[0m \u001b[0miterable\u001b[0m\u001b[0;34m,\u001b[0m \u001b[0mmapstar\u001b[0m\u001b[0;34m,\u001b[0m \u001b[0mchunksize\u001b[0m\u001b[0;34m)\u001b[0m\u001b[0;34m.\u001b[0m\u001b[0mget\u001b[0m\u001b[0;34m(\u001b[0m\u001b[0;34m)\u001b[0m\u001b[0;34m\u001b[0m\u001b[0m\n\u001b[0m\u001b[1;32m    267\u001b[0m \u001b[0;34m\u001b[0m\u001b[0m\n\u001b[1;32m    268\u001b[0m     \u001b[0;32mdef\u001b[0m \u001b[0mstarmap\u001b[0m\u001b[0;34m(\u001b[0m\u001b[0mself\u001b[0m\u001b[0;34m,\u001b[0m \u001b[0mfunc\u001b[0m\u001b[0;34m,\u001b[0m \u001b[0miterable\u001b[0m\u001b[0;34m,\u001b[0m \u001b[0mchunksize\u001b[0m\u001b[0;34m=\u001b[0m\u001b[0;32mNone\u001b[0m\u001b[0;34m)\u001b[0m\u001b[0;34m:\u001b[0m\u001b[0;34m\u001b[0m\u001b[0m\n",
      "\u001b[0;32m~/.pyenv/versions/3.6.3/lib/python3.6/multiprocessing/pool.py\u001b[0m in \u001b[0;36mget\u001b[0;34m(self, timeout)\u001b[0m\n\u001b[1;32m    642\u001b[0m             \u001b[0;32mreturn\u001b[0m \u001b[0mself\u001b[0m\u001b[0;34m.\u001b[0m\u001b[0m_value\u001b[0m\u001b[0;34m\u001b[0m\u001b[0m\n\u001b[1;32m    643\u001b[0m         \u001b[0;32melse\u001b[0m\u001b[0;34m:\u001b[0m\u001b[0;34m\u001b[0m\u001b[0m\n\u001b[0;32m--> 644\u001b[0;31m             \u001b[0;32mraise\u001b[0m \u001b[0mself\u001b[0m\u001b[0;34m.\u001b[0m\u001b[0m_value\u001b[0m\u001b[0;34m\u001b[0m\u001b[0m\n\u001b[0m\u001b[1;32m    645\u001b[0m \u001b[0;34m\u001b[0m\u001b[0m\n\u001b[1;32m    646\u001b[0m     \u001b[0;32mdef\u001b[0m \u001b[0m_set\u001b[0m\u001b[0;34m(\u001b[0m\u001b[0mself\u001b[0m\u001b[0;34m,\u001b[0m \u001b[0mi\u001b[0m\u001b[0;34m,\u001b[0m \u001b[0mobj\u001b[0m\u001b[0;34m)\u001b[0m\u001b[0;34m:\u001b[0m\u001b[0;34m\u001b[0m\u001b[0m\n",
      "\u001b[0;31mRuntimeError\u001b[0m: Initialization failed."
     ]
    }
   ],
   "source": [
    "cortex_data = dict(\n",
    "    N=milk.shape[0],\n",
    "    X=milk.loc[:, 'neocortex.perc'],\n",
    "    kcal_per_g=milk.loc[:, 'kcal.per.g']\n",
    ")\n",
    "\n",
    "fit1_1 = sm1.sampling(data=cortex_data)\n",
    "fit1_1"
   ]
  },
  {
   "cell_type": "markdown",
   "metadata": {},
   "source": [
    "This failure is due to the missing values in the `neocortex.perc` feature."
   ]
  },
  {
   "cell_type": "code",
   "execution_count": 7,
   "metadata": {},
   "outputs": [
    {
     "data": {
      "text/html": [
       "<div>\n",
       "<style scoped>\n",
       "    .dataframe tbody tr th:only-of-type {\n",
       "        vertical-align: middle;\n",
       "    }\n",
       "\n",
       "    .dataframe tbody tr th {\n",
       "        vertical-align: top;\n",
       "    }\n",
       "\n",
       "    .dataframe thead th {\n",
       "        text-align: right;\n",
       "    }\n",
       "</style>\n",
       "<table border=\"1\" class=\"dataframe\">\n",
       "  <thead>\n",
       "    <tr style=\"text-align: right;\">\n",
       "      <th></th>\n",
       "      <th>clade</th>\n",
       "      <th>species</th>\n",
       "      <th>kcal.per.g</th>\n",
       "      <th>perc.fat</th>\n",
       "      <th>perc.protein</th>\n",
       "      <th>perc.lactose</th>\n",
       "      <th>mass</th>\n",
       "      <th>neocortex.perc</th>\n",
       "    </tr>\n",
       "  </thead>\n",
       "  <tbody>\n",
       "    <tr>\n",
       "      <th>0</th>\n",
       "      <td>Strepsirrhine</td>\n",
       "      <td>Eulemur fulvus</td>\n",
       "      <td>0.49</td>\n",
       "      <td>16.60</td>\n",
       "      <td>15.42</td>\n",
       "      <td>67.98</td>\n",
       "      <td>1.95</td>\n",
       "      <td>55.16</td>\n",
       "    </tr>\n",
       "    <tr>\n",
       "      <th>5</th>\n",
       "      <td>New World Monkey</td>\n",
       "      <td>Alouatta seniculus</td>\n",
       "      <td>0.47</td>\n",
       "      <td>21.22</td>\n",
       "      <td>23.58</td>\n",
       "      <td>55.20</td>\n",
       "      <td>5.25</td>\n",
       "      <td>64.54</td>\n",
       "    </tr>\n",
       "    <tr>\n",
       "      <th>6</th>\n",
       "      <td>New World Monkey</td>\n",
       "      <td>A palliata</td>\n",
       "      <td>0.56</td>\n",
       "      <td>29.66</td>\n",
       "      <td>23.46</td>\n",
       "      <td>46.88</td>\n",
       "      <td>5.37</td>\n",
       "      <td>64.54</td>\n",
       "    </tr>\n",
       "    <tr>\n",
       "      <th>7</th>\n",
       "      <td>New World Monkey</td>\n",
       "      <td>Cebus apella</td>\n",
       "      <td>0.89</td>\n",
       "      <td>53.41</td>\n",
       "      <td>15.80</td>\n",
       "      <td>30.79</td>\n",
       "      <td>2.51</td>\n",
       "      <td>67.64</td>\n",
       "    </tr>\n",
       "    <tr>\n",
       "      <th>9</th>\n",
       "      <td>New World Monkey</td>\n",
       "      <td>S sciureus</td>\n",
       "      <td>0.92</td>\n",
       "      <td>50.58</td>\n",
       "      <td>22.33</td>\n",
       "      <td>27.09</td>\n",
       "      <td>0.68</td>\n",
       "      <td>68.85</td>\n",
       "    </tr>\n",
       "  </tbody>\n",
       "</table>\n",
       "</div>"
      ],
      "text/plain": [
       "              clade             species  kcal.per.g  perc.fat  perc.protein  \\\n",
       "0     Strepsirrhine      Eulemur fulvus        0.49     16.60         15.42   \n",
       "5  New World Monkey  Alouatta seniculus        0.47     21.22         23.58   \n",
       "6  New World Monkey          A palliata        0.56     29.66         23.46   \n",
       "7  New World Monkey        Cebus apella        0.89     53.41         15.80   \n",
       "9  New World Monkey          S sciureus        0.92     50.58         22.33   \n",
       "\n",
       "   perc.lactose  mass  neocortex.perc  \n",
       "0         67.98  1.95           55.16  \n",
       "5         55.20  5.25           64.54  \n",
       "6         46.88  5.37           64.54  \n",
       "7         30.79  2.51           67.64  \n",
       "9         27.09  0.68           68.85  "
      ]
     },
     "execution_count": 7,
     "metadata": {},
     "output_type": "execute_result"
    }
   ],
   "source": [
    "mask = np.sum(milk.isna(), axis=1) >= 1\n",
    "milk_cc = milk[~mask]\n",
    "milk_cc.head()"
   ]
  },
  {
   "cell_type": "code",
   "execution_count": 8,
   "metadata": {},
   "outputs": [
    {
     "data": {
      "text/plain": [
       "Inference for Stan model: anon_model_aa94fcbabf321b641ccd10524dd27798.\n",
       "4 chains, each with iter=2000; warmup=1000; thin=1; \n",
       "post-warmup draws per chain=1000, total post-warmup draws=4000.\n",
       "\n",
       "         mean se_mean     sd   2.5%    25%    50%    75%  97.5%  n_eff   Rhat\n",
       "alpha    0.38    0.02   0.55  -0.67   0.03   0.38   0.72   1.45   1101    1.0\n",
       "beta   4.0e-3  2.5e-4 8.2e-3  -0.01-1.1e-3 4.1e-3 9.3e-3   0.02   1102    1.0\n",
       "sigma    0.19  1.2e-3   0.04   0.13   0.17   0.19   0.22   0.29   1204    1.0\n",
       "mu[0]    0.61  3.2e-3   0.11   0.38   0.53    0.6   0.68   0.83   1240    1.0\n",
       "mu[1]    0.64  1.1e-3   0.05   0.54   0.61   0.64   0.68   0.75   2447    1.0\n",
       "mu[2]    0.64  1.1e-3   0.05   0.54   0.61   0.64   0.68   0.75   2447    1.0\n",
       "mu[3]    0.66  7.7e-4   0.05   0.56   0.63   0.66   0.69   0.75   4000    1.0\n",
       "mu[4]    0.66  8.2e-4   0.05   0.56   0.63   0.66   0.69   0.76   3697    1.0\n",
       "mu[5]    0.62  2.3e-3   0.09   0.45   0.57   0.62   0.67   0.79   1384    1.0\n",
       "mu[6]    0.63  1.7e-3   0.07    0.5   0.59   0.63   0.68   0.77   1671    1.0\n",
       "mu[7]    0.63  2.0e-3   0.08   0.48   0.58   0.63   0.67   0.78   1500    1.0\n",
       "mu[8]    0.67  9.6e-4   0.05   0.56   0.63   0.67    0.7   0.77   3043    1.0\n",
       "mu[9]    0.67  1.0e-3   0.05   0.56   0.63   0.67    0.7   0.77   2817    1.0\n",
       "mu[10]   0.68  1.6e-3   0.07   0.54   0.64   0.68   0.72   0.81   1844    1.0\n",
       "mu[11]   0.66  7.7e-4   0.05   0.56   0.62   0.66   0.69   0.75   4000    1.0\n",
       "mu[12]   0.67  1.2e-3   0.06   0.56   0.64   0.67   0.71   0.78   2444    1.0\n",
       "mu[13]   0.68  1.4e-3   0.06   0.55   0.64   0.68   0.72    0.8   2021    1.0\n",
       "mu[14]   0.67 10.0e-4   0.05   0.56   0.63   0.67    0.7   0.77   2902    1.0\n",
       "mu[15]   0.69  2.3e-3   0.09   0.52   0.64   0.69   0.75   0.86   1492    1.0\n",
       "mu[16]   0.69  2.1e-3   0.08   0.53   0.64   0.69   0.74   0.85   1560    1.0\n",
       "lp__     18.6    0.04   1.36  15.33  17.98  18.93   19.6  20.15   1048    1.0\n",
       "\n",
       "Samples were drawn using NUTS at Thu Jan  4 14:18:51 2018.\n",
       "For each parameter, n_eff is a crude measure of effective sample size,\n",
       "and Rhat is the potential scale reduction factor on split chains (at \n",
       "convergence, Rhat=1)."
      ]
     },
     "execution_count": 8,
     "metadata": {},
     "output_type": "execute_result"
    }
   ],
   "source": [
    "cortex_data = dict(\n",
    "    N=milk_cc.shape[0],\n",
    "    X=milk_cc.loc[:, 'neocortex.perc'],\n",
    "    kcal_per_g=milk_cc.loc[:, 'kcal.per.g']\n",
    ")\n",
    "\n",
    "fit1_2 = sm1.sampling(data=cortex_data)\n",
    "fit1_2"
   ]
  },
  {
   "cell_type": "code",
   "execution_count": 9,
   "metadata": {},
   "outputs": [
    {
     "data": {
      "image/png": "[encoded data removed]",
      "text/plain": [
       "<matplotlib.figure.Figure at 0x7f0cbc8dbef0>"
      ]
     },
     "metadata": {},
     "output_type": "display_data"
    }
   ],
   "source": [
    "fit1_2.plot()\n",
    "plt.tight_layout()\n",
    "plt.show()"
   ]
  },
  {
   "cell_type": "markdown",
   "metadata": {},
   "source": [
    "Let's now consider the logarithm of adult female body mass as an alternative predictor. Taking the logarithm of a predictor because:\n",
    "\n",
    "> it is often true that scaling measurements like body mass are related by magnitudes to other variables. Taking the log of a measure translates the measure into magnitudes. So by using the logarithm of body mass hare, we're saying that we suspect that the magnitude of a mother's body mass is related to milk energy, in a linear fashion."
   ]
  },
  {
   "cell_type": "code",
   "execution_count": 10,
   "metadata": {},
   "outputs": [
    {
     "name": "stderr",
     "output_type": "stream",
     "text": [
      "/home/gianluca/.virtualenvs/rethinking/lib/python3.6/site-packages/ipykernel_launcher.py:1: SettingWithCopyWarning: \n",
      "A value is trying to be set on a copy of a slice from a DataFrame.\n",
      "Try using .loc[row_indexer,col_indexer] = value instead\n",
      "\n",
      "See the caveats in the documentation: http://pandas.pydata.org/pandas-docs/stable/indexing.html#indexing-view-versus-copy\n",
      "  \"\"\"Entry point for launching an IPython kernel.\n"
     ]
    }
   ],
   "source": [
    "milk_cc['mass_log'] = np.log(milk_cc.loc[:, 'mass'])"
   ]
  },
  {
   "cell_type": "code",
   "execution_count": 11,
   "metadata": {},
   "outputs": [
    {
     "data": {
      "text/plain": [
       "Inference for Stan model: anon_model_aa94fcbabf321b641ccd10524dd27798.\n",
       "4 chains, each with iter=2000; warmup=1000; thin=1; \n",
       "post-warmup draws per chain=1000, total post-warmup draws=4000.\n",
       "\n",
       "         mean se_mean     sd   2.5%    25%    50%    75%  97.5%  n_eff   Rhat\n",
       "alpha     0.7  1.3e-3   0.06   0.59   0.67    0.7   0.74   0.82   2166    1.0\n",
       "beta    -0.03  5.4e-4   0.02  -0.08  -0.05  -0.03  -0.02   0.02   2049    1.0\n",
       "sigma    0.18  8.3e-4   0.04   0.13   0.16   0.18    0.2   0.28   2091    1.0\n",
       "mu[0]    0.68  9.8e-4   0.05   0.58   0.65   0.68   0.72   0.78   2585    1.0\n",
       "mu[1]    0.65  7.1e-4   0.05   0.56   0.62   0.65   0.68   0.74   4000    1.0\n",
       "mu[2]    0.65  7.1e-4   0.05   0.56   0.62   0.65   0.68   0.74   4000    1.0\n",
       "mu[3]    0.68  8.9e-4   0.05   0.58   0.65   0.68   0.71   0.77   2859    1.0\n",
       "mu[4]    0.72  1.4e-3   0.06   0.59   0.68   0.72   0.76   0.84   2047    1.0\n",
       "mu[5]    0.77  2.3e-3    0.1   0.57   0.71   0.77   0.84   0.97   1891    1.0\n",
       "mu[6]    0.73  1.6e-3   0.07   0.59   0.68   0.73   0.77   0.87   1979    1.0\n",
       "mu[7]    0.74  1.8e-3   0.08   0.58   0.69   0.74   0.79    0.9   1936    1.0\n",
       "mu[8]    0.69  1.1e-3   0.05   0.58   0.66   0.69   0.73   0.79   2399    1.0\n",
       "mu[9]    0.67  8.1e-4   0.05   0.57   0.64   0.67    0.7   0.76   3217    1.0\n",
       "mu[10]   0.63  8.1e-4   0.05   0.53   0.59   0.63   0.66   0.73   4000    1.0\n",
       "mu[11]   0.65  7.1e-4   0.05   0.56   0.62   0.65   0.68   0.74   4000    1.0\n",
       "mu[12]   0.59  1.2e-3   0.07   0.46   0.55   0.59   0.64   0.73   3411    1.0\n",
       "mu[13]   0.57  1.5e-3   0.08   0.41   0.51   0.57   0.62   0.74   2988    1.0\n",
       "mu[14]   0.59  1.2e-3   0.07   0.45   0.54   0.59   0.63   0.73   3321    1.0\n",
       "mu[15]   0.59  1.1e-3   0.07   0.47   0.55   0.59   0.64   0.73   3459    1.0\n",
       "mu[16]   0.58  1.3e-3   0.08   0.43   0.53   0.58   0.63   0.73   3153    1.0\n",
       "lp__    19.49    0.03   1.34  16.06  18.89  19.84  20.47  21.03   1659    1.0\n",
       "\n",
       "Samples were drawn using NUTS at Thu Jan  4 14:18:55 2018.\n",
       "For each parameter, n_eff is a crude measure of effective sample size,\n",
       "and Rhat is the potential scale reduction factor on split chains (at \n",
       "convergence, Rhat=1)."
      ]
     },
     "execution_count": 11,
     "metadata": {},
     "output_type": "execute_result"
    }
   ],
   "source": [
    "mass_data = dict(\n",
    "    N=milk_cc.shape[0],\n",
    "    X=milk_cc.loc[:, 'mass_log'],\n",
    "    kcal_per_g=milk_cc.loc[:, 'kcal.per.g']\n",
    ")\n",
    "\n",
    "fit1_3 = sm1.sampling(data=mass_data)\n",
    "fit1_3"
   ]
  },
  {
   "cell_type": "code",
   "execution_count": 12,
   "metadata": {},
   "outputs": [
    {
     "name": "stderr",
     "output_type": "stream",
     "text": [
      "INFO:pystan:COMPILING THE C++ CODE FOR MODEL anon_model_ea22a8566e5131b1a7c134c5a0c0d720 NOW.\n"
     ]
    }
   ],
   "source": [
    "multi_code = \"\"\"\n",
    "data {\n",
    "    int<lower=0> N;\n",
    "    int<lower=0> K;\n",
    "    matrix[N, K] X;\n",
    "    vector[N] kcal_per_g;\n",
    "}\n",
    "parameters {\n",
    "    real alpha;\n",
    "    vector[K] beta;\n",
    "    real<lower=0> sigma;\n",
    "\n",
    "}\n",
    "transformed parameters {\n",
    "    vector[N] mu;\n",
    "    \n",
    "    mu = alpha + X * beta;\n",
    "}\n",
    "model {\n",
    "    alpha ~ normal(0, 100);\n",
    "    beta ~ normal(0, 1);\n",
    "    //sigma ~ uniform(0, 1);\n",
    "    kcal_per_g ~ normal(mu, sigma);\n",
    "}\"\"\"\n",
    "\n",
    "sm2 = StanModel(model_code=multi_code)"
   ]
  },
  {
   "cell_type": "code",
   "execution_count": 13,
   "metadata": {},
   "outputs": [
    {
     "data": {
      "text/plain": [
       "Inference for Stan model: anon_model_ea22a8566e5131b1a7c134c5a0c0d720.\n",
       "4 chains, each with iter=2000; warmup=1000; thin=1; \n",
       "post-warmup draws per chain=1000, total post-warmup draws=4000.\n",
       "\n",
       "          mean se_mean     sd   2.5%    25%    50%    75%  97.5%  n_eff   Rhat\n",
       "alpha    -1.09    0.02    0.6  -2.27   -1.5  -1.09  -0.69   0.08   1066    1.0\n",
       "beta[0]   0.03  2.9e-4 9.3e-3 9.9e-3   0.02   0.03   0.03   0.05   1048    1.0\n",
       "beta[1]   -0.1  8.4e-4   0.03  -0.15  -0.11   -0.1  -0.08  -0.04   1134    1.0\n",
       "sigma     0.14  9.4e-4   0.03    0.1   0.12   0.14   0.16   0.22   1114    1.0\n",
       "mu[0]     0.39  3.0e-3    0.1   0.19   0.32   0.39   0.46   0.59   1205    1.0\n",
       "mu[1]     0.56  1.1e-3   0.05   0.47   0.53   0.56   0.59   0.65   1737    1.0\n",
       "mu[2]     0.56  1.1e-3   0.05   0.46   0.53   0.56   0.59   0.65   1716    1.0\n",
       "mu[3]     0.72  7.6e-4   0.04   0.64   0.69   0.72   0.74    0.8   2722    1.0\n",
       "mu[4]     0.87  2.0e-3   0.07   0.73   0.83   0.88   0.92   1.02   1309    1.0\n",
       "mu[5]     0.76  1.5e-3   0.08   0.61   0.72   0.76   0.81   0.91   2637    1.0\n",
       "mu[6]     0.71  9.5e-4   0.05    0.6   0.68   0.71   0.74   0.82   3288    1.0\n",
       "mu[7]     0.71  1.1e-3   0.06   0.59   0.67   0.71   0.75   0.83   3250    1.0\n",
       "mu[8]     0.83  1.7e-3   0.06   0.71   0.79   0.83   0.87   0.95   1380    1.0\n",
       "mu[9]     0.77  1.2e-3   0.05   0.67   0.74   0.77    0.8   0.87   1676    1.0\n",
       "mu[10]    0.72  1.1e-3   0.05   0.63   0.69   0.72   0.76   0.83   2087    1.0\n",
       "mu[11]    0.64  5.8e-4   0.04   0.57   0.62   0.64   0.66   0.71   3762    1.0\n",
       "mu[12]    0.56  1.0e-3   0.05   0.46   0.53   0.56    0.6   0.67   2594    1.0\n",
       "mu[13]    0.52  1.3e-3   0.06    0.4   0.48   0.52   0.56   0.66   2329    1.0\n",
       "mu[14]    0.52  1.3e-3   0.06   0.41   0.48   0.52   0.56   0.64   1949    1.0\n",
       "mu[15]    0.71  1.4e-3   0.06   0.59   0.67   0.71   0.75   0.84   2235    1.0\n",
       "mu[16]    0.64  1.1e-3   0.06   0.52    0.6   0.64   0.68   0.76   2985    1.0\n",
       "lp__     23.76    0.05   1.66  19.57  22.94  24.12  25.01  25.85   1128    1.0\n",
       "\n",
       "Samples were drawn using NUTS at Thu Jan  4 14:20:00 2018.\n",
       "For each parameter, n_eff is a crude measure of effective sample size,\n",
       "and Rhat is the potential scale reduction factor on split chains (at \n",
       "convergence, Rhat=1)."
      ]
     },
     "execution_count": 13,
     "metadata": {},
     "output_type": "execute_result"
    }
   ],
   "source": [
    "multi_data = dict(\n",
    "    N=milk_cc.shape[0],\n",
    "    K=2,\n",
    "    X=milk_cc.loc[:, ['neocortex.perc', 'mass_log']],\n",
    "    kcal_per_g=milk_cc.loc[:, 'kcal.per.g']\n",
    ")\n",
    "\n",
    "fit2_1 = sm2.sampling(data=multi_data)\n",
    "fit2_1"
   ]
  },
  {
   "cell_type": "markdown",
   "metadata": {},
   "source": [
    "> By incorporating both predictor variables in the regression, the estimated association of both with the outcome has increased. The posterior mean for the association of neocortex percent has increased more than sixfold, and its 89% interval is not entirely above zero. The posterior mean for log body mass is more strongly negative."
   ]
  },
  {
   "cell_type": "markdown",
   "metadata": {},
   "source": [
    "# Multicollinearity\n",
    "\n",
    "Let's see how multicollinearity can affect the posterior distributions of the predictor's coefficients."
   ]
  },
  {
   "cell_type": "code",
   "execution_count": 14,
   "metadata": {},
   "outputs": [
    {
     "data": {
      "text/html": [
       "<div>\n",
       "<style scoped>\n",
       "    .dataframe tbody tr th:only-of-type {\n",
       "        vertical-align: middle;\n",
       "    }\n",
       "\n",
       "    .dataframe tbody tr th {\n",
       "        vertical-align: top;\n",
       "    }\n",
       "\n",
       "    .dataframe thead th {\n",
       "        text-align: right;\n",
       "    }\n",
       "</style>\n",
       "<table border=\"1\" class=\"dataframe\">\n",
       "  <thead>\n",
       "    <tr style=\"text-align: right;\">\n",
       "      <th></th>\n",
       "      <th>perc.fat</th>\n",
       "      <th>perc.lactose</th>\n",
       "    </tr>\n",
       "  </thead>\n",
       "  <tbody>\n",
       "    <tr>\n",
       "      <th>perc.fat</th>\n",
       "      <td>1.000000</td>\n",
       "      <td>-0.941637</td>\n",
       "    </tr>\n",
       "    <tr>\n",
       "      <th>perc.lactose</th>\n",
       "      <td>-0.941637</td>\n",
       "      <td>1.000000</td>\n",
       "    </tr>\n",
       "  </tbody>\n",
       "</table>\n",
       "</div>"
      ],
      "text/plain": [
       "              perc.fat  perc.lactose\n",
       "perc.fat      1.000000     -0.941637\n",
       "perc.lactose -0.941637      1.000000"
      ]
     },
     "execution_count": 14,
     "metadata": {},
     "output_type": "execute_result"
    }
   ],
   "source": [
    "milk.loc[:, ['perc.fat', 'perc.lactose']].corr()"
   ]
  },
  {
   "cell_type": "markdown",
   "metadata": {},
   "source": [
    "`perc.fat` and `perc.lactose` are strongly positively correlated. This causes multicollinearity.\n",
    "\n",
    "Let's reuse the already compiled model `sm1`."
   ]
  },
  {
   "cell_type": "code",
   "execution_count": 15,
   "metadata": {},
   "outputs": [
    {
     "name": "stdout",
     "output_type": "stream",
     "text": [
      "\n",
      "data {\n",
      "    int<lower=0> N;\n",
      "    vector[N] X;\n",
      "    vector[N] kcal_per_g;\n",
      "}\n",
      "parameters {\n",
      "    real alpha;\n",
      "    real beta;\n",
      "    real<lower=0> sigma;\n",
      "\n",
      "}\n",
      "transformed parameters {\n",
      "    vector[N] mu;\n",
      "    \n",
      "    mu = alpha + beta * X;\n",
      "}\n",
      "model {\n",
      "    alpha ~ normal(0, 100);\n",
      "    beta ~ normal(0, 1);\n",
      "    //sigma ~ uniform(0, 1);\n",
      "    kcal_per_g ~ normal(mu, sigma);\n",
      "}\n"
     ]
    }
   ],
   "source": [
    "print(sm1.model_code)"
   ]
  },
  {
   "cell_type": "code",
   "execution_count": 16,
   "metadata": {},
   "outputs": [
    {
     "data": {
      "text/plain": [
       "Inference for Stan model: anon_model_aa94fcbabf321b641ccd10524dd27798.\n",
       "4 chains, each with iter=2000; warmup=1000; thin=1; \n",
       "post-warmup draws per chain=1000, total post-warmup draws=4000.\n",
       "\n",
       "         mean se_mean     sd   2.5%    25%    50%    75%  97.5%  n_eff   Rhat\n",
       "alpha     0.3  1.1e-3   0.04   0.22   0.27    0.3   0.32   0.37   1249    1.0\n",
       "beta     0.01  2.5e-5 1.0e-3 8.0e-3 9.4e-3   0.01   0.01   0.01   1727    1.0\n",
       "sigma    0.08  3.0e-4   0.01   0.06   0.07   0.08   0.09   0.11   1483    1.0\n",
       "mu[0]    0.47  6.4e-4   0.02   0.42   0.45   0.47   0.48   0.51   1348    1.0\n",
       "mu[1]    0.49  5.7e-4   0.02   0.45   0.48   0.49   0.51   0.54   1415    1.0\n",
       "mu[2]    0.44  7.0e-4   0.03   0.39   0.42   0.44   0.46   0.49   1308    1.0\n",
       "mu[3]    0.45  6.8e-4   0.02    0.4   0.43   0.45   0.47    0.5   1319    1.0\n",
       "mu[4]    0.57  3.5e-4   0.02   0.54   0.56   0.57   0.59   0.61   2317    1.0\n",
       "mu[5]    0.51  4.7e-4   0.02   0.47    0.5   0.51   0.53   0.55   1846    1.0\n",
       "mu[6]     0.6  3.1e-4   0.02   0.57   0.59    0.6   0.61   0.63   2669    1.0\n",
       "mu[7]    0.84  4.7e-4   0.03   0.79   0.82   0.84   0.85   0.89   3018    1.0\n",
       "mu[8]    0.76  3.3e-4   0.02   0.72   0.75   0.76   0.78    0.8   3874    1.0\n",
       "mu[9]    0.81  4.0e-4   0.02   0.76   0.79   0.81   0.82   0.85   3404    1.0\n",
       "mu[10]   0.72  2.8e-4   0.02   0.68    0.7   0.72   0.73   0.75   4000    1.0\n",
       "mu[11]   0.34  9.8e-4   0.03   0.27   0.32   0.34   0.36   0.41   1251    1.0\n",
       "mu[12]   0.69  2.6e-4   0.02   0.65   0.67   0.69    0.7   0.72   4000    1.0\n",
       "mu[13]   0.67  2.5e-4   0.02   0.64   0.66   0.67   0.68    0.7   4000    1.0\n",
       "mu[14]   0.69  2.6e-4   0.02   0.66   0.68   0.69    0.7   0.73   4000    1.0\n",
       "mu[15]    0.7  2.7e-4   0.02   0.67   0.69    0.7   0.71   0.74   4000    1.0\n",
       "mu[16]   0.83  4.6e-4   0.03   0.78   0.82   0.83   0.85   0.88   3046    1.0\n",
       "mu[17]   0.86  5.2e-4   0.03    0.8   0.84   0.86   0.88   0.91   2870    1.0\n",
       "mu[18]   0.79  3.7e-4   0.02   0.75   0.78   0.79   0.81   0.84   3564    1.0\n",
       "mu[19]   0.85  4.9e-4   0.03   0.79   0.83   0.85   0.86    0.9   2952    1.0\n",
       "mu[20]   0.46  6.6e-4   0.02   0.41   0.44   0.46   0.48   0.51   1336    1.0\n",
       "mu[21]   0.65  2.4e-4   0.02   0.62   0.64   0.65   0.66   0.68   4000    1.0\n",
       "mu[22]   0.57  3.6e-4   0.02   0.53   0.55   0.57   0.58    0.6   2218    1.0\n",
       "mu[23]   0.68  2.5e-4   0.02   0.65   0.67   0.68   0.69   0.71   4000    1.0\n",
       "mu[24]   0.57  3.5e-4   0.02   0.54   0.56   0.57   0.58   0.61   2305    1.0\n",
       "mu[25]   0.61  2.9e-4   0.02   0.58    0.6   0.61   0.62   0.64   2841    1.0\n",
       "mu[26]   0.51  4.7e-4   0.02   0.47    0.5   0.51   0.53   0.55   1844    1.0\n",
       "mu[27]   0.67  2.5e-4   0.02   0.64   0.66   0.67   0.68    0.7   4000    1.0\n",
       "mu[28]   0.81  4.0e-4   0.02   0.76   0.79   0.81   0.82   0.85   3412    1.0\n",
       "lp__    57.08    0.04   1.35  53.47  56.49  57.45  58.06  58.59   1311    1.0\n",
       "\n",
       "Samples were drawn using NUTS at Thu Jan  4 14:20:01 2018.\n",
       "For each parameter, n_eff is a crude measure of effective sample size,\n",
       "and Rhat is the potential scale reduction factor on split chains (at \n",
       "convergence, Rhat=1)."
      ]
     },
     "execution_count": 16,
     "metadata": {},
     "output_type": "execute_result"
    }
   ],
   "source": [
    "fat_data = dict(\n",
    "    N=milk.shape[0],\n",
    "    X=milk['perc.fat'],\n",
    "    kcal_per_g = milk['kcal.per.g']\n",
    ")\n",
    "\n",
    "sm1.sampling(data=fat_data)"
   ]
  },
  {
   "cell_type": "code",
   "execution_count": 17,
   "metadata": {},
   "outputs": [
    {
     "data": {
      "text/plain": [
       "Inference for Stan model: anon_model_aa94fcbabf321b641ccd10524dd27798.\n",
       "4 chains, each with iter=2000; warmup=1000; thin=1; \n",
       "post-warmup draws per chain=1000, total post-warmup draws=4000.\n",
       "\n",
       "         mean se_mean     sd   2.5%    25%    50%    75%  97.5%  n_eff   Rhat\n",
       "alpha    1.17  1.3e-3   0.05   1.07   1.14   1.17    1.2   1.27   1437    1.0\n",
       "beta    -0.01  2.5e-5 9.7e-4  -0.01  -0.01  -0.01-10.0e-3-8.7e-3   1460    nan\n",
       "sigma    0.07  2.7e-4 9.9e-3   0.05   0.06   0.07   0.07   0.09   1363    1.0\n",
       "mu[0]    0.45  4.6e-4   0.02    0.4   0.43   0.45   0.46   0.49   2195    1.0\n",
       "mu[1]    0.49  3.7e-4   0.02   0.45   0.48   0.49    0.5   0.53   2523    1.0\n",
       "mu[2]    0.44  4.9e-4   0.02   0.39   0.42   0.44   0.45   0.48   2136    1.0\n",
       "mu[3]    0.41  5.5e-4   0.02   0.36   0.39   0.41   0.42   0.45   2009    1.0\n",
       "mu[4]     0.6  2.1e-4   0.01   0.58    0.6    0.6   0.61   0.63   4000    1.0\n",
       "mu[5]    0.58  2.2e-4   0.01   0.56   0.57   0.58   0.59   0.61   4000    1.0\n",
       "mu[6]    0.67  2.3e-4   0.01   0.65   0.66   0.67   0.68    0.7   3331    1.0\n",
       "mu[7]    0.84  5.6e-4   0.02    0.8   0.83   0.84   0.86   0.89   1620    1.0\n",
       "mu[8]    0.84  5.6e-4   0.02    0.8   0.83   0.84   0.86   0.89   1616    1.0\n",
       "mu[9]    0.88  6.4e-4   0.03   0.83   0.87   0.88    0.9   0.93   1553    1.0\n",
       "mu[10]   0.77  3.9e-4   0.02   0.73   0.76   0.77   0.78    0.8   1909    1.0\n",
       "mu[11]   0.42  5.3e-4   0.02   0.37    0.4   0.42   0.43   0.46   2054    1.0\n",
       "mu[12]   0.73  3.2e-4   0.02    0.7   0.72   0.73   0.74   0.76   2270    1.0\n",
       "mu[13]   0.72  3.1e-4   0.01    0.7   0.72   0.72   0.73   0.75   2311    1.0\n",
       "mu[14]   0.68  2.3e-4   0.01   0.65   0.67   0.68   0.69    0.7   3177    1.0\n",
       "mu[15]   0.73  3.1e-4   0.01    0.7   0.72   0.73   0.73   0.76   2302    1.0\n",
       "mu[16]   0.81  4.8e-4   0.02   0.77    0.8   0.81   0.82   0.85   1713    1.0\n",
       "mu[17]   0.84  5.4e-4   0.02   0.79   0.82   0.84   0.85   0.88   1633    1.0\n",
       "mu[18]   0.77  4.1e-4   0.02   0.74   0.76   0.77   0.79   0.81   1869    1.0\n",
       "mu[19]    0.8  4.6e-4   0.02   0.76   0.79    0.8   0.81   0.84   1743    1.0\n",
       "mu[20]   0.41  5.5e-4   0.02   0.36   0.39   0.41   0.43   0.46   2024    1.0\n",
       "mu[21]   0.61  2.1e-4   0.01   0.58    0.6   0.61   0.62   0.63   4000    1.0\n",
       "mu[22]   0.53  2.9e-4   0.02    0.5   0.52   0.53   0.54   0.56   3015    1.0\n",
       "mu[23]   0.59  2.2e-4   0.01   0.56   0.58   0.59    0.6   0.61   4000    1.0\n",
       "mu[24]   0.57  2.3e-4   0.01   0.54   0.56   0.57   0.58    0.6   3945    1.0\n",
       "mu[25]   0.65  2.1e-4   0.01   0.63   0.64   0.65   0.66   0.68   3733    1.0\n",
       "mu[26]   0.46  4.4e-4   0.02   0.41   0.44   0.46   0.47    0.5   2247    1.0\n",
       "mu[27]    0.6  2.1e-4   0.01   0.57   0.59    0.6   0.61   0.63   4000    1.0\n",
       "mu[28]   0.75  3.5e-4   0.02   0.72   0.74   0.75   0.76   0.78   2061    1.0\n",
       "lp__    61.84    0.04   1.39   58.2  61.25   62.2  62.82  63.37   1038    1.0\n",
       "\n",
       "Samples were drawn using NUTS at Thu Jan  4 14:20:02 2018.\n",
       "For each parameter, n_eff is a crude measure of effective sample size,\n",
       "and Rhat is the potential scale reduction factor on split chains (at \n",
       "convergence, Rhat=1)."
      ]
     },
     "execution_count": 17,
     "metadata": {},
     "output_type": "execute_result"
    }
   ],
   "source": [
    "lactose_data = dict(\n",
    "    N=milk.shape[0],\n",
    "    X=milk['perc.lactose'],\n",
    "    kcal_per_g = milk['kcal.per.g']\n",
    ")\n",
    "\n",
    "sm1.sampling(data=lactose_data)"
   ]
  },
  {
   "cell_type": "code",
   "execution_count": 18,
   "metadata": {},
   "outputs": [
    {
     "name": "stdout",
     "output_type": "stream",
     "text": [
      "\n",
      "data {\n",
      "    int<lower=0> N;\n",
      "    int<lower=0> K;\n",
      "    matrix[N, K] X;\n",
      "    vector[N] kcal_per_g;\n",
      "}\n",
      "parameters {\n",
      "    real alpha;\n",
      "    vector[K] beta;\n",
      "    real<lower=0> sigma;\n",
      "\n",
      "}\n",
      "transformed parameters {\n",
      "    vector[N] mu;\n",
      "    \n",
      "    mu = alpha + X * beta;\n",
      "}\n",
      "model {\n",
      "    alpha ~ normal(0, 100);\n",
      "    beta ~ normal(0, 1);\n",
      "    //sigma ~ uniform(0, 1);\n",
      "    kcal_per_g ~ normal(mu, sigma);\n",
      "}\n"
     ]
    }
   ],
   "source": [
    "print(sm2.model_code)"
   ]
  },
  {
   "cell_type": "code",
   "execution_count": 19,
   "metadata": {},
   "outputs": [
    {
     "data": {
      "text/plain": [
       "Inference for Stan model: anon_model_ea22a8566e5131b1a7c134c5a0c0d720.\n",
       "4 chains, each with iter=2000; warmup=1000; thin=1; \n",
       "post-warmup draws per chain=1000, total post-warmup draws=4000.\n",
       "\n",
       "          mean se_mean     sd   2.5%    25%    50%    75%  97.5%  n_eff   Rhat\n",
       "alpha      1.0  7.3e-3   0.22   0.56   0.86    1.0   1.14   1.45    925    1.0\n",
       "beta[0] 2.1e-3  8.6e-5 2.6e-3-3.1e-3 3.1e-4 2.1e-3 3.8e-3 7.4e-3    957    1.0\n",
       "beta[1]-8.6e-3  8.8e-5 2.7e-3  -0.01  -0.01-8.6e-3-6.9e-3-3.2e-3    936    1.0\n",
       "sigma     0.07  2.6e-4 9.9e-3   0.05   0.06   0.07   0.07   0.09   1439    1.0\n",
       "mu[0]     0.45  3.3e-4   0.02   0.41   0.43   0.45   0.46   0.49   4000    1.0\n",
       "mu[1]     0.49  2.9e-4   0.02   0.45   0.48   0.49    0.5   0.53   4000    1.0\n",
       "mu[2]     0.43  3.5e-4   0.02   0.39   0.42   0.43   0.45   0.48   4000    1.0\n",
       "mu[3]     0.41  4.9e-4   0.02   0.36   0.39   0.41   0.43   0.46   2554    1.0\n",
       "mu[4]      0.6  3.3e-4   0.02   0.57   0.59    0.6   0.61   0.63   2249    1.0\n",
       "mu[5]     0.57  6.5e-4   0.02   0.52   0.55   0.57   0.58   0.61   1356    1.0\n",
       "mu[6]     0.66  6.5e-4   0.02   0.61   0.64   0.66   0.67    0.7   1194    1.0\n",
       "mu[7]     0.84  3.4e-4   0.02    0.8   0.83   0.84   0.86   0.89   4000    1.0\n",
       "mu[8]     0.83  7.0e-4   0.03   0.78   0.81   0.83   0.85   0.88   1451    1.0\n",
       "mu[9]     0.87  6.6e-4   0.03   0.82   0.85   0.87   0.89   0.92   1705    1.0\n",
       "mu[10]    0.76  4.7e-4   0.02   0.72   0.75   0.76   0.77    0.8   1676    1.0\n",
       "mu[11]     0.4  8.1e-4   0.03   0.33   0.37    0.4   0.42   0.47   1845    1.0\n",
       "mu[12]    0.72  4.0e-4   0.02   0.69   0.71   0.72   0.73   0.75   1797    1.0\n",
       "mu[13]    0.71  4.8e-4   0.02   0.68    0.7   0.71   0.73   0.75   1513    1.0\n",
       "mu[14]    0.68  2.2e-4   0.01   0.65   0.67   0.68   0.69   0.71   4000    1.0\n",
       "mu[15]    0.72  2.7e-4   0.01   0.69   0.71   0.72   0.73   0.75   2891    1.0\n",
       "mu[16]    0.82  3.9e-4   0.02   0.77    0.8   0.82   0.83   0.86   3051    1.0\n",
       "mu[17]    0.84  4.0e-4   0.02    0.8   0.83   0.84   0.86   0.89   3230    1.0\n",
       "mu[18]    0.78  3.2e-4   0.02   0.74   0.77   0.78   0.79   0.82   3280    1.0\n",
       "mu[19]    0.81  5.0e-4   0.02   0.76    0.8   0.81   0.83   0.86   2341    1.0\n",
       "mu[20]    0.42  5.2e-4   0.03   0.37    0.4   0.42   0.43   0.47   2304    1.0\n",
       "mu[21]    0.61  3.7e-4   0.02   0.58    0.6   0.61   0.62   0.65   1839    1.0\n",
       "mu[22]    0.54  3.6e-4   0.02    0.5   0.52   0.54   0.55   0.57   2306    1.0\n",
       "mu[23]     0.6  8.0e-4   0.03   0.55   0.59    0.6   0.62   0.66   1119    1.0\n",
       "mu[24]    0.57  2.2e-4   0.01   0.54   0.56   0.57   0.58    0.6   4000    1.0\n",
       "mu[25]    0.64  4.2e-4   0.02   0.61   0.63   0.64   0.65   0.68   1640    1.0\n",
       "mu[26]    0.46  5.3e-4   0.02   0.42   0.45   0.46   0.48   0.51   1903    1.0\n",
       "mu[27]    0.61  6.2e-4   0.02   0.57    0.6   0.61   0.63   0.66   1248    1.0\n",
       "mu[28]    0.76  5.6e-4   0.02   0.71   0.75   0.76   0.78   0.81   1823    1.0\n",
       "lp__     61.71    0.04   1.48  57.89  61.03  62.06  62.81  63.55   1180    1.0\n",
       "\n",
       "Samples were drawn using NUTS at Thu Jan  4 14:20:05 2018.\n",
       "For each parameter, n_eff is a crude measure of effective sample size,\n",
       "and Rhat is the potential scale reduction factor on split chains (at \n",
       "convergence, Rhat=1)."
      ]
     },
     "execution_count": 19,
     "metadata": {},
     "output_type": "execute_result"
    }
   ],
   "source": [
    "multicollinearity_data = dict(\n",
    "    N=milk.shape[0],\n",
    "    K=2,\n",
    "    X=milk.loc[:, ['perc.fat', 'perc.lactose']],\n",
    "    kcal_per_g=milk.loc[:, 'kcal.per.g']\n",
    ")\n",
    "\n",
    "sm2.sampling(data=multicollinearity_data)"
   ]
  },
  {
   "cell_type": "markdown",
   "metadata": {},
   "source": [
    "# Many categories"
   ]
  },
  {
   "cell_type": "code",
   "execution_count": 20,
   "metadata": {},
   "outputs": [
    {
     "data": {
      "text/html": [
       "<div>\n",
       "<style scoped>\n",
       "    .dataframe tbody tr th:only-of-type {\n",
       "        vertical-align: middle;\n",
       "    }\n",
       "\n",
       "    .dataframe tbody tr th {\n",
       "        vertical-align: top;\n",
       "    }\n",
       "\n",
       "    .dataframe thead th {\n",
       "        text-align: right;\n",
       "    }\n",
       "</style>\n",
       "<table border=\"1\" class=\"dataframe\">\n",
       "  <thead>\n",
       "    <tr style=\"text-align: right;\">\n",
       "      <th></th>\n",
       "      <th>clade</th>\n",
       "      <th>species</th>\n",
       "      <th>kcal.per.g</th>\n",
       "      <th>perc.fat</th>\n",
       "      <th>perc.protein</th>\n",
       "      <th>perc.lactose</th>\n",
       "      <th>mass</th>\n",
       "      <th>neocortex.perc</th>\n",
       "    </tr>\n",
       "  </thead>\n",
       "  <tbody>\n",
       "    <tr>\n",
       "      <th>0</th>\n",
       "      <td>Strepsirrhine</td>\n",
       "      <td>Eulemur fulvus</td>\n",
       "      <td>0.49</td>\n",
       "      <td>16.60</td>\n",
       "      <td>15.42</td>\n",
       "      <td>67.98</td>\n",
       "      <td>1.95</td>\n",
       "      <td>55.16</td>\n",
       "    </tr>\n",
       "    <tr>\n",
       "      <th>1</th>\n",
       "      <td>Strepsirrhine</td>\n",
       "      <td>E macaco</td>\n",
       "      <td>0.51</td>\n",
       "      <td>19.27</td>\n",
       "      <td>16.91</td>\n",
       "      <td>63.82</td>\n",
       "      <td>2.09</td>\n",
       "      <td>NaN</td>\n",
       "    </tr>\n",
       "    <tr>\n",
       "      <th>2</th>\n",
       "      <td>Strepsirrhine</td>\n",
       "      <td>E mongoz</td>\n",
       "      <td>0.46</td>\n",
       "      <td>14.11</td>\n",
       "      <td>16.85</td>\n",
       "      <td>69.04</td>\n",
       "      <td>2.51</td>\n",
       "      <td>NaN</td>\n",
       "    </tr>\n",
       "    <tr>\n",
       "      <th>3</th>\n",
       "      <td>Strepsirrhine</td>\n",
       "      <td>E rubriventer</td>\n",
       "      <td>0.48</td>\n",
       "      <td>14.91</td>\n",
       "      <td>13.18</td>\n",
       "      <td>71.91</td>\n",
       "      <td>1.62</td>\n",
       "      <td>NaN</td>\n",
       "    </tr>\n",
       "    <tr>\n",
       "      <th>4</th>\n",
       "      <td>Strepsirrhine</td>\n",
       "      <td>Lemur catta</td>\n",
       "      <td>0.60</td>\n",
       "      <td>27.28</td>\n",
       "      <td>19.50</td>\n",
       "      <td>53.22</td>\n",
       "      <td>2.19</td>\n",
       "      <td>NaN</td>\n",
       "    </tr>\n",
       "  </tbody>\n",
       "</table>\n",
       "</div>"
      ],
      "text/plain": [
       "           clade         species  kcal.per.g  perc.fat  perc.protein  \\\n",
       "0  Strepsirrhine  Eulemur fulvus        0.49     16.60         15.42   \n",
       "1  Strepsirrhine        E macaco        0.51     19.27         16.91   \n",
       "2  Strepsirrhine        E mongoz        0.46     14.11         16.85   \n",
       "3  Strepsirrhine   E rubriventer        0.48     14.91         13.18   \n",
       "4  Strepsirrhine     Lemur catta        0.60     27.28         19.50   \n",
       "\n",
       "   perc.lactose  mass  neocortex.perc  \n",
       "0         67.98  1.95           55.16  \n",
       "1         63.82  2.09             NaN  \n",
       "2         69.04  2.51             NaN  \n",
       "3         71.91  1.62             NaN  \n",
       "4         53.22  2.19             NaN  "
      ]
     },
     "execution_count": 20,
     "metadata": {},
     "output_type": "execute_result"
    }
   ],
   "source": [
    "milk.head()"
   ]
  },
  {
   "cell_type": "code",
   "execution_count": 21,
   "metadata": {},
   "outputs": [
    {
     "data": {
      "text/html": [
       "<div>\n",
       "<style scoped>\n",
       "    .dataframe tbody tr th:only-of-type {\n",
       "        vertical-align: middle;\n",
       "    }\n",
       "\n",
       "    .dataframe tbody tr th {\n",
       "        vertical-align: top;\n",
       "    }\n",
       "\n",
       "    .dataframe thead th {\n",
       "        text-align: right;\n",
       "    }\n",
       "</style>\n",
       "<table border=\"1\" class=\"dataframe\">\n",
       "  <thead>\n",
       "    <tr style=\"text-align: right;\">\n",
       "      <th></th>\n",
       "      <th>New World Monkey</th>\n",
       "      <th>Old World Monkey</th>\n",
       "      <th>Strepsirrhine</th>\n",
       "    </tr>\n",
       "  </thead>\n",
       "  <tbody>\n",
       "    <tr>\n",
       "      <th>0</th>\n",
       "      <td>0</td>\n",
       "      <td>0</td>\n",
       "      <td>1</td>\n",
       "    </tr>\n",
       "    <tr>\n",
       "      <th>1</th>\n",
       "      <td>0</td>\n",
       "      <td>0</td>\n",
       "      <td>1</td>\n",
       "    </tr>\n",
       "    <tr>\n",
       "      <th>2</th>\n",
       "      <td>0</td>\n",
       "      <td>0</td>\n",
       "      <td>1</td>\n",
       "    </tr>\n",
       "    <tr>\n",
       "      <th>3</th>\n",
       "      <td>0</td>\n",
       "      <td>0</td>\n",
       "      <td>1</td>\n",
       "    </tr>\n",
       "    <tr>\n",
       "      <th>4</th>\n",
       "      <td>0</td>\n",
       "      <td>0</td>\n",
       "      <td>1</td>\n",
       "    </tr>\n",
       "  </tbody>\n",
       "</table>\n",
       "</div>"
      ],
      "text/plain": [
       "   New World Monkey  Old World Monkey  Strepsirrhine\n",
       "0                 0                 0              1\n",
       "1                 0                 0              1\n",
       "2                 0                 0              1\n",
       "3                 0                 0              1\n",
       "4                 0                 0              1"
      ]
     },
     "execution_count": 21,
     "metadata": {},
     "output_type": "execute_result"
    }
   ],
   "source": [
    "clade_dummies = pd.get_dummies(milk.clade, drop_first=True)\n",
    "clade_dummies.head()"
   ]
  },
  {
   "cell_type": "code",
   "execution_count": 22,
   "metadata": {},
   "outputs": [
    {
     "name": "stderr",
     "output_type": "stream",
     "text": [
      "INFO:pystan:COMPILING THE C++ CODE FOR MODEL anon_model_dcc9319ed86ed1e9210a5d140ba8dc26 NOW.\n"
     ]
    }
   ],
   "source": [
    "categories_code = \"\"\"\n",
    "data {\n",
    "    int N;\n",
    "    int K;\n",
    "    matrix[N, K] X;\n",
    "    vector[N] k;\n",
    "}\n",
    "parameters {\n",
    "    real alpha;\n",
    "    vector[K] beta;\n",
    "    real<lower=0> sigma;\n",
    "}\n",
    "transformed parameters {\n",
    "    vector[N] mu;\n",
    "    mu = alpha + X * beta;\n",
    "}\n",
    "model {\n",
    "    sigma ~ uniform(0, 10);\n",
    "    beta ~ normal(0, 1);\n",
    "    alpha ~ normal(0.6, 10);\n",
    "    k ~ normal(mu, sigma);\n",
    "}\"\"\"\n",
    "\n",
    "sm2_1 = StanModel(model_code=categories_code)"
   ]
  },
  {
   "cell_type": "code",
   "execution_count": 23,
   "metadata": {},
   "outputs": [
    {
     "data": {
      "text/plain": [
       "Inference for Stan model: anon_model_dcc9319ed86ed1e9210a5d140ba8dc26.\n",
       "4 chains, each with iter=2000; warmup=1000; thin=1; \n",
       "post-warmup draws per chain=1000, total post-warmup draws=4000.\n",
       "\n",
       "          mean se_mean     sd   2.5%    25%    50%    75%  97.5%  n_eff   Rhat\n",
       "alpha     0.54  1.2e-3   0.04   0.46   0.51   0.54   0.57   0.63   1293    1.0\n",
       "beta[0]   0.17  1.6e-3   0.06   0.05   0.13   0.17   0.21   0.29   1558    1.0\n",
       "beta[1]   0.24  1.6e-3   0.07   0.11    0.2   0.24   0.29   0.38   1876    1.0\n",
       "beta[2]  -0.03  1.6e-3   0.07  -0.18  -0.08  -0.04   0.01   0.11   1956    1.0\n",
       "sigma     0.13  3.6e-4   0.02    0.1   0.12   0.13   0.14   0.17   2915    1.0\n",
       "mu[0]     0.51  9.1e-4   0.06    0.4   0.47   0.51   0.55   0.62   4000    1.0\n",
       "mu[1]     0.51  9.1e-4   0.06    0.4   0.47   0.51   0.55   0.62   4000    1.0\n",
       "mu[2]     0.51  9.1e-4   0.06    0.4   0.47   0.51   0.55   0.62   4000    1.0\n",
       "mu[3]     0.51  9.1e-4   0.06    0.4   0.47   0.51   0.55   0.62   4000    1.0\n",
       "mu[4]     0.51  9.1e-4   0.06    0.4   0.47   0.51   0.55   0.62   4000    1.0\n",
       "mu[5]     0.71  7.0e-4   0.04   0.63   0.69   0.72   0.74    0.8   4000    1.0\n",
       "mu[6]     0.71  7.0e-4   0.04   0.63   0.69   0.72   0.74    0.8   4000    1.0\n",
       "mu[7]     0.71  7.0e-4   0.04   0.63   0.69   0.72   0.74    0.8   4000    1.0\n",
       "mu[8]     0.71  7.0e-4   0.04   0.63   0.69   0.72   0.74    0.8   4000    1.0\n",
       "mu[9]     0.71  7.0e-4   0.04   0.63   0.69   0.72   0.74    0.8   4000    1.0\n",
       "mu[10]    0.71  7.0e-4   0.04   0.63   0.69   0.72   0.74    0.8   4000    1.0\n",
       "mu[11]    0.71  7.0e-4   0.04   0.63   0.69   0.72   0.74    0.8   4000    1.0\n",
       "mu[12]    0.71  7.0e-4   0.04   0.63   0.69   0.72   0.74    0.8   4000    1.0\n",
       "mu[13]    0.71  7.0e-4   0.04   0.63   0.69   0.72   0.74    0.8   4000    1.0\n",
       "mu[14]    0.79  8.3e-4   0.05   0.68   0.75   0.79   0.82   0.89   4000    1.0\n",
       "mu[15]    0.79  8.3e-4   0.05   0.68   0.75   0.79   0.82   0.89   4000    1.0\n",
       "mu[16]    0.79  8.3e-4   0.05   0.68   0.75   0.79   0.82   0.89   4000    1.0\n",
       "mu[17]    0.79  8.3e-4   0.05   0.68   0.75   0.79   0.82   0.89   4000    1.0\n",
       "mu[18]    0.79  8.3e-4   0.05   0.68   0.75   0.79   0.82   0.89   4000    1.0\n",
       "mu[19]    0.79  8.3e-4   0.05   0.68   0.75   0.79   0.82   0.89   4000    1.0\n",
       "mu[20]    0.54  1.2e-3   0.04   0.46   0.51   0.54   0.57   0.63   1293    1.0\n",
       "mu[21]    0.54  1.2e-3   0.04   0.46   0.51   0.54   0.57   0.63   1293    1.0\n",
       "mu[22]    0.54  1.2e-3   0.04   0.46   0.51   0.54   0.57   0.63   1293    1.0\n",
       "mu[23]    0.54  1.2e-3   0.04   0.46   0.51   0.54   0.57   0.63   1293    1.0\n",
       "mu[24]    0.54  1.2e-3   0.04   0.46   0.51   0.54   0.57   0.63   1293    1.0\n",
       "mu[25]    0.54  1.2e-3   0.04   0.46   0.51   0.54   0.57   0.63   1293    1.0\n",
       "mu[26]    0.54  1.2e-3   0.04   0.46   0.51   0.54   0.57   0.63   1293    1.0\n",
       "mu[27]    0.54  1.2e-3   0.04   0.46   0.51   0.54   0.57   0.63   1293    1.0\n",
       "mu[28]    0.54  1.2e-3   0.04   0.46   0.51   0.54   0.57   0.63   1293    1.0\n",
       "lp__     43.41    0.04   1.69   39.2   42.5  43.72  44.67  45.67   1554    1.0\n",
       "\n",
       "Samples were drawn using NUTS at Thu Jan  4 14:21:13 2018.\n",
       "For each parameter, n_eff is a crude measure of effective sample size,\n",
       "and Rhat is the potential scale reduction factor on split chains (at \n",
       "convergence, Rhat=1)."
      ]
     },
     "execution_count": 23,
     "metadata": {},
     "output_type": "execute_result"
    }
   ],
   "source": [
    "categories_data = dict(\n",
    "    N=milk.shape[0],\n",
    "    K=clade_dummies.shape[1],\n",
    "    X=clade_dummies.as_matrix(),\n",
    "    k=milk['kcal.per.g']\n",
    ")\n",
    "\n",
    "fit2_1 = sm2_1.sampling(data=categories_data)\n",
    "fit2_1"
   ]
  },
  {
   "cell_type": "markdown",
   "metadata": {},
   "source": [
    "Alternatively, one can use a vector of intercepts paramaters, where each category has its own intercept. The results will be equivalent, but the results are now more easily interpretable."
   ]
  },
  {
   "cell_type": "code",
   "execution_count": 24,
   "metadata": {},
   "outputs": [
    {
     "name": "stderr",
     "output_type": "stream",
     "text": [
      "INFO:pystan:COMPILING THE C++ CODE FOR MODEL anon_model_667a7a1f9a930dfdae11e04320e80ebf NOW.\n"
     ]
    }
   ],
   "source": [
    "categories_code = \"\"\"\n",
    "data {\n",
    "    int N;\n",
    "    int J;\n",
    "    int<lower=1, upper=J> clade_id[N];\n",
    "    vector[N] k;\n",
    "}\n",
    "parameters {\n",
    "    real alpha[J];\n",
    "    real<lower=0> sigma;\n",
    "}\n",
    "transformed parameters {\n",
    "    real mu[N];\n",
    "    \n",
    "    for (n in 1:N) {\n",
    "        mu[n] = alpha[clade_id[n]];\n",
    "    }\n",
    "}\n",
    "model {\n",
    "    sigma ~ uniform(0, 10);\n",
    "    alpha ~ normal(0.6, 10);\n",
    "    k ~ normal(mu, sigma);\n",
    "}\"\"\"\n",
    "\n",
    "sm2_1 = StanModel(model_code=categories_code)"
   ]
  },
  {
   "cell_type": "code",
   "execution_count": 25,
   "metadata": {},
   "outputs": [],
   "source": [
    "milk['clade_id'] = pd.Categorical(milk.clade).codes + 1"
   ]
  },
  {
   "cell_type": "code",
   "execution_count": 26,
   "metadata": {},
   "outputs": [
    {
     "data": {
      "text/plain": [
       "Inference for Stan model: anon_model_667a7a1f9a930dfdae11e04320e80ebf.\n",
       "4 chains, each with iter=2000; warmup=1000; thin=1; \n",
       "post-warmup draws per chain=1000, total post-warmup draws=4000.\n",
       "\n",
       "           mean se_mean     sd   2.5%    25%    50%    75%  97.5%  n_eff   Rhat\n",
       "alpha[0]   0.54  6.9e-4   0.04   0.46   0.52   0.55   0.57   0.63   4000    1.0\n",
       "alpha[1]   0.71  7.1e-4   0.04   0.62   0.68   0.71   0.74    0.8   4000    1.0\n",
       "alpha[2]   0.79  8.5e-4   0.05   0.68   0.75   0.79   0.82   0.89   4000    1.0\n",
       "alpha[3]   0.51  9.7e-4   0.06   0.39   0.47   0.51   0.55   0.63   4000    1.0\n",
       "sigma      0.13  3.4e-4   0.02    0.1   0.12   0.13   0.14   0.18   3284    1.0\n",
       "mu[0]      0.51  9.7e-4   0.06   0.39   0.47   0.51   0.55   0.63   4000    1.0\n",
       "mu[1]      0.51  9.7e-4   0.06   0.39   0.47   0.51   0.55   0.63   4000    1.0\n",
       "mu[2]      0.51  9.7e-4   0.06   0.39   0.47   0.51   0.55   0.63   4000    1.0\n",
       "mu[3]      0.51  9.7e-4   0.06   0.39   0.47   0.51   0.55   0.63   4000    1.0\n",
       "mu[4]      0.51  9.7e-4   0.06   0.39   0.47   0.51   0.55   0.63   4000    1.0\n",
       "mu[5]      0.71  7.1e-4   0.04   0.62   0.68   0.71   0.74    0.8   4000    1.0\n",
       "mu[6]      0.71  7.1e-4   0.04   0.62   0.68   0.71   0.74    0.8   4000    1.0\n",
       "mu[7]      0.71  7.1e-4   0.04   0.62   0.68   0.71   0.74    0.8   4000    1.0\n",
       "mu[8]      0.71  7.1e-4   0.04   0.62   0.68   0.71   0.74    0.8   4000    1.0\n",
       "mu[9]      0.71  7.1e-4   0.04   0.62   0.68   0.71   0.74    0.8   4000    1.0\n",
       "mu[10]     0.71  7.1e-4   0.04   0.62   0.68   0.71   0.74    0.8   4000    1.0\n",
       "mu[11]     0.71  7.1e-4   0.04   0.62   0.68   0.71   0.74    0.8   4000    1.0\n",
       "mu[12]     0.71  7.1e-4   0.04   0.62   0.68   0.71   0.74    0.8   4000    1.0\n",
       "mu[13]     0.71  7.1e-4   0.04   0.62   0.68   0.71   0.74    0.8   4000    1.0\n",
       "mu[14]     0.79  8.5e-4   0.05   0.68   0.75   0.79   0.82   0.89   4000    1.0\n",
       "mu[15]     0.79  8.5e-4   0.05   0.68   0.75   0.79   0.82   0.89   4000    1.0\n",
       "mu[16]     0.79  8.5e-4   0.05   0.68   0.75   0.79   0.82   0.89   4000    1.0\n",
       "mu[17]     0.79  8.5e-4   0.05   0.68   0.75   0.79   0.82   0.89   4000    1.0\n",
       "mu[18]     0.79  8.5e-4   0.05   0.68   0.75   0.79   0.82   0.89   4000    1.0\n",
       "mu[19]     0.79  8.5e-4   0.05   0.68   0.75   0.79   0.82   0.89   4000    1.0\n",
       "mu[20]     0.54  6.9e-4   0.04   0.46   0.52   0.55   0.57   0.63   4000    1.0\n",
       "mu[21]     0.54  6.9e-4   0.04   0.46   0.52   0.55   0.57   0.63   4000    1.0\n",
       "mu[22]     0.54  6.9e-4   0.04   0.46   0.52   0.55   0.57   0.63   4000    1.0\n",
       "mu[23]     0.54  6.9e-4   0.04   0.46   0.52   0.55   0.57   0.63   4000    1.0\n",
       "mu[24]     0.54  6.9e-4   0.04   0.46   0.52   0.55   0.57   0.63   4000    1.0\n",
       "mu[25]     0.54  6.9e-4   0.04   0.46   0.52   0.55   0.57   0.63   4000    1.0\n",
       "mu[26]     0.54  6.9e-4   0.04   0.46   0.52   0.55   0.57   0.63   4000    1.0\n",
       "mu[27]     0.54  6.9e-4   0.04   0.46   0.52   0.55   0.57   0.63   4000    1.0\n",
       "mu[28]     0.54  6.9e-4   0.04   0.46   0.52   0.55   0.57   0.63   4000    1.0\n",
       "lp__       43.4    0.04   1.77  38.93   42.5  43.76  44.71  45.72   1601    1.0\n",
       "\n",
       "Samples were drawn using NUTS at Thu Jan  4 14:22:22 2018.\n",
       "For each parameter, n_eff is a crude measure of effective sample size,\n",
       "and Rhat is the potential scale reduction factor on split chains (at \n",
       "convergence, Rhat=1)."
      ]
     },
     "execution_count": 26,
     "metadata": {},
     "output_type": "execute_result"
    }
   ],
   "source": [
    "categories_data2 = dict(\n",
    "    N=milk.shape[0],\n",
    "    J=4,\n",
    "    clade_id=milk['clade_id'],\n",
    "    k=milk['kcal.per.g']\n",
    ")\n",
    "\n",
    "fit2_2 = sm2_1.sampling(data=categories_data2)\n",
    "fit2_2"
   ]
  }
 ],
 "metadata": {
  "kernelspec": {
   "display_name": "Python 3",
   "language": "python",
   "name": "python3"
  },
  "language_info": {
   "codemirror_mode": {
    "name": "ipython",
    "version": 3
   },
   "file_extension": ".py",
   "mimetype": "text/x-python",
   "name": "python",
   "nbconvert_exporter": "python",
   "pygments_lexer": "ipython3",
   "version": "3.6.3"
  }
 },
 "nbformat": 4,
 "nbformat_minor": 2
}
