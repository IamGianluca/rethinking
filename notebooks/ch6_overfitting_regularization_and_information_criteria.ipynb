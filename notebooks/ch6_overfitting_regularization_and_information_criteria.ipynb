{
 "cells": [
  {
   "cell_type": "markdown",
   "metadata": {},
   "source": [
    "# Information theory and model performance"
   ]
  },
  {
   "cell_type": "code",
   "execution_count": 2,
   "metadata": {},
   "outputs": [],
   "source": [
    "import numpy as np\n",
    "import pytest\n",
    "from bokeh.plotting import figure, output_file, show"
   ]
  },
  {
   "cell_type": "code",
   "execution_count": 3,
   "metadata": {},
   "outputs": [],
   "source": [
    "current = np.array([1] * 3 + [.6] * 7)\n",
    "newcomer = np.array([0] * 10)\n",
    "observed = np.array([1] * 3 + [0] * 7)"
   ]
  },
  {
   "cell_type": "code",
   "execution_count": 4,
   "metadata": {},
   "outputs": [
    {
     "name": "stdout",
     "output_type": "stream",
     "text": [
      "Hit rate current forecaster: 0.58\n",
      "Hit rate new forecaster: 0.7\n"
     ]
    }
   ],
   "source": [
    "def hit_rate(forecast, observed):\n",
    "    scores = list()\n",
    "    for pred, is_raining in zip(forecast, observed):\n",
    "        score = 1 - abs(is_raining - pred)\n",
    "        scores.append(score)\n",
    "    return np.sum(scores) / len(observed)\n",
    "\n",
    "assert hit_rate(forecast=[1], observed=[1]) == 1\n",
    "assert hit_rate(forecast=[0.6], observed=[1]) == 0.6\n",
    "assert hit_rate(forecast=[0.6], observed=[0]) == 0.4\n",
    "assert hit_rate(forecast=[0], observed=[0]) == 1\n",
    "\n",
    "\n",
    "hr_old = hit_rate(forecast=current, observed=observed)\n",
    "hr_new = hit_rate(forecast=newcomer, observed=observed)\n",
    "\n",
    "print(f'Hit rate current forecaster: {hr_old:.2}')\n",
    "print(f'Hit rate new forecaster: {hr_new:.2}')"
   ]
  },
  {
   "cell_type": "code",
   "execution_count": 5,
   "metadata": {},
   "outputs": [
    {
     "name": "stdout",
     "output_type": "stream",
     "text": [
      "Utility current forecaster: -7.2\n",
      "Utility rate new forecaster: -1.5e+01\n"
     ]
    }
   ],
   "source": [
    "cost_getting_wet = -5.\n",
    "cost_carrying_umbrella = -1.\n",
    "\n",
    "def utility_function(forecast, observed):\n",
    "    utility = list()\n",
    "    for pred, is_raining in zip(forecast, observed):\n",
    "        happyness = pred * cost_carrying_umbrella + max(is_raining - pred, 0) * cost_getting_wet\n",
    "        utility.append(happyness)\n",
    "    return np.sum(utility)\n",
    "\n",
    "assert utility_function(forecast=[1], observed=[1]) == -1\n",
    "assert utility_function(forecast=[0], observed=[0]) == 0\n",
    "assert utility_function(forecast=[0.6], observed=[0]) == -0.6\n",
    "assert utility_function(forecast=[1], observed=[0]) == -1\n",
    "\n",
    "\n",
    "utility_old = utility_function(forecast=current, observed=observed)\n",
    "utility_new = utility_function(forecast=newcomer, observed=observed)\n",
    "\n",
    "print(f'Utility current forecaster: {utility_old:.2}')\n",
    "print(f'Utility rate new forecaster: {utility_new:.2}')"
   ]
  },
  {
   "cell_type": "code",
   "execution_count": 6,
   "metadata": {},
   "outputs": [
    {
     "name": "stdout",
     "output_type": "stream",
     "text": [
      "Joint probability current forecaster: 0.0016\n",
      "Joint probability new forecaster: 0.0\n"
     ]
    }
   ],
   "source": [
    "joint_probability_old = 1.**3 * 0.4**7\n",
    "joint_probability_new = 0.**3 * 1**7\n",
    "\n",
    "print(f'Joint probability current forecaster: {joint_probability_old:.2}')\n",
    "print(f'Joint probability new forecaster: {joint_probability_new:.2}')"
   ]
  },
  {
   "cell_type": "code",
   "execution_count": 7,
   "metadata": {},
   "outputs": [],
   "source": [
    "from rethinking.utils import information_entropy"
   ]
  },
  {
   "cell_type": "code",
   "execution_count": 9,
   "metadata": {},
   "outputs": [
    {
     "data": {
      "text/plain": [
       "0.818808456222877"
      ]
     },
     "execution_count": 9,
     "metadata": {},
     "output_type": "execute_result"
    }
   ],
   "source": [
    "information_entropy(p=np.array([.7, .15, .15]))"
   ]
  },
  {
   "cell_type": "code",
   "execution_count": null,
   "metadata": {},
   "outputs": [],
   "source": []
  }
 ],
 "metadata": {
  "kernelspec": {
   "display_name": "Python 3",
   "language": "python",
   "name": "python3"
  },
  "language_info": {
   "codemirror_mode": {
    "name": "ipython",
    "version": 3
   },
   "file_extension": ".py",
   "mimetype": "text/x-python",
   "name": "python",
   "nbconvert_exporter": "python",
   "pygments_lexer": "ipython3",
   "version": "3.6.3"
  }
 },
 "nbformat": 4,
 "nbformat_minor": 2
}
