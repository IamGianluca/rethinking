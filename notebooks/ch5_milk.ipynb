{
 "cells": [
  {
   "cell_type": "code",
   "execution_count": 1,
   "metadata": {},
   "outputs": [],
   "source": [
    "%matplotlib inline\n",
    "\n",
    "import os \n",
    "\n",
    "import matplotlib.pyplot as plt\n",
    "import numpy as np\n",
    "import pandas as pd\n",
    "\n",
    "from rethinking.stan import StanCache"
   ]
  },
  {
   "cell_type": "code",
   "execution_count": 2,
   "metadata": {},
   "outputs": [],
   "source": [
    "DATA_FOLDER = '../data'\n",
    "MILK_FULLPATH = os.path.join(DATA_FOLDER, 'milk.csv')"
   ]
  },
  {
   "cell_type": "code",
   "execution_count": 3,
   "metadata": {},
   "outputs": [
    {
     "data": {
      "text/html": [
       "<div>\n",
       "<style scoped>\n",
       "    .dataframe tbody tr th:only-of-type {\n",
       "        vertical-align: middle;\n",
       "    }\n",
       "\n",
       "    .dataframe tbody tr th {\n",
       "        vertical-align: top;\n",
       "    }\n",
       "\n",
       "    .dataframe thead th {\n",
       "        text-align: right;\n",
       "    }\n",
       "</style>\n",
       "<table border=\"1\" class=\"dataframe\">\n",
       "  <thead>\n",
       "    <tr style=\"text-align: right;\">\n",
       "      <th></th>\n",
       "      <th>clade</th>\n",
       "      <th>species</th>\n",
       "      <th>kcal.per.g</th>\n",
       "      <th>perc.fat</th>\n",
       "      <th>perc.protein</th>\n",
       "      <th>perc.lactose</th>\n",
       "      <th>mass</th>\n",
       "      <th>neocortex.perc</th>\n",
       "    </tr>\n",
       "  </thead>\n",
       "  <tbody>\n",
       "    <tr>\n",
       "      <th>0</th>\n",
       "      <td>Strepsirrhine</td>\n",
       "      <td>Eulemur fulvus</td>\n",
       "      <td>0.49</td>\n",
       "      <td>16.60</td>\n",
       "      <td>15.42</td>\n",
       "      <td>67.98</td>\n",
       "      <td>1.95</td>\n",
       "      <td>55.16</td>\n",
       "    </tr>\n",
       "    <tr>\n",
       "      <th>1</th>\n",
       "      <td>Strepsirrhine</td>\n",
       "      <td>E macaco</td>\n",
       "      <td>0.51</td>\n",
       "      <td>19.27</td>\n",
       "      <td>16.91</td>\n",
       "      <td>63.82</td>\n",
       "      <td>2.09</td>\n",
       "      <td>NaN</td>\n",
       "    </tr>\n",
       "    <tr>\n",
       "      <th>2</th>\n",
       "      <td>Strepsirrhine</td>\n",
       "      <td>E mongoz</td>\n",
       "      <td>0.46</td>\n",
       "      <td>14.11</td>\n",
       "      <td>16.85</td>\n",
       "      <td>69.04</td>\n",
       "      <td>2.51</td>\n",
       "      <td>NaN</td>\n",
       "    </tr>\n",
       "    <tr>\n",
       "      <th>3</th>\n",
       "      <td>Strepsirrhine</td>\n",
       "      <td>E rubriventer</td>\n",
       "      <td>0.48</td>\n",
       "      <td>14.91</td>\n",
       "      <td>13.18</td>\n",
       "      <td>71.91</td>\n",
       "      <td>1.62</td>\n",
       "      <td>NaN</td>\n",
       "    </tr>\n",
       "    <tr>\n",
       "      <th>4</th>\n",
       "      <td>Strepsirrhine</td>\n",
       "      <td>Lemur catta</td>\n",
       "      <td>0.60</td>\n",
       "      <td>27.28</td>\n",
       "      <td>19.50</td>\n",
       "      <td>53.22</td>\n",
       "      <td>2.19</td>\n",
       "      <td>NaN</td>\n",
       "    </tr>\n",
       "  </tbody>\n",
       "</table>\n",
       "</div>"
      ],
      "text/plain": [
       "           clade         species  kcal.per.g  perc.fat  perc.protein  \\\n",
       "0  Strepsirrhine  Eulemur fulvus        0.49     16.60         15.42   \n",
       "1  Strepsirrhine        E macaco        0.51     19.27         16.91   \n",
       "2  Strepsirrhine        E mongoz        0.46     14.11         16.85   \n",
       "3  Strepsirrhine   E rubriventer        0.48     14.91         13.18   \n",
       "4  Strepsirrhine     Lemur catta        0.60     27.28         19.50   \n",
       "\n",
       "   perc.lactose  mass  neocortex.perc  \n",
       "0         67.98  1.95           55.16  \n",
       "1         63.82  2.09             NaN  \n",
       "2         69.04  2.51             NaN  \n",
       "3         71.91  1.62             NaN  \n",
       "4         53.22  2.19             NaN  "
      ]
     },
     "execution_count": 3,
     "metadata": {},
     "output_type": "execute_result"
    }
   ],
   "source": [
    "milk = pd.read_csv(MILK_FULLPATH)\n",
    "milk.head()"
   ]
  },
  {
   "cell_type": "code",
   "execution_count": 4,
   "metadata": {},
   "outputs": [
    {
     "data": {
      "text/html": [
       "<div>\n",
       "<style scoped>\n",
       "    .dataframe tbody tr th:only-of-type {\n",
       "        vertical-align: middle;\n",
       "    }\n",
       "\n",
       "    .dataframe tbody tr th {\n",
       "        vertical-align: top;\n",
       "    }\n",
       "\n",
       "    .dataframe thead th {\n",
       "        text-align: right;\n",
       "    }\n",
       "</style>\n",
       "<table border=\"1\" class=\"dataframe\">\n",
       "  <thead>\n",
       "    <tr style=\"text-align: right;\">\n",
       "      <th></th>\n",
       "      <th>kcal.per.g</th>\n",
       "      <th>perc.fat</th>\n",
       "      <th>perc.protein</th>\n",
       "      <th>perc.lactose</th>\n",
       "      <th>mass</th>\n",
       "      <th>neocortex.perc</th>\n",
       "    </tr>\n",
       "  </thead>\n",
       "  <tbody>\n",
       "    <tr>\n",
       "      <th>count</th>\n",
       "      <td>29.000000</td>\n",
       "      <td>29.000000</td>\n",
       "      <td>29.000000</td>\n",
       "      <td>29.000000</td>\n",
       "      <td>29.000000</td>\n",
       "      <td>17.000000</td>\n",
       "    </tr>\n",
       "    <tr>\n",
       "      <th>mean</th>\n",
       "      <td>0.641724</td>\n",
       "      <td>33.990345</td>\n",
       "      <td>16.403448</td>\n",
       "      <td>49.606207</td>\n",
       "      <td>14.726897</td>\n",
       "      <td>67.575882</td>\n",
       "    </tr>\n",
       "    <tr>\n",
       "      <th>std</th>\n",
       "      <td>0.161402</td>\n",
       "      <td>14.286670</td>\n",
       "      <td>4.846878</td>\n",
       "      <td>14.055174</td>\n",
       "      <td>24.770469</td>\n",
       "      <td>5.968612</td>\n",
       "    </tr>\n",
       "    <tr>\n",
       "      <th>min</th>\n",
       "      <td>0.460000</td>\n",
       "      <td>3.930000</td>\n",
       "      <td>7.370000</td>\n",
       "      <td>27.090000</td>\n",
       "      <td>0.120000</td>\n",
       "      <td>55.160000</td>\n",
       "    </tr>\n",
       "    <tr>\n",
       "      <th>25%</th>\n",
       "      <td>0.490000</td>\n",
       "      <td>21.220000</td>\n",
       "      <td>13.000000</td>\n",
       "      <td>37.800000</td>\n",
       "      <td>1.620000</td>\n",
       "      <td>64.540000</td>\n",
       "    </tr>\n",
       "    <tr>\n",
       "      <th>50%</th>\n",
       "      <td>0.600000</td>\n",
       "      <td>36.840000</td>\n",
       "      <td>15.800000</td>\n",
       "      <td>48.640000</td>\n",
       "      <td>3.470000</td>\n",
       "      <td>68.850000</td>\n",
       "    </tr>\n",
       "    <tr>\n",
       "      <th>75%</th>\n",
       "      <td>0.730000</td>\n",
       "      <td>46.080000</td>\n",
       "      <td>20.770000</td>\n",
       "      <td>60.120000</td>\n",
       "      <td>10.720000</td>\n",
       "      <td>71.260000</td>\n",
       "    </tr>\n",
       "    <tr>\n",
       "      <th>max</th>\n",
       "      <td>0.970000</td>\n",
       "      <td>55.510000</td>\n",
       "      <td>25.300000</td>\n",
       "      <td>71.910000</td>\n",
       "      <td>97.720000</td>\n",
       "      <td>76.300000</td>\n",
       "    </tr>\n",
       "  </tbody>\n",
       "</table>\n",
       "</div>"
      ],
      "text/plain": [
       "       kcal.per.g   perc.fat  perc.protein  perc.lactose       mass  \\\n",
       "count   29.000000  29.000000     29.000000     29.000000  29.000000   \n",
       "mean     0.641724  33.990345     16.403448     49.606207  14.726897   \n",
       "std      0.161402  14.286670      4.846878     14.055174  24.770469   \n",
       "min      0.460000   3.930000      7.370000     27.090000   0.120000   \n",
       "25%      0.490000  21.220000     13.000000     37.800000   1.620000   \n",
       "50%      0.600000  36.840000     15.800000     48.640000   3.470000   \n",
       "75%      0.730000  46.080000     20.770000     60.120000  10.720000   \n",
       "max      0.970000  55.510000     25.300000     71.910000  97.720000   \n",
       "\n",
       "       neocortex.perc  \n",
       "count       17.000000  \n",
       "mean        67.575882  \n",
       "std          5.968612  \n",
       "min         55.160000  \n",
       "25%         64.540000  \n",
       "50%         68.850000  \n",
       "75%         71.260000  \n",
       "max         76.300000  "
      ]
     },
     "execution_count": 4,
     "metadata": {},
     "output_type": "execute_result"
    }
   ],
   "source": [
    "milk.describe()"
   ]
  },
  {
   "cell_type": "code",
   "execution_count": 5,
   "metadata": {},
   "outputs": [
    {
     "name": "stdout",
     "output_type": "stream",
     "text": [
      "data {\n",
      "    int<lower=0> N;\n",
      "    vector[N] X;\n",
      "    vector[N] kcal_per_g;\n",
      "}\n",
      "parameters {\n",
      "    real alpha;\n",
      "    real beta;\n",
      "    real<lower=0> sigma;\n",
      "\n",
      "}\n",
      "transformed parameters {\n",
      "    vector[N] mu;\n",
      "\n",
      "    mu = alpha + beta * X;\n",
      "}\n",
      "model {\n",
      "    alpha ~ normal(0, 100);\n",
      "    beta ~ normal(0, 1);\n",
      "    //sigma ~ uniform(0, 1);\n",
      "    kcal_per_g ~ normal(mu, sigma);\n",
      "}\n",
      "\n"
     ]
    }
   ],
   "source": [
    "sm1 = StanCache(filename='../models/cortex.stan', cache_path='../cache').compile()\n",
    "sm1.model_code"
   ]
  },
  {
   "cell_type": "code",
   "execution_count": 6,
   "metadata": {},
   "outputs": [
    {
     "name": "stderr",
     "output_type": "stream",
     "text": [
      "/home/gianluca/.virtualenvs/rethinking/lib/python3.6/site-packages/pystan/misc.py:399: FutureWarning: Conversion of the second argument of issubdtype from `float` to `np.floating` is deprecated. In future, it will be treated as `np.float64 == np.dtype(float).type`.\n",
      "  elif np.issubdtype(np.asarray(v).dtype, float):\n"
     ]
    },
    {
     "name": "stdout",
     "output_type": "stream",
     "text": [
      "Initialization failed.\n"
     ]
    }
   ],
   "source": [
    "cortex_data = dict(\n",
    "    N=milk.shape[0],\n",
    "    X=milk.loc[:, 'neocortex.perc'],\n",
    "    kcal_per_g=milk.loc[:, 'kcal.per.g']\n",
    ")\n",
    "\n",
    "try:\n",
    "    fit1_1 = sm1.sampling(data=cortex_data)\n",
    "except RuntimeError as e:\n",
    "    print(e)"
   ]
  },
  {
   "cell_type": "markdown",
   "metadata": {},
   "source": [
    "This failure is due to the missing values in the `neocortex.perc` feature."
   ]
  },
  {
   "cell_type": "code",
   "execution_count": 7,
   "metadata": {},
   "outputs": [
    {
     "data": {
      "text/html": [
       "<div>\n",
       "<style scoped>\n",
       "    .dataframe tbody tr th:only-of-type {\n",
       "        vertical-align: middle;\n",
       "    }\n",
       "\n",
       "    .dataframe tbody tr th {\n",
       "        vertical-align: top;\n",
       "    }\n",
       "\n",
       "    .dataframe thead th {\n",
       "        text-align: right;\n",
       "    }\n",
       "</style>\n",
       "<table border=\"1\" class=\"dataframe\">\n",
       "  <thead>\n",
       "    <tr style=\"text-align: right;\">\n",
       "      <th></th>\n",
       "      <th>clade</th>\n",
       "      <th>species</th>\n",
       "      <th>kcal.per.g</th>\n",
       "      <th>perc.fat</th>\n",
       "      <th>perc.protein</th>\n",
       "      <th>perc.lactose</th>\n",
       "      <th>mass</th>\n",
       "      <th>neocortex.perc</th>\n",
       "    </tr>\n",
       "  </thead>\n",
       "  <tbody>\n",
       "    <tr>\n",
       "      <th>0</th>\n",
       "      <td>Strepsirrhine</td>\n",
       "      <td>Eulemur fulvus</td>\n",
       "      <td>0.49</td>\n",
       "      <td>16.60</td>\n",
       "      <td>15.42</td>\n",
       "      <td>67.98</td>\n",
       "      <td>1.95</td>\n",
       "      <td>55.16</td>\n",
       "    </tr>\n",
       "    <tr>\n",
       "      <th>5</th>\n",
       "      <td>New World Monkey</td>\n",
       "      <td>Alouatta seniculus</td>\n",
       "      <td>0.47</td>\n",
       "      <td>21.22</td>\n",
       "      <td>23.58</td>\n",
       "      <td>55.20</td>\n",
       "      <td>5.25</td>\n",
       "      <td>64.54</td>\n",
       "    </tr>\n",
       "    <tr>\n",
       "      <th>6</th>\n",
       "      <td>New World Monkey</td>\n",
       "      <td>A palliata</td>\n",
       "      <td>0.56</td>\n",
       "      <td>29.66</td>\n",
       "      <td>23.46</td>\n",
       "      <td>46.88</td>\n",
       "      <td>5.37</td>\n",
       "      <td>64.54</td>\n",
       "    </tr>\n",
       "    <tr>\n",
       "      <th>7</th>\n",
       "      <td>New World Monkey</td>\n",
       "      <td>Cebus apella</td>\n",
       "      <td>0.89</td>\n",
       "      <td>53.41</td>\n",
       "      <td>15.80</td>\n",
       "      <td>30.79</td>\n",
       "      <td>2.51</td>\n",
       "      <td>67.64</td>\n",
       "    </tr>\n",
       "    <tr>\n",
       "      <th>9</th>\n",
       "      <td>New World Monkey</td>\n",
       "      <td>S sciureus</td>\n",
       "      <td>0.92</td>\n",
       "      <td>50.58</td>\n",
       "      <td>22.33</td>\n",
       "      <td>27.09</td>\n",
       "      <td>0.68</td>\n",
       "      <td>68.85</td>\n",
       "    </tr>\n",
       "  </tbody>\n",
       "</table>\n",
       "</div>"
      ],
      "text/plain": [
       "              clade             species  kcal.per.g  perc.fat  perc.protein  \\\n",
       "0     Strepsirrhine      Eulemur fulvus        0.49     16.60         15.42   \n",
       "5  New World Monkey  Alouatta seniculus        0.47     21.22         23.58   \n",
       "6  New World Monkey          A palliata        0.56     29.66         23.46   \n",
       "7  New World Monkey        Cebus apella        0.89     53.41         15.80   \n",
       "9  New World Monkey          S sciureus        0.92     50.58         22.33   \n",
       "\n",
       "   perc.lactose  mass  neocortex.perc  \n",
       "0         67.98  1.95           55.16  \n",
       "5         55.20  5.25           64.54  \n",
       "6         46.88  5.37           64.54  \n",
       "7         30.79  2.51           67.64  \n",
       "9         27.09  0.68           68.85  "
      ]
     },
     "execution_count": 7,
     "metadata": {},
     "output_type": "execute_result"
    }
   ],
   "source": [
    "mask = np.sum(milk.isna(), axis=1) >= 1\n",
    "milk_cc = milk[~mask]\n",
    "milk_cc.head()"
   ]
  },
  {
   "cell_type": "code",
   "execution_count": 8,
   "metadata": {},
   "outputs": [
    {
     "name": "stderr",
     "output_type": "stream",
     "text": [
      "/home/gianluca/.virtualenvs/rethinking/lib/python3.6/site-packages/pystan/misc.py:399: FutureWarning: Conversion of the second argument of issubdtype from `float` to `np.floating` is deprecated. In future, it will be treated as `np.float64 == np.dtype(float).type`.\n",
      "  elif np.issubdtype(np.asarray(v).dtype, float):\n",
      "/home/gianluca/git/rethinking/src/rethinking/stan.py:95: UserWarning: Pickling fit objects is an experimental feature!\n",
      "The relevant StanModel instance must be pickled along with this fit object.\n",
      "When unpickling the StanModel must be unpickled first.\n",
      "  pickle.dump(results, f)\n"
     ]
    },
    {
     "data": {
      "text/plain": [
       "Inference for Stan model: anon_model_e4c6cb5fb6b24068da802bd5e1052a84.\n",
       "4 chains, each with iter=2000; warmup=1000; thin=1; \n",
       "post-warmup draws per chain=1000, total post-warmup draws=4000.\n",
       "\n",
       "         mean se_mean     sd   2.5%    25%    50%    75%  97.5%  n_eff   Rhat\n",
       "alpha    0.33    0.02   0.57  -0.79  -0.04   0.34   0.71   1.45    923    1.0\n",
       "beta   4.8e-3  2.8e-4 8.4e-3  -0.01-6.5e-4 4.8e-3   0.01   0.02    923    1.0\n",
       "sigma    0.19  1.2e-3   0.04   0.13   0.16   0.19   0.21   0.29   1136    1.0\n",
       "mu[0]     0.6  3.6e-3   0.11   0.37   0.52    0.6   0.67   0.82   1008    1.0\n",
       "mu[1]    0.64  1.2e-3   0.05   0.54   0.61   0.64   0.68   0.75   1931    1.0\n",
       "mu[2]    0.64  1.2e-3   0.05   0.54   0.61   0.64   0.68   0.75   1931    1.0\n",
       "mu[3]    0.66  7.5e-4   0.05   0.56   0.63   0.66   0.69   0.75   4000    1.0\n",
       "mu[4]    0.66  7.7e-4   0.05   0.57   0.63   0.66    0.7   0.76   4000    1.0\n",
       "mu[5]    0.62  2.6e-3   0.09   0.44   0.56   0.62   0.67   0.79   1097    1.0\n",
       "mu[6]    0.63  1.9e-3   0.07   0.49   0.59   0.63   0.67   0.76   1290    1.0\n",
       "mu[7]    0.62  2.3e-3   0.08   0.47   0.57   0.62   0.67   0.78   1173    1.0\n",
       "mu[8]    0.67  8.9e-4   0.05   0.57   0.64   0.67    0.7   0.77   3388    1.0\n",
       "mu[9]    0.67  9.7e-4   0.05   0.57   0.64   0.67   0.71   0.78   2995    1.0\n",
       "mu[10]   0.69  1.6e-3   0.07   0.55   0.64   0.69   0.73   0.82   1877    1.0\n",
       "mu[11]   0.66  7.5e-4   0.05   0.56   0.63   0.66   0.69   0.75   4000    1.0\n",
       "mu[12]   0.68  1.1e-3   0.06   0.56   0.64   0.68   0.71   0.79   2546    1.0\n",
       "mu[13]   0.68  1.4e-3   0.06   0.55   0.64   0.68   0.72   0.81   2066    1.0\n",
       "mu[14]   0.67  9.2e-4   0.05   0.57   0.64   0.67   0.71   0.77   3235    1.0\n",
       "mu[15]    0.7  2.2e-3   0.09   0.52   0.64    0.7   0.76   0.87   1509    1.0\n",
       "mu[16]    0.7  2.1e-3   0.08   0.53   0.64    0.7   0.75   0.86   1580    1.0\n",
       "lp__    18.59    0.05   1.37  14.97  17.94  18.97   19.6  20.15    896    1.0\n",
       "\n",
       "Samples were drawn using NUTS at Mon Mar 12 19:11:10 2018.\n",
       "For each parameter, n_eff is a crude measure of effective sample size,\n",
       "and Rhat is the potential scale reduction factor on split chains (at \n",
       "convergence, Rhat=1)."
      ]
     },
     "execution_count": 8,
     "metadata": {},
     "output_type": "execute_result"
    }
   ],
   "source": [
    "cortex_data = dict(\n",
    "    N=milk_cc.shape[0],\n",
    "    X=milk_cc.loc[:, 'neocortex.perc'],\n",
    "    kcal_per_g=milk_cc.loc[:, 'kcal.per.g']\n",
    ")\n",
    "\n",
    "fit1_2 = sm1.sampling(data=cortex_data)\n",
    "fit1_2"
   ]
  },
  {
   "cell_type": "code",
   "execution_count": 9,
   "metadata": {},
   "outputs": [
    {
     "data": {
      "image/png": "[encoded data removed]",
      "text/plain": [
       "<matplotlib.figure.Figure at 0x7fef20f9bd30>"
      ]
     },
     "metadata": {},
     "output_type": "display_data"
    }
   ],
   "source": [
    "fit1_2.plot()\n",
    "plt.tight_layout()\n",
    "plt.show()"
   ]
  },
  {
   "cell_type": "markdown",
   "metadata": {},
   "source": [
    "Let's now consider the logarithm of adult female body mass as an alternative predictor. Taking the logarithm of a predictor because:\n",
    "\n",
    "> it is often true that scaling measurements like body mass are related by magnitudes to other variables. Taking the log of a measure translates the measure into magnitudes. So by using the logarithm of body mass hare, we're saying that we suspect that the magnitude of a mother's body mass is related to milk energy, in a linear fashion."
   ]
  },
  {
   "cell_type": "code",
   "execution_count": 10,
   "metadata": {},
   "outputs": [
    {
     "name": "stderr",
     "output_type": "stream",
     "text": [
      "/home/gianluca/.virtualenvs/rethinking/lib/python3.6/site-packages/ipykernel_launcher.py:1: SettingWithCopyWarning: \n",
      "A value is trying to be set on a copy of a slice from a DataFrame.\n",
      "Try using .loc[row_indexer,col_indexer] = value instead\n",
      "\n",
      "See the caveats in the documentation: http://pandas.pydata.org/pandas-docs/stable/indexing.html#indexing-view-versus-copy\n",
      "  \"\"\"Entry point for launching an IPython kernel.\n"
     ]
    }
   ],
   "source": [
    "milk_cc['mass_log'] = np.log(milk_cc.loc[:, 'mass'])"
   ]
  },
  {
   "cell_type": "code",
   "execution_count": 11,
   "metadata": {},
   "outputs": [
    {
     "name": "stderr",
     "output_type": "stream",
     "text": [
      "/home/gianluca/.virtualenvs/rethinking/lib/python3.6/site-packages/pystan/misc.py:399: FutureWarning: Conversion of the second argument of issubdtype from `float` to `np.floating` is deprecated. In future, it will be treated as `np.float64 == np.dtype(float).type`.\n",
      "  elif np.issubdtype(np.asarray(v).dtype, float):\n",
      "/home/gianluca/git/rethinking/src/rethinking/stan.py:95: UserWarning: Pickling fit objects is an experimental feature!\n",
      "The relevant StanModel instance must be pickled along with this fit object.\n",
      "When unpickling the StanModel must be unpickled first.\n",
      "  pickle.dump(results, f)\n"
     ]
    },
    {
     "data": {
      "text/plain": [
       "Inference for Stan model: anon_model_e4c6cb5fb6b24068da802bd5e1052a84.\n",
       "4 chains, each with iter=2000; warmup=1000; thin=1; \n",
       "post-warmup draws per chain=1000, total post-warmup draws=4000.\n",
       "\n",
       "         mean se_mean     sd   2.5%    25%    50%    75%  97.5%  n_eff   Rhat\n",
       "alpha     0.7  1.4e-3   0.06   0.59   0.67    0.7   0.74   0.82   1725    1.0\n",
       "beta    -0.03  5.9e-4   0.02  -0.08  -0.05  -0.03  -0.02   0.02   1721    1.0\n",
       "sigma    0.18  9.0e-4   0.04   0.13   0.16   0.18    0.2   0.28   1949    1.0\n",
       "mu[0]    0.68  1.1e-3   0.05   0.58   0.65   0.68   0.72   0.78   2028    1.0\n",
       "mu[1]    0.65  8.1e-4   0.05   0.56   0.62   0.65   0.68   0.74   3214    1.0\n",
       "mu[2]    0.65  8.1e-4   0.05   0.56   0.62   0.65   0.68   0.74   3252    1.0\n",
       "mu[3]    0.68  1.0e-3   0.05   0.58   0.65   0.68   0.71   0.77   2228    1.0\n",
       "mu[4]    0.72  1.6e-3   0.07   0.59   0.68   0.72   0.76   0.85   1642    1.0\n",
       "mu[5]    0.77  2.6e-3    0.1   0.58   0.71   0.77   0.84   0.97   1546    1.0\n",
       "mu[6]    0.73  1.8e-3   0.07   0.59   0.68   0.73   0.78   0.87   1596    1.0\n",
       "mu[7]    0.74  2.0e-3   0.08   0.58   0.69   0.74   0.79    0.9   1569    1.0\n",
       "mu[8]    0.69  1.2e-3   0.05   0.59   0.66   0.69   0.72    0.8   1896    1.0\n",
       "mu[9]    0.67  9.4e-4   0.05   0.58   0.64   0.67    0.7   0.76   2502    1.0\n",
       "mu[10]   0.63  8.1e-4   0.05   0.53   0.59   0.63   0.66   0.73   4000    1.0\n",
       "mu[11]   0.65  8.1e-4   0.05   0.56   0.62   0.65   0.68   0.74   3252    1.0\n",
       "mu[12]   0.59  1.1e-3   0.07   0.46   0.55   0.59   0.64   0.73   4000    1.0\n",
       "mu[13]   0.57  1.5e-3   0.08   0.41   0.51   0.57   0.62   0.73   3049    1.0\n",
       "mu[14]   0.59  1.2e-3   0.07   0.46   0.54   0.59   0.63   0.73   3451    1.0\n",
       "mu[15]   0.59  1.0e-3   0.07   0.47   0.55   0.59   0.64   0.73   4000    1.0\n",
       "mu[16]   0.58  1.3e-3   0.07   0.44   0.53   0.58   0.63   0.73   3252    1.0\n",
       "lp__    19.45    0.04    1.4  15.85  18.86  19.84  20.46  21.01   1379    1.0\n",
       "\n",
       "Samples were drawn using NUTS at Mon Mar 12 19:11:12 2018.\n",
       "For each parameter, n_eff is a crude measure of effective sample size,\n",
       "and Rhat is the potential scale reduction factor on split chains (at \n",
       "convergence, Rhat=1)."
      ]
     },
     "execution_count": 11,
     "metadata": {},
     "output_type": "execute_result"
    }
   ],
   "source": [
    "mass_data = dict(\n",
    "    N=milk_cc.shape[0],\n",
    "    X=milk_cc.loc[:, 'mass_log'],\n",
    "    kcal_per_g=milk_cc.loc[:, 'kcal.per.g']\n",
    ")\n",
    "\n",
    "fit1_3 = sm1.sampling(data=mass_data)\n",
    "fit1_3"
   ]
  },
  {
   "cell_type": "code",
   "execution_count": 12,
   "metadata": {},
   "outputs": [
    {
     "name": "stdout",
     "output_type": "stream",
     "text": [
      "data {\n",
      "    int<lower=0> N;\n",
      "    int<lower=0> K;\n",
      "    matrix[N, K] X;\n",
      "    vector[N] kcal_per_g;\n",
      "}\n",
      "parameters {\n",
      "    real alpha;\n",
      "    vector[K] beta;\n",
      "    real<lower=0> sigma;\n",
      "\n",
      "}\n",
      "transformed parameters {\n",
      "    vector[N] mu;\n",
      "\n",
      "    mu = alpha + X * beta;\n",
      "}\n",
      "model {\n",
      "    alpha ~ normal(0, 100);\n",
      "    beta ~ normal(0, 1);\n",
      "    //sigma ~ uniform(0, 1);\n",
      "    kcal_per_g ~ normal(mu, sigma);\n",
      "}\n",
      "\n"
     ]
    }
   ],
   "source": [
    "sm2 = StanCache(filename='../models/multi.stan', cache_path='../cache').compile()\n",
    "sm2.model_code"
   ]
  },
  {
   "cell_type": "code",
   "execution_count": 13,
   "metadata": {},
   "outputs": [
    {
     "name": "stderr",
     "output_type": "stream",
     "text": [
      "/home/gianluca/.virtualenvs/rethinking/lib/python3.6/site-packages/pystan/misc.py:399: FutureWarning: Conversion of the second argument of issubdtype from `float` to `np.floating` is deprecated. In future, it will be treated as `np.float64 == np.dtype(float).type`.\n",
      "  elif np.issubdtype(np.asarray(v).dtype, float):\n",
      "/home/gianluca/git/rethinking/src/rethinking/stan.py:95: UserWarning: Pickling fit objects is an experimental feature!\n",
      "The relevant StanModel instance must be pickled along with this fit object.\n",
      "When unpickling the StanModel must be unpickled first.\n",
      "  pickle.dump(results, f)\n"
     ]
    },
    {
     "data": {
      "text/plain": [
       "Inference for Stan model: anon_model_56df349a195d764972a68022d8c0d29d.\n",
       "4 chains, each with iter=2000; warmup=1000; thin=1; \n",
       "post-warmup draws per chain=1000, total post-warmup draws=4000.\n",
       "\n",
       "          mean se_mean     sd   2.5%    25%    50%    75%  97.5%  n_eff   Rhat\n",
       "alpha    -1.07    0.02   0.58  -2.24  -1.46  -1.06   -0.7   0.11    969    1.0\n",
       "beta[0]   0.03  2.9e-4 9.0e-3 9.4e-3   0.02   0.03   0.03   0.05    951    1.0\n",
       "beta[1]   -0.1  7.9e-4   0.03  -0.15  -0.11   -0.1  -0.08  -0.04   1196    1.0\n",
       "sigma     0.14  1.3e-3   0.03   0.09   0.12   0.13   0.15   0.21    566   1.01\n",
       "mu[0]     0.39  3.1e-3    0.1   0.19   0.32   0.39   0.46    0.6   1120    1.0\n",
       "mu[1]     0.56  1.1e-3   0.05   0.46   0.53   0.56   0.59   0.65   1673    1.0\n",
       "mu[2]     0.56  1.1e-3   0.05   0.46   0.53   0.56   0.58   0.65   1654    1.0\n",
       "mu[3]     0.71  7.3e-4   0.04   0.64   0.69   0.71   0.74   0.79   2652    1.0\n",
       "mu[4]     0.87  1.9e-3   0.07   0.73   0.83   0.87   0.92   1.01   1284    1.0\n",
       "mu[5]     0.76  1.4e-3   0.08    0.6   0.72   0.76   0.81   0.91   3033    1.0\n",
       "mu[6]     0.71  9.7e-4   0.06    0.6   0.68   0.71   0.75   0.82   3261    1.0\n",
       "mu[7]     0.71  1.1e-3   0.06   0.58   0.67   0.71   0.75   0.83   3197    1.0\n",
       "mu[8]     0.82  1.6e-3   0.06   0.71   0.79   0.82   0.86   0.94   1282    1.0\n",
       "mu[9]     0.77  1.2e-3   0.05   0.67   0.74   0.77    0.8   0.86   1472    1.0\n",
       "mu[10]    0.72  1.2e-3   0.05   0.62   0.69   0.72   0.75   0.82   1727    1.0\n",
       "mu[11]    0.64  5.8e-4   0.03   0.57   0.62   0.64   0.66   0.71   3537    1.0\n",
       "mu[12]    0.56  9.7e-4   0.05   0.46   0.53   0.56   0.59   0.66   2755    1.0\n",
       "mu[13]    0.52  1.3e-3   0.06   0.39   0.48   0.52   0.56   0.65   2542    1.0\n",
       "mu[14]    0.52  1.2e-3   0.06    0.4   0.48   0.52   0.56   0.63   2150    1.0\n",
       "mu[15]    0.71  1.4e-3   0.06   0.58   0.67   0.71   0.75   0.83   1872    1.0\n",
       "mu[16]    0.64  1.1e-3   0.06   0.52    0.6   0.63   0.67   0.76   2725    1.0\n",
       "lp__     23.82    0.05    1.6  19.88  22.97  24.17  25.04  25.86   1072    1.0\n",
       "\n",
       "Samples were drawn using NUTS at Mon Mar 12 19:11:13 2018.\n",
       "For each parameter, n_eff is a crude measure of effective sample size,\n",
       "and Rhat is the potential scale reduction factor on split chains (at \n",
       "convergence, Rhat=1)."
      ]
     },
     "execution_count": 13,
     "metadata": {},
     "output_type": "execute_result"
    }
   ],
   "source": [
    "multi_data = dict(\n",
    "    N=milk_cc.shape[0],\n",
    "    K=2,\n",
    "    X=milk_cc.loc[:, ['neocortex.perc', 'mass_log']],\n",
    "    kcal_per_g=milk_cc.loc[:, 'kcal.per.g']\n",
    ")\n",
    "\n",
    "fit2_1 = sm2.sampling(data=multi_data)\n",
    "fit2_1"
   ]
  },
  {
   "cell_type": "markdown",
   "metadata": {},
   "source": [
    "> By incorporating both predictor variables in the regression, the estimated association of both with the outcome has increased. The posterior mean for the association of neocortex percent has increased more than sixfold, and its 89% interval is not entirely above zero. The posterior mean for log body mass is more strongly negative."
   ]
  },
  {
   "cell_type": "markdown",
   "metadata": {},
   "source": [
    "# Multicollinearity\n",
    "\n",
    "Let's see how multicollinearity can affect the posterior distributions of the predictor's coefficients."
   ]
  },
  {
   "cell_type": "code",
   "execution_count": 14,
   "metadata": {},
   "outputs": [
    {
     "data": {
      "text/html": [
       "<div>\n",
       "<style scoped>\n",
       "    .dataframe tbody tr th:only-of-type {\n",
       "        vertical-align: middle;\n",
       "    }\n",
       "\n",
       "    .dataframe tbody tr th {\n",
       "        vertical-align: top;\n",
       "    }\n",
       "\n",
       "    .dataframe thead th {\n",
       "        text-align: right;\n",
       "    }\n",
       "</style>\n",
       "<table border=\"1\" class=\"dataframe\">\n",
       "  <thead>\n",
       "    <tr style=\"text-align: right;\">\n",
       "      <th></th>\n",
       "      <th>perc.fat</th>\n",
       "      <th>perc.lactose</th>\n",
       "    </tr>\n",
       "  </thead>\n",
       "  <tbody>\n",
       "    <tr>\n",
       "      <th>perc.fat</th>\n",
       "      <td>1.000000</td>\n",
       "      <td>-0.941637</td>\n",
       "    </tr>\n",
       "    <tr>\n",
       "      <th>perc.lactose</th>\n",
       "      <td>-0.941637</td>\n",
       "      <td>1.000000</td>\n",
       "    </tr>\n",
       "  </tbody>\n",
       "</table>\n",
       "</div>"
      ],
      "text/plain": [
       "              perc.fat  perc.lactose\n",
       "perc.fat      1.000000     -0.941637\n",
       "perc.lactose -0.941637      1.000000"
      ]
     },
     "execution_count": 14,
     "metadata": {},
     "output_type": "execute_result"
    }
   ],
   "source": [
    "milk.loc[:, ['perc.fat', 'perc.lactose']].corr()"
   ]
  },
  {
   "cell_type": "markdown",
   "metadata": {},
   "source": [
    "`perc.fat` and `perc.lactose` are strongly positively correlated. This causes multicollinearity.\n",
    "\n",
    "Let's reuse the already compiled model `sm1`."
   ]
  },
  {
   "cell_type": "code",
   "execution_count": 15,
   "metadata": {},
   "outputs": [
    {
     "name": "stdout",
     "output_type": "stream",
     "text": [
      "data {\n",
      "    int<lower=0> N;\n",
      "    vector[N] X;\n",
      "    vector[N] kcal_per_g;\n",
      "}\n",
      "parameters {\n",
      "    real alpha;\n",
      "    real beta;\n",
      "    real<lower=0> sigma;\n",
      "\n",
      "}\n",
      "transformed parameters {\n",
      "    vector[N] mu;\n",
      "\n",
      "    mu = alpha + beta * X;\n",
      "}\n",
      "model {\n",
      "    alpha ~ normal(0, 100);\n",
      "    beta ~ normal(0, 1);\n",
      "    //sigma ~ uniform(0, 1);\n",
      "    kcal_per_g ~ normal(mu, sigma);\n",
      "}\n",
      "\n",
      "None\n"
     ]
    }
   ],
   "source": [
    "print(sm1.model_code)"
   ]
  },
  {
   "cell_type": "code",
   "execution_count": 16,
   "metadata": {},
   "outputs": [
    {
     "name": "stderr",
     "output_type": "stream",
     "text": [
      "/home/gianluca/.virtualenvs/rethinking/lib/python3.6/site-packages/pystan/misc.py:399: FutureWarning: Conversion of the second argument of issubdtype from `float` to `np.floating` is deprecated. In future, it will be treated as `np.float64 == np.dtype(float).type`.\n",
      "  elif np.issubdtype(np.asarray(v).dtype, float):\n",
      "/home/gianluca/git/rethinking/src/rethinking/stan.py:95: UserWarning: Pickling fit objects is an experimental feature!\n",
      "The relevant StanModel instance must be pickled along with this fit object.\n",
      "When unpickling the StanModel must be unpickled first.\n",
      "  pickle.dump(results, f)\n"
     ]
    },
    {
     "data": {
      "text/plain": [
       "Inference for Stan model: anon_model_e4c6cb5fb6b24068da802bd5e1052a84.\n",
       "4 chains, each with iter=2000; warmup=1000; thin=1; \n",
       "post-warmup draws per chain=1000, total post-warmup draws=4000.\n",
       "\n",
       "         mean se_mean     sd   2.5%    25%    50%    75%  97.5%  n_eff   Rhat\n",
       "alpha     0.3  1.1e-3   0.04   0.22   0.27    0.3   0.33   0.38   1463    1.0\n",
       "beta     0.01  2.7e-5 1.1e-3 7.9e-3 9.3e-310.0e-3   0.01   0.01   1598    1.0\n",
       "sigma    0.08  2.7e-4   0.01   0.06   0.07   0.08   0.09   0.11   1823    1.0\n",
       "mu[0]    0.47  6.3e-4   0.02   0.42   0.45   0.47   0.48   0.51   1550    1.0\n",
       "mu[1]    0.49  5.6e-4   0.02   0.45   0.48   0.49   0.51   0.54   1607    1.0\n",
       "mu[2]    0.44  6.9e-4   0.03   0.39   0.43   0.44   0.46   0.49   1517    1.0\n",
       "mu[3]    0.45  6.7e-4   0.03    0.4   0.43   0.45   0.47    0.5   1526    1.0\n",
       "mu[4]    0.57  3.7e-4   0.02   0.54   0.56   0.57   0.59   0.61   2082    1.0\n",
       "mu[5]    0.51  5.1e-4   0.02   0.47    0.5   0.51   0.53   0.55   1668    1.0\n",
       "mu[6]     0.6  3.2e-4   0.02   0.57   0.59    0.6   0.61   0.63   2418    1.0\n",
       "mu[7]    0.84  4.8e-4   0.03   0.79   0.82   0.84   0.85   0.89   2777    1.0\n",
       "mu[8]    0.76  3.1e-4   0.02   0.72   0.75   0.76   0.78    0.8   3979    1.0\n",
       "mu[9]    0.81  4.2e-4   0.02   0.76   0.79   0.81   0.82   0.85   3051    1.0\n",
       "mu[10]   0.72  2.6e-4   0.02   0.68    0.7   0.72   0.73   0.75   4000    1.0\n",
       "mu[11]   0.34  9.5e-4   0.04   0.27   0.32   0.34   0.36   0.41   1467    1.0\n",
       "mu[12]   0.69  2.5e-4   0.02   0.66   0.68   0.69    0.7   0.72   4000    1.0\n",
       "mu[13]   0.67  2.4e-4   0.02   0.64   0.66   0.67   0.68    0.7   4000    1.0\n",
       "mu[14]   0.69  2.5e-4   0.02   0.66   0.68   0.69    0.7   0.73   4000    1.0\n",
       "mu[15]    0.7  2.6e-4   0.02   0.67   0.69    0.7   0.71   0.74   4000    1.0\n",
       "mu[16]   0.83  4.7e-4   0.03   0.78   0.82   0.83   0.85   0.88   2807    1.0\n",
       "mu[17]   0.86  5.3e-4   0.03    0.8   0.84   0.86   0.88   0.91   2621    1.0\n",
       "mu[18]   0.79  3.8e-4   0.02   0.75   0.78   0.79   0.81   0.83   3258    1.0\n",
       "mu[19]   0.85  5.0e-4   0.03   0.79   0.83   0.85   0.86    0.9   2706    1.0\n",
       "mu[20]   0.46  6.4e-4   0.03   0.41   0.44   0.46   0.48   0.51   1540    1.0\n",
       "mu[21]   0.65  2.5e-4   0.01   0.62   0.64   0.65   0.66   0.68   3591    1.0\n",
       "mu[22]   0.57  3.9e-4   0.02   0.53   0.55   0.57   0.58    0.6   1992    1.0\n",
       "mu[23]   0.68  2.4e-4   0.02   0.65   0.67   0.68   0.69   0.71   4000    1.0\n",
       "mu[24]   0.57  3.7e-4   0.02   0.54   0.56   0.57   0.58   0.61   2071    1.0\n",
       "mu[25]   0.61  3.1e-4   0.02   0.58    0.6   0.61   0.62   0.64   2592    1.0\n",
       "mu[26]   0.51  5.1e-4   0.02   0.47    0.5   0.51   0.53   0.55   1667    1.0\n",
       "mu[27]   0.67  2.4e-4   0.02   0.64   0.66   0.67   0.68    0.7   4000    1.0\n",
       "mu[28]   0.81  4.1e-4   0.02   0.76   0.79   0.81   0.82   0.85   3061    1.0\n",
       "lp__    57.09    0.04    1.3   53.8  56.47  57.44  58.05  58.58   1344    1.0\n",
       "\n",
       "Samples were drawn using NUTS at Mon Mar 12 19:11:15 2018.\n",
       "For each parameter, n_eff is a crude measure of effective sample size,\n",
       "and Rhat is the potential scale reduction factor on split chains (at \n",
       "convergence, Rhat=1)."
      ]
     },
     "execution_count": 16,
     "metadata": {},
     "output_type": "execute_result"
    }
   ],
   "source": [
    "fat_data = dict(\n",
    "    N=milk.shape[0],\n",
    "    X=milk['perc.fat'],\n",
    "    kcal_per_g = milk['kcal.per.g']\n",
    ")\n",
    "\n",
    "sm1.sampling(data=fat_data)"
   ]
  },
  {
   "cell_type": "code",
   "execution_count": 17,
   "metadata": {},
   "outputs": [
    {
     "name": "stderr",
     "output_type": "stream",
     "text": [
      "/home/gianluca/.virtualenvs/rethinking/lib/python3.6/site-packages/pystan/misc.py:399: FutureWarning: Conversion of the second argument of issubdtype from `float` to `np.floating` is deprecated. In future, it will be treated as `np.float64 == np.dtype(float).type`.\n",
      "  elif np.issubdtype(np.asarray(v).dtype, float):\n",
      "/home/gianluca/git/rethinking/src/rethinking/stan.py:95: UserWarning: Pickling fit objects is an experimental feature!\n",
      "The relevant StanModel instance must be pickled along with this fit object.\n",
      "When unpickling the StanModel must be unpickled first.\n",
      "  pickle.dump(results, f)\n"
     ]
    },
    {
     "data": {
      "text/plain": [
       "Inference for Stan model: anon_model_e4c6cb5fb6b24068da802bd5e1052a84.\n",
       "4 chains, each with iter=2000; warmup=1000; thin=1; \n",
       "post-warmup draws per chain=1000, total post-warmup draws=4000.\n",
       "\n",
       "         mean se_mean     sd   2.5%    25%    50%    75%  97.5%  n_eff   Rhat\n",
       "alpha    1.16  1.4e-3   0.05   1.06   1.13   1.16   1.19   1.26   1182    1.0\n",
       "beta    -0.01  2.7e-5 9.5e-4  -0.01  -0.01  -0.01-9.9e-3-8.6e-3   1209    nan\n",
       "sigma    0.07  3.1e-4   0.01   0.05   0.06   0.07   0.07   0.09   1065    1.0\n",
       "mu[0]    0.45  5.1e-4   0.02    0.4   0.43   0.45   0.46   0.49   1871    1.0\n",
       "mu[1]    0.49  4.1e-4   0.02   0.45   0.48   0.49    0.5   0.53   2139    1.0\n",
       "mu[2]    0.44  5.4e-4   0.02   0.39   0.42   0.44   0.45   0.48   1822    1.0\n",
       "mu[3]    0.41  6.2e-4   0.03   0.36   0.39   0.41   0.42   0.46   1681    1.0\n",
       "mu[4]     0.6  2.1e-4   0.01   0.58    0.6    0.6   0.61   0.63   4000    1.0\n",
       "mu[5]    0.58  2.2e-4   0.01   0.55   0.57   0.58   0.59   0.61   4000    1.0\n",
       "mu[6]    0.67  2.3e-4   0.01   0.64   0.66   0.67   0.68    0.7   3200    1.0\n",
       "mu[7]    0.84  5.9e-4   0.02    0.8   0.83   0.84   0.85   0.88   1348    1.0\n",
       "mu[8]    0.84  6.0e-4   0.02    0.8   0.83   0.84   0.86   0.89   1344    1.0\n",
       "mu[9]    0.88  6.9e-4   0.02   0.83   0.86   0.88   0.89   0.93   1286    1.0\n",
       "mu[10]   0.77  4.2e-4   0.02   0.73   0.76   0.77   0.78    0.8   1619    1.0\n",
       "mu[11]   0.42  5.9e-4   0.02   0.37    0.4   0.42   0.43   0.47   1719    1.0\n",
       "mu[12]   0.73  3.3e-4   0.01    0.7   0.72   0.73   0.74   0.76   2037    1.0\n",
       "mu[13]   0.72  3.2e-4   0.01    0.7   0.71   0.72   0.73   0.75   2077    1.0\n",
       "mu[14]   0.68  2.4e-4   0.01   0.65   0.67   0.68   0.69    0.7   3021    1.0\n",
       "mu[15]   0.72  3.2e-4   0.01    0.7   0.71   0.72   0.73   0.75   2069    1.0\n",
       "mu[16]   0.81  5.1e-4   0.02   0.77   0.79   0.81   0.82   0.84   1434    1.0\n",
       "mu[17]   0.83  5.8e-4   0.02   0.79   0.82   0.83   0.85   0.88   1360    1.0\n",
       "mu[18]   0.77  4.3e-4   0.02   0.74   0.76   0.77   0.78   0.81   1581    1.0\n",
       "mu[19]    0.8  4.9e-4   0.02   0.76   0.79    0.8   0.81   0.84   1462    1.0\n",
       "mu[20]   0.41  6.1e-4   0.02   0.36    0.4   0.41   0.43   0.46   1694    1.0\n",
       "mu[21]   0.61  2.1e-4   0.01   0.58    0.6   0.61   0.62   0.63   4000    1.0\n",
       "mu[22]   0.53  3.3e-4   0.02    0.5   0.52   0.53   0.54   0.56   2539    1.0\n",
       "mu[23]   0.59  2.2e-4   0.01   0.56   0.58   0.59    0.6   0.61   4000    1.0\n",
       "mu[24]   0.57  2.6e-4   0.01   0.54   0.56   0.57   0.58    0.6   3290    1.0\n",
       "mu[25]   0.65  2.0e-4   0.01   0.63   0.64   0.65   0.66   0.68   3972    1.0\n",
       "mu[26]   0.46  4.9e-4   0.02   0.41   0.44   0.46   0.47    0.5   1914    1.0\n",
       "mu[27]    0.6  2.1e-4   0.01   0.57   0.59    0.6   0.61   0.63   4000    1.0\n",
       "mu[28]   0.75  3.7e-4   0.02   0.72   0.74   0.75   0.76   0.78   1763    1.0\n",
       "lp__    61.85    0.05   1.44   58.1  61.32  62.23  62.83  63.36    787   1.01\n",
       "\n",
       "Samples were drawn using NUTS at Mon Mar 12 19:11:16 2018.\n",
       "For each parameter, n_eff is a crude measure of effective sample size,\n",
       "and Rhat is the potential scale reduction factor on split chains (at \n",
       "convergence, Rhat=1)."
      ]
     },
     "execution_count": 17,
     "metadata": {},
     "output_type": "execute_result"
    }
   ],
   "source": [
    "lactose_data = dict(\n",
    "    N=milk.shape[0],\n",
    "    X=milk['perc.lactose'],\n",
    "    kcal_per_g = milk['kcal.per.g']\n",
    ")\n",
    "\n",
    "sm1.sampling(data=lactose_data)"
   ]
  },
  {
   "cell_type": "code",
   "execution_count": 18,
   "metadata": {},
   "outputs": [
    {
     "name": "stdout",
     "output_type": "stream",
     "text": [
      "data {\n",
      "    int<lower=0> N;\n",
      "    int<lower=0> K;\n",
      "    matrix[N, K] X;\n",
      "    vector[N] kcal_per_g;\n",
      "}\n",
      "parameters {\n",
      "    real alpha;\n",
      "    vector[K] beta;\n",
      "    real<lower=0> sigma;\n",
      "\n",
      "}\n",
      "transformed parameters {\n",
      "    vector[N] mu;\n",
      "\n",
      "    mu = alpha + X * beta;\n",
      "}\n",
      "model {\n",
      "    alpha ~ normal(0, 100);\n",
      "    beta ~ normal(0, 1);\n",
      "    //sigma ~ uniform(0, 1);\n",
      "    kcal_per_g ~ normal(mu, sigma);\n",
      "}\n",
      "\n",
      "None\n"
     ]
    }
   ],
   "source": [
    "print(sm2.model_code)"
   ]
  },
  {
   "cell_type": "code",
   "execution_count": 19,
   "metadata": {},
   "outputs": [
    {
     "name": "stderr",
     "output_type": "stream",
     "text": [
      "/home/gianluca/.virtualenvs/rethinking/lib/python3.6/site-packages/pystan/misc.py:399: FutureWarning: Conversion of the second argument of issubdtype from `float` to `np.floating` is deprecated. In future, it will be treated as `np.float64 == np.dtype(float).type`.\n",
      "  elif np.issubdtype(np.asarray(v).dtype, float):\n",
      "/home/gianluca/git/rethinking/src/rethinking/stan.py:95: UserWarning: Pickling fit objects is an experimental feature!\n",
      "The relevant StanModel instance must be pickled along with this fit object.\n",
      "When unpickling the StanModel must be unpickled first.\n",
      "  pickle.dump(results, f)\n"
     ]
    },
    {
     "data": {
      "text/plain": [
       "Inference for Stan model: anon_model_56df349a195d764972a68022d8c0d29d.\n",
       "4 chains, each with iter=2000; warmup=1000; thin=1; \n",
       "post-warmup draws per chain=1000, total post-warmup draws=4000.\n",
       "\n",
       "          mean se_mean     sd   2.5%    25%    50%    75%  97.5%  n_eff   Rhat\n",
       "alpha     1.01  7.1e-3   0.22   0.58   0.87   1.01   1.16   1.45    979    1.0\n",
       "beta[0] 1.9e-3  8.4e-5 2.7e-3-3.4e-3 1.8e-4 2.0e-3 3.6e-3 7.3e-3   1013    1.0\n",
       "beta[1]-8.8e-3  9.1e-5 2.7e-3  -0.01  -0.01-8.7e-3-7.0e-3-3.4e-3    890    1.0\n",
       "sigma     0.07  3.1e-4   0.01   0.05   0.06   0.07   0.07   0.09   1057   1.01\n",
       "mu[0]     0.45  3.6e-4   0.02    0.4   0.43   0.45   0.46   0.49   3546    1.0\n",
       "mu[1]     0.49  3.0e-4   0.02   0.45   0.48   0.49    0.5   0.53   3818    1.0\n",
       "mu[2]     0.43  3.6e-4   0.02   0.39   0.42   0.43   0.45   0.48   3705    1.0\n",
       "mu[3]     0.41  4.7e-4   0.02   0.36   0.39   0.41   0.43   0.46   2737    1.0\n",
       "mu[4]      0.6  3.3e-4   0.02   0.57   0.59    0.6   0.61   0.63   2391    1.0\n",
       "mu[5]     0.57  6.5e-4   0.02   0.52   0.55   0.57   0.58   0.62   1368    1.0\n",
       "mu[6]     0.66  6.5e-4   0.02   0.61   0.64   0.66   0.67    0.7   1225    1.0\n",
       "mu[7]     0.84  3.8e-4   0.02    0.8   0.83   0.84   0.86   0.89   3462    1.0\n",
       "mu[8]     0.83  7.1e-4   0.03   0.78   0.81   0.83   0.85   0.89   1437    1.0\n",
       "mu[9]     0.87  6.8e-4   0.03   0.82   0.85   0.87   0.89   0.93   1664    1.0\n",
       "mu[10]    0.76  4.9e-4   0.02   0.72   0.75   0.76   0.77    0.8   1659    1.0\n",
       "mu[11]     0.4  8.4e-4   0.03   0.33   0.38    0.4   0.42   0.47   1730    1.0\n",
       "mu[12]    0.72  4.2e-4   0.02   0.69   0.71   0.72   0.73   0.76   1748    1.0\n",
       "mu[13]    0.72  5.0e-4   0.02   0.68    0.7   0.72   0.73   0.75   1472    1.0\n",
       "mu[14]    0.68  2.5e-4   0.01   0.65   0.67   0.68   0.69   0.71   3387    1.0\n",
       "mu[15]    0.72  2.8e-4   0.02   0.69   0.71   0.72   0.73   0.75   3170    1.0\n",
       "mu[16]    0.82  4.4e-4   0.02   0.77    0.8   0.81   0.83   0.86   2690    1.0\n",
       "mu[17]    0.84  4.6e-4   0.02   0.79   0.83   0.84   0.86   0.89   2786    1.0\n",
       "mu[18]    0.78  3.6e-4   0.02   0.74   0.77   0.78   0.79   0.82   2888    1.0\n",
       "mu[19]    0.81  5.4e-4   0.03   0.76   0.79   0.81   0.83   0.86   2197    1.0\n",
       "mu[20]    0.42  5.0e-4   0.03   0.36    0.4   0.42   0.43   0.47   2518    1.0\n",
       "mu[21]    0.61  3.6e-4   0.02   0.58    0.6   0.61   0.62   0.65   2150    1.0\n",
       "mu[22]    0.54  3.4e-4   0.02    0.5   0.52   0.54   0.55   0.57   2636    1.0\n",
       "mu[23]     0.6  7.6e-4   0.03   0.55   0.58    0.6   0.62   0.66   1302    1.0\n",
       "mu[24]    0.57  2.3e-4   0.01   0.54   0.56   0.57   0.58    0.6   4000    1.0\n",
       "mu[25]    0.64  4.2e-4   0.02   0.61   0.63   0.64   0.66   0.68   1741    1.0\n",
       "mu[26]    0.46  5.0e-4   0.02   0.42   0.45   0.46   0.48   0.51   2146    1.0\n",
       "mu[27]    0.61  5.8e-4   0.02   0.57    0.6   0.61   0.63   0.66   1536    1.0\n",
       "mu[28]    0.76  5.8e-4   0.02   0.71   0.74   0.76   0.78   0.81   1843    1.0\n",
       "lp__     61.63    0.05   1.54  57.79  60.84  61.96  62.77  63.54    802    1.0\n",
       "\n",
       "Samples were drawn using NUTS at Mon Mar 12 19:11:17 2018.\n",
       "For each parameter, n_eff is a crude measure of effective sample size,\n",
       "and Rhat is the potential scale reduction factor on split chains (at \n",
       "convergence, Rhat=1)."
      ]
     },
     "execution_count": 19,
     "metadata": {},
     "output_type": "execute_result"
    }
   ],
   "source": [
    "multicollinearity_data = dict(\n",
    "    N=milk.shape[0],\n",
    "    K=2,\n",
    "    X=milk.loc[:, ['perc.fat', 'perc.lactose']],\n",
    "    kcal_per_g=milk.loc[:, 'kcal.per.g']\n",
    ")\n",
    "\n",
    "sm2.sampling(data=multicollinearity_data)"
   ]
  },
  {
   "cell_type": "markdown",
   "metadata": {},
   "source": [
    "# Many categories"
   ]
  },
  {
   "cell_type": "code",
   "execution_count": 20,
   "metadata": {},
   "outputs": [
    {
     "data": {
      "text/html": [
       "<div>\n",
       "<style scoped>\n",
       "    .dataframe tbody tr th:only-of-type {\n",
       "        vertical-align: middle;\n",
       "    }\n",
       "\n",
       "    .dataframe tbody tr th {\n",
       "        vertical-align: top;\n",
       "    }\n",
       "\n",
       "    .dataframe thead th {\n",
       "        text-align: right;\n",
       "    }\n",
       "</style>\n",
       "<table border=\"1\" class=\"dataframe\">\n",
       "  <thead>\n",
       "    <tr style=\"text-align: right;\">\n",
       "      <th></th>\n",
       "      <th>clade</th>\n",
       "      <th>species</th>\n",
       "      <th>kcal.per.g</th>\n",
       "      <th>perc.fat</th>\n",
       "      <th>perc.protein</th>\n",
       "      <th>perc.lactose</th>\n",
       "      <th>mass</th>\n",
       "      <th>neocortex.perc</th>\n",
       "    </tr>\n",
       "  </thead>\n",
       "  <tbody>\n",
       "    <tr>\n",
       "      <th>0</th>\n",
       "      <td>Strepsirrhine</td>\n",
       "      <td>Eulemur fulvus</td>\n",
       "      <td>0.49</td>\n",
       "      <td>16.60</td>\n",
       "      <td>15.42</td>\n",
       "      <td>67.98</td>\n",
       "      <td>1.95</td>\n",
       "      <td>55.16</td>\n",
       "    </tr>\n",
       "    <tr>\n",
       "      <th>1</th>\n",
       "      <td>Strepsirrhine</td>\n",
       "      <td>E macaco</td>\n",
       "      <td>0.51</td>\n",
       "      <td>19.27</td>\n",
       "      <td>16.91</td>\n",
       "      <td>63.82</td>\n",
       "      <td>2.09</td>\n",
       "      <td>NaN</td>\n",
       "    </tr>\n",
       "    <tr>\n",
       "      <th>2</th>\n",
       "      <td>Strepsirrhine</td>\n",
       "      <td>E mongoz</td>\n",
       "      <td>0.46</td>\n",
       "      <td>14.11</td>\n",
       "      <td>16.85</td>\n",
       "      <td>69.04</td>\n",
       "      <td>2.51</td>\n",
       "      <td>NaN</td>\n",
       "    </tr>\n",
       "    <tr>\n",
       "      <th>3</th>\n",
       "      <td>Strepsirrhine</td>\n",
       "      <td>E rubriventer</td>\n",
       "      <td>0.48</td>\n",
       "      <td>14.91</td>\n",
       "      <td>13.18</td>\n",
       "      <td>71.91</td>\n",
       "      <td>1.62</td>\n",
       "      <td>NaN</td>\n",
       "    </tr>\n",
       "    <tr>\n",
       "      <th>4</th>\n",
       "      <td>Strepsirrhine</td>\n",
       "      <td>Lemur catta</td>\n",
       "      <td>0.60</td>\n",
       "      <td>27.28</td>\n",
       "      <td>19.50</td>\n",
       "      <td>53.22</td>\n",
       "      <td>2.19</td>\n",
       "      <td>NaN</td>\n",
       "    </tr>\n",
       "  </tbody>\n",
       "</table>\n",
       "</div>"
      ],
      "text/plain": [
       "           clade         species  kcal.per.g  perc.fat  perc.protein  \\\n",
       "0  Strepsirrhine  Eulemur fulvus        0.49     16.60         15.42   \n",
       "1  Strepsirrhine        E macaco        0.51     19.27         16.91   \n",
       "2  Strepsirrhine        E mongoz        0.46     14.11         16.85   \n",
       "3  Strepsirrhine   E rubriventer        0.48     14.91         13.18   \n",
       "4  Strepsirrhine     Lemur catta        0.60     27.28         19.50   \n",
       "\n",
       "   perc.lactose  mass  neocortex.perc  \n",
       "0         67.98  1.95           55.16  \n",
       "1         63.82  2.09             NaN  \n",
       "2         69.04  2.51             NaN  \n",
       "3         71.91  1.62             NaN  \n",
       "4         53.22  2.19             NaN  "
      ]
     },
     "execution_count": 20,
     "metadata": {},
     "output_type": "execute_result"
    }
   ],
   "source": [
    "milk.head()"
   ]
  },
  {
   "cell_type": "code",
   "execution_count": 21,
   "metadata": {},
   "outputs": [
    {
     "data": {
      "text/html": [
       "<div>\n",
       "<style scoped>\n",
       "    .dataframe tbody tr th:only-of-type {\n",
       "        vertical-align: middle;\n",
       "    }\n",
       "\n",
       "    .dataframe tbody tr th {\n",
       "        vertical-align: top;\n",
       "    }\n",
       "\n",
       "    .dataframe thead th {\n",
       "        text-align: right;\n",
       "    }\n",
       "</style>\n",
       "<table border=\"1\" class=\"dataframe\">\n",
       "  <thead>\n",
       "    <tr style=\"text-align: right;\">\n",
       "      <th></th>\n",
       "      <th>New World Monkey</th>\n",
       "      <th>Old World Monkey</th>\n",
       "      <th>Strepsirrhine</th>\n",
       "    </tr>\n",
       "  </thead>\n",
       "  <tbody>\n",
       "    <tr>\n",
       "      <th>0</th>\n",
       "      <td>0</td>\n",
       "      <td>0</td>\n",
       "      <td>1</td>\n",
       "    </tr>\n",
       "    <tr>\n",
       "      <th>1</th>\n",
       "      <td>0</td>\n",
       "      <td>0</td>\n",
       "      <td>1</td>\n",
       "    </tr>\n",
       "    <tr>\n",
       "      <th>2</th>\n",
       "      <td>0</td>\n",
       "      <td>0</td>\n",
       "      <td>1</td>\n",
       "    </tr>\n",
       "    <tr>\n",
       "      <th>3</th>\n",
       "      <td>0</td>\n",
       "      <td>0</td>\n",
       "      <td>1</td>\n",
       "    </tr>\n",
       "    <tr>\n",
       "      <th>4</th>\n",
       "      <td>0</td>\n",
       "      <td>0</td>\n",
       "      <td>1</td>\n",
       "    </tr>\n",
       "  </tbody>\n",
       "</table>\n",
       "</div>"
      ],
      "text/plain": [
       "   New World Monkey  Old World Monkey  Strepsirrhine\n",
       "0                 0                 0              1\n",
       "1                 0                 0              1\n",
       "2                 0                 0              1\n",
       "3                 0                 0              1\n",
       "4                 0                 0              1"
      ]
     },
     "execution_count": 21,
     "metadata": {},
     "output_type": "execute_result"
    }
   ],
   "source": [
    "clade_dummies = pd.get_dummies(milk.clade, drop_first=True)\n",
    "clade_dummies.head()"
   ]
  },
  {
   "cell_type": "code",
   "execution_count": 22,
   "metadata": {},
   "outputs": [
    {
     "name": "stdout",
     "output_type": "stream",
     "text": [
      "data {\n",
      "    int N;\n",
      "    int K;\n",
      "    matrix[N, K] X;\n",
      "    vector[N] k;\n",
      "}\n",
      "parameters {\n",
      "    real alpha;\n",
      "    vector[K] beta;\n",
      "    real<lower=0> sigma;\n",
      "}\n",
      "transformed parameters {\n",
      "    vector[N] mu;\n",
      "    mu = alpha + X * beta;\n",
      "}\n",
      "model {\n",
      "    sigma ~ uniform(0, 10);\n",
      "    beta ~ normal(0, 1);\n",
      "    alpha ~ normal(0.6, 10);\n",
      "    k ~ normal(mu, sigma);\n",
      "}\n",
      "\n"
     ]
    }
   ],
   "source": [
    "sm2_1 = StanCache(filename='../models/categories.stan', cache_path='../cache').compile()\n",
    "sm2_1.model_code"
   ]
  },
  {
   "cell_type": "code",
   "execution_count": 23,
   "metadata": {},
   "outputs": [
    {
     "name": "stderr",
     "output_type": "stream",
     "text": [
      "/home/gianluca/.virtualenvs/rethinking/lib/python3.6/site-packages/pystan/misc.py:399: FutureWarning: Conversion of the second argument of issubdtype from `float` to `np.floating` is deprecated. In future, it will be treated as `np.float64 == np.dtype(float).type`.\n",
      "  elif np.issubdtype(np.asarray(v).dtype, float):\n"
     ]
    },
    {
     "data": {
      "text/plain": [
       "Inference for Stan model: anon_model_f1de51cd64fcbfcaffdac5aed23535d4.\n",
       "4 chains, each with iter=2000; warmup=1000; thin=1; \n",
       "post-warmup draws per chain=1000, total post-warmup draws=4000.\n",
       "\n",
       "          mean se_mean     sd   2.5%    25%    50%    75%  97.5%  n_eff   Rhat\n",
       "alpha     0.55  1.1e-3   0.04   0.46   0.52   0.55   0.57   0.63   1570    1.0\n",
       "beta[0]   0.17  1.4e-3   0.06   0.05   0.13   0.17   0.21   0.29   1890    1.0\n",
       "beta[1]   0.24  1.6e-3   0.07    0.1    0.2   0.24   0.29   0.38   1991    1.0\n",
       "beta[2]  -0.04  1.6e-3   0.07  -0.18  -0.09  -0.04   0.01   0.11   2117    1.0\n",
       "sigma     0.13  4.3e-4   0.02    0.1   0.12   0.13   0.14   0.18   2180    1.0\n",
       "mu[0]     0.51  9.3e-4   0.06   0.39   0.47   0.51   0.55   0.63   4000    1.0\n",
       "mu[1]     0.51  9.3e-4   0.06   0.39   0.47   0.51   0.55   0.63   4000    1.0\n",
       "mu[2]     0.51  9.3e-4   0.06   0.39   0.47   0.51   0.55   0.63   4000    1.0\n",
       "mu[3]     0.51  9.3e-4   0.06   0.39   0.47   0.51   0.55   0.63   4000    1.0\n",
       "mu[4]     0.51  9.3e-4   0.06   0.39   0.47   0.51   0.55   0.63   4000    1.0\n",
       "mu[5]     0.71  6.9e-4   0.04   0.63   0.69   0.71   0.74    0.8   4000    1.0\n",
       "mu[6]     0.71  6.9e-4   0.04   0.63   0.69   0.71   0.74    0.8   4000    1.0\n",
       "mu[7]     0.71  6.9e-4   0.04   0.63   0.69   0.71   0.74    0.8   4000    1.0\n",
       "mu[8]     0.71  6.9e-4   0.04   0.63   0.69   0.71   0.74    0.8   4000    1.0\n",
       "mu[9]     0.71  6.9e-4   0.04   0.63   0.69   0.71   0.74    0.8   4000    1.0\n",
       "mu[10]    0.71  6.9e-4   0.04   0.63   0.69   0.71   0.74    0.8   4000    1.0\n",
       "mu[11]    0.71  6.9e-4   0.04   0.63   0.69   0.71   0.74    0.8   4000    1.0\n",
       "mu[12]    0.71  6.9e-4   0.04   0.63   0.69   0.71   0.74    0.8   4000    1.0\n",
       "mu[13]    0.71  6.9e-4   0.04   0.63   0.69   0.71   0.74    0.8   4000    1.0\n",
       "mu[14]    0.79  8.7e-4   0.05   0.68   0.75   0.79   0.82    0.9   4000    1.0\n",
       "mu[15]    0.79  8.7e-4   0.05   0.68   0.75   0.79   0.82    0.9   4000    1.0\n",
       "mu[16]    0.79  8.7e-4   0.05   0.68   0.75   0.79   0.82    0.9   4000    1.0\n",
       "mu[17]    0.79  8.7e-4   0.05   0.68   0.75   0.79   0.82    0.9   4000    1.0\n",
       "mu[18]    0.79  8.7e-4   0.05   0.68   0.75   0.79   0.82    0.9   4000    1.0\n",
       "mu[19]    0.79  8.7e-4   0.05   0.68   0.75   0.79   0.82    0.9   4000    1.0\n",
       "mu[20]    0.55  1.1e-3   0.04   0.46   0.52   0.55   0.57   0.63   1570    1.0\n",
       "mu[21]    0.55  1.1e-3   0.04   0.46   0.52   0.55   0.57   0.63   1570    1.0\n",
       "mu[22]    0.55  1.1e-3   0.04   0.46   0.52   0.55   0.57   0.63   1570    1.0\n",
       "mu[23]    0.55  1.1e-3   0.04   0.46   0.52   0.55   0.57   0.63   1570    1.0\n",
       "mu[24]    0.55  1.1e-3   0.04   0.46   0.52   0.55   0.57   0.63   1570    1.0\n",
       "mu[25]    0.55  1.1e-3   0.04   0.46   0.52   0.55   0.57   0.63   1570    1.0\n",
       "mu[26]    0.55  1.1e-3   0.04   0.46   0.52   0.55   0.57   0.63   1570    1.0\n",
       "mu[27]    0.55  1.1e-3   0.04   0.46   0.52   0.55   0.57   0.63   1570    1.0\n",
       "mu[28]    0.55  1.1e-3   0.04   0.46   0.52   0.55   0.57   0.63   1570    1.0\n",
       "lp__     43.38    0.05   1.79  39.11  42.46  43.73  44.68  45.73   1295    1.0\n",
       "\n",
       "Samples were drawn using NUTS at Mon Mar 12 19:03:05 2018.\n",
       "For each parameter, n_eff is a crude measure of effective sample size,\n",
       "and Rhat is the potential scale reduction factor on split chains (at \n",
       "convergence, Rhat=1)."
      ]
     },
     "execution_count": 23,
     "metadata": {},
     "output_type": "execute_result"
    }
   ],
   "source": [
    "categories_data = dict(\n",
    "    N=milk.shape[0],\n",
    "    K=clade_dummies.shape[1],\n",
    "    X=clade_dummies.as_matrix(),\n",
    "    k=milk['kcal.per.g']\n",
    ")\n",
    "\n",
    "fit2_1 = sm2_1.sampling(data=categories_data)\n",
    "fit2_1"
   ]
  },
  {
   "cell_type": "markdown",
   "metadata": {},
   "source": [
    "Alternatively, one can use a vector of intercepts paramaters, where each category has its own intercept. The results will be equivalent, but the results are now more easily interpretable."
   ]
  },
  {
   "cell_type": "code",
   "execution_count": 24,
   "metadata": {},
   "outputs": [
    {
     "name": "stdout",
     "output_type": "stream",
     "text": [
      "data {\n",
      "    int N;\n",
      "    int J;\n",
      "    int<lower=1, upper=J> clade_id[N];\n",
      "    vector[N] k;\n",
      "}\n",
      "parameters {\n",
      "    real alpha[J];\n",
      "    real<lower=0> sigma;\n",
      "}\n",
      "transformed parameters {\n",
      "    real mu[N];\n",
      "\n",
      "    for (n in 1:N) {\n",
      "        mu[n] = alpha[clade_id[n]];\n",
      "    }\n",
      "}\n",
      "model {\n",
      "    sigma ~ uniform(0, 10);\n",
      "    alpha ~ normal(0.6, 10);\n",
      "    k ~ normal(mu, sigma);\n",
      "}\n",
      "\n"
     ]
    }
   ],
   "source": [
    "sm2_1 = StanCache(filename='../models/categories_intercept.stan', cache_path='../cache').compile()\n",
    "sm2_1.model_code"
   ]
  },
  {
   "cell_type": "code",
   "execution_count": 25,
   "metadata": {},
   "outputs": [],
   "source": [
    "milk['clade_id'] = pd.Categorical(milk.clade).codes + 1"
   ]
  },
  {
   "cell_type": "code",
   "execution_count": 26,
   "metadata": {},
   "outputs": [
    {
     "name": "stderr",
     "output_type": "stream",
     "text": [
      "/home/gianluca/.virtualenvs/rethinking/lib/python3.6/site-packages/pystan/misc.py:399: FutureWarning: Conversion of the second argument of issubdtype from `float` to `np.floating` is deprecated. In future, it will be treated as `np.float64 == np.dtype(float).type`.\n",
      "  elif np.issubdtype(np.asarray(v).dtype, float):\n"
     ]
    },
    {
     "data": {
      "text/plain": [
       "Inference for Stan model: anon_model_0a009dcd7022e0ac539f9078a301b0d5.\n",
       "4 chains, each with iter=2000; warmup=1000; thin=1; \n",
       "post-warmup draws per chain=1000, total post-warmup draws=4000.\n",
       "\n",
       "           mean se_mean     sd   2.5%    25%    50%    75%  97.5%  n_eff   Rhat\n",
       "alpha[0]   0.55  6.9e-4   0.04   0.46   0.52   0.55   0.58   0.63   4000    1.0\n",
       "alpha[1]   0.71  7.0e-4   0.04   0.63   0.68   0.71   0.74    0.8   4000    1.0\n",
       "alpha[2]   0.79  8.6e-4   0.05   0.68   0.75   0.79   0.82    0.9   4000    1.0\n",
       "alpha[3]   0.51  9.2e-4   0.06   0.39   0.47   0.51   0.54   0.62   4000    1.0\n",
       "sigma      0.13  3.2e-4   0.02    0.1   0.12   0.13   0.14   0.18   4000    1.0\n",
       "mu[0]      0.51  9.2e-4   0.06   0.39   0.47   0.51   0.54   0.62   4000    1.0\n",
       "mu[1]      0.51  9.2e-4   0.06   0.39   0.47   0.51   0.54   0.62   4000    1.0\n",
       "mu[2]      0.51  9.2e-4   0.06   0.39   0.47   0.51   0.54   0.62   4000    1.0\n",
       "mu[3]      0.51  9.2e-4   0.06   0.39   0.47   0.51   0.54   0.62   4000    1.0\n",
       "mu[4]      0.51  9.2e-4   0.06   0.39   0.47   0.51   0.54   0.62   4000    1.0\n",
       "mu[5]      0.71  7.0e-4   0.04   0.63   0.68   0.71   0.74    0.8   4000    1.0\n",
       "mu[6]      0.71  7.0e-4   0.04   0.63   0.68   0.71   0.74    0.8   4000    1.0\n",
       "mu[7]      0.71  7.0e-4   0.04   0.63   0.68   0.71   0.74    0.8   4000    1.0\n",
       "mu[8]      0.71  7.0e-4   0.04   0.63   0.68   0.71   0.74    0.8   4000    1.0\n",
       "mu[9]      0.71  7.0e-4   0.04   0.63   0.68   0.71   0.74    0.8   4000    1.0\n",
       "mu[10]     0.71  7.0e-4   0.04   0.63   0.68   0.71   0.74    0.8   4000    1.0\n",
       "mu[11]     0.71  7.0e-4   0.04   0.63   0.68   0.71   0.74    0.8   4000    1.0\n",
       "mu[12]     0.71  7.0e-4   0.04   0.63   0.68   0.71   0.74    0.8   4000    1.0\n",
       "mu[13]     0.71  7.0e-4   0.04   0.63   0.68   0.71   0.74    0.8   4000    1.0\n",
       "mu[14]     0.79  8.6e-4   0.05   0.68   0.75   0.79   0.82    0.9   4000    1.0\n",
       "mu[15]     0.79  8.6e-4   0.05   0.68   0.75   0.79   0.82    0.9   4000    1.0\n",
       "mu[16]     0.79  8.6e-4   0.05   0.68   0.75   0.79   0.82    0.9   4000    1.0\n",
       "mu[17]     0.79  8.6e-4   0.05   0.68   0.75   0.79   0.82    0.9   4000    1.0\n",
       "mu[18]     0.79  8.6e-4   0.05   0.68   0.75   0.79   0.82    0.9   4000    1.0\n",
       "mu[19]     0.79  8.6e-4   0.05   0.68   0.75   0.79   0.82    0.9   4000    1.0\n",
       "mu[20]     0.55  6.9e-4   0.04   0.46   0.52   0.55   0.58   0.63   4000    1.0\n",
       "mu[21]     0.55  6.9e-4   0.04   0.46   0.52   0.55   0.58   0.63   4000    1.0\n",
       "mu[22]     0.55  6.9e-4   0.04   0.46   0.52   0.55   0.58   0.63   4000    1.0\n",
       "mu[23]     0.55  6.9e-4   0.04   0.46   0.52   0.55   0.58   0.63   4000    1.0\n",
       "mu[24]     0.55  6.9e-4   0.04   0.46   0.52   0.55   0.58   0.63   4000    1.0\n",
       "mu[25]     0.55  6.9e-4   0.04   0.46   0.52   0.55   0.58   0.63   4000    1.0\n",
       "mu[26]     0.55  6.9e-4   0.04   0.46   0.52   0.55   0.58   0.63   4000    1.0\n",
       "mu[27]     0.55  6.9e-4   0.04   0.46   0.52   0.55   0.58   0.63   4000    1.0\n",
       "mu[28]     0.55  6.9e-4   0.04   0.46   0.52   0.55   0.58   0.63   4000    1.0\n",
       "lp__       43.4    0.04   1.77  38.81  42.44  43.79  44.71  45.71   1649    1.0\n",
       "\n",
       "Samples were drawn using NUTS at Mon Mar 12 19:05:25 2018.\n",
       "For each parameter, n_eff is a crude measure of effective sample size,\n",
       "and Rhat is the potential scale reduction factor on split chains (at \n",
       "convergence, Rhat=1)."
      ]
     },
     "execution_count": 26,
     "metadata": {},
     "output_type": "execute_result"
    }
   ],
   "source": [
    "categories_data2 = dict(\n",
    "    N=milk.shape[0],\n",
    "    J=4,\n",
    "    clade_id=milk['clade_id'],\n",
    "    k=milk['kcal.per.g']\n",
    ")\n",
    "\n",
    "fit2_2 = sm2_1.sampling(data=categories_data2)\n",
    "fit2_2"
   ]
  }
 ],
 "metadata": {
  "kernelspec": {
   "display_name": "Python 3",
   "language": "python",
   "name": "python3"
  },
  "language_info": {
   "codemirror_mode": {
    "name": "ipython",
    "version": 3
   },
   "file_extension": ".py",
   "mimetype": "text/x-python",
   "name": "python",
   "nbconvert_exporter": "python",
   "pygments_lexer": "ipython3",
   "version": "3.6.3"
  }
 },
 "nbformat": 4,
 "nbformat_minor": 2
}
